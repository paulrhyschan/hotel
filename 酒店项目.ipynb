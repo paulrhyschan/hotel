{
 "cells": [
  {
   "cell_type": "markdown",
   "metadata": {},
   "source": [
    "# 项目：预定酒店场景下的用户行为预测 "
   ]
  },
  {
   "cell_type": "markdown",
   "metadata": {},
   "source": [
    "# 一、项目介绍\n",
    "## 背景\n",
    "* 你们可能想知道，当一位酒店经理接到一个提前一个月预定的酒店订单，这位经理是如何判断这位用户之后取消预约的概率。为了解答这个问题，本项目收集了来自kaggle的酒店预定需求数据集，尝试分析会导致用户取消预约的因素，并且寻找一些能使我们能够预测用户是否会取消预定的方法。这个项目涵盖了数据清洗，数据探索性分析，特征工程，建模预测以及AB test。\n",
    "* 这个项目的目标变量为‘is_canceled’，其取值分别为 ‘1’（取消预约）和 '0'（不会取消预约）\n",
    "* 虽然这个数据集是采集自kaggle，但根据kaggle的说明，其最初出处是Nuno Antonio等人发表的论文[1] (Hotel Booking Demand, Nuno Antonio et.al 2019)，有兴趣的读者请自行搜索此论文。"
   ]
  },
  {
   "cell_type": "markdown",
   "metadata": {},
   "source": [
    "# 二、加载数据集\n",
    "\n",
    "* 我们需要引用项目需要用到的包并读取数据"
   ]
  },
  {
   "cell_type": "code",
   "execution_count": 1,
   "metadata": {},
   "outputs": [
    {
     "name": "stderr",
     "output_type": "stream",
     "text": [
      "-- \u001b[1mAttaching packages\u001b[22m --------------------------------------- tidyverse 1.3.0 --\n",
      "\n",
      "\u001b[32m√\u001b[39m \u001b[34mggplot2\u001b[39m 3.3.0     \u001b[32m√\u001b[39m \u001b[34mpurrr  \u001b[39m 0.3.4\n",
      "\u001b[32m√\u001b[39m \u001b[34mtibble \u001b[39m 3.0.1     \u001b[32m√\u001b[39m \u001b[34mdplyr  \u001b[39m 0.8.5\n",
      "\u001b[32m√\u001b[39m \u001b[34mtidyr  \u001b[39m 1.1.0     \u001b[32m√\u001b[39m \u001b[34mstringr\u001b[39m 1.4.0\n",
      "\u001b[32m√\u001b[39m \u001b[34mreadr  \u001b[39m 1.3.1     \u001b[32m√\u001b[39m \u001b[34mforcats\u001b[39m 0.5.0\n",
      "\n",
      "-- \u001b[1mConflicts\u001b[22m ------------------------------------------ tidyverse_conflicts() --\n",
      "\u001b[31mx\u001b[39m \u001b[34mdplyr\u001b[39m::\u001b[32mfilter()\u001b[39m masks \u001b[34mstats\u001b[39m::filter()\n",
      "\u001b[31mx\u001b[39m \u001b[34mdplyr\u001b[39m::\u001b[32mlag()\u001b[39m    masks \u001b[34mstats\u001b[39m::lag()\n",
      "\n",
      "Loading required package: lattice\n",
      "\n",
      "\n",
      "Attaching package: 'caret'\n",
      "\n",
      "\n",
      "The following object is masked from 'package:purrr':\n",
      "\n",
      "    lift\n",
      "\n",
      "\n",
      "Loading required package: ParamHelpers\n",
      "\n",
      "'mlr' is in maintenance mode since July 2019. Future development\n",
      "efforts will go into its successor 'mlr3' (<https://mlr3.mlr-org.com>).\n",
      "\n",
      "\n",
      "Attaching package: 'mlr'\n",
      "\n",
      "\n",
      "The following object is masked from 'package:caret':\n",
      "\n",
      "    train\n",
      "\n",
      "\n",
      "\n",
      "Attaching package: 'lubridate'\n",
      "\n",
      "\n",
      "The following objects are masked from 'package:dplyr':\n",
      "\n",
      "    intersect, setdiff, union\n",
      "\n",
      "\n",
      "The following objects are masked from 'package:base':\n",
      "\n",
      "    date, intersect, setdiff, union\n",
      "\n",
      "\n"
     ]
    }
   ],
   "source": [
    "library(tidyverse) \n",
    " \n",
    "library(naniar) #handle missing values \n",
    "\n",
    "library(caret)# handle categorical variables \n",
    "\n",
    "library(mlr)# build machine learning model \n",
    "\n",
    "library(lubridate)  # extraction of a date-time onject\n",
    "\n",
    "library(FSelector)# feature selection\n",
    "\n",
    "library(ggcorrplot) # corr matrix\n",
    "\n",
    "#install.packages('infotheo')\n",
    "library('infotheo') # 分箱操作"
   ]
  },
  {
   "cell_type": "code",
   "execution_count": 2,
   "metadata": {},
   "outputs": [
    {
     "name": "stderr",
     "output_type": "stream",
     "text": [
      "Parsed with column specification:\n",
      "cols(\n",
      "  .default = col_double(),\n",
      "  hotel = \u001b[31mcol_character()\u001b[39m,\n",
      "  arrival_date_month = \u001b[31mcol_character()\u001b[39m,\n",
      "  meal = \u001b[31mcol_character()\u001b[39m,\n",
      "  country = \u001b[31mcol_character()\u001b[39m,\n",
      "  market_segment = \u001b[31mcol_character()\u001b[39m,\n",
      "  distribution_channel = \u001b[31mcol_character()\u001b[39m,\n",
      "  reserved_room_type = \u001b[31mcol_character()\u001b[39m,\n",
      "  assigned_room_type = \u001b[31mcol_character()\u001b[39m,\n",
      "  deposit_type = \u001b[31mcol_character()\u001b[39m,\n",
      "  customer_type = \u001b[31mcol_character()\u001b[39m,\n",
      "  reservation_status = \u001b[31mcol_character()\u001b[39m,\n",
      "  reservation_status_date = \u001b[31mcol_character()\u001b[39m\n",
      ")\n",
      "\n",
      "See spec(...) for full column specifications.\n",
      "\n"
     ]
    }
   ],
   "source": [
    "data <- read_csv('data.csv')"
   ]
  },
  {
   "cell_type": "code",
   "execution_count": 3,
   "metadata": {},
   "outputs": [
    {
     "name": "stdout",
     "output_type": "stream",
     "text": [
      "Rows: 119,390\n",
      "Columns: 32\n",
      "$ hotel                          \u001b[3m\u001b[90m<chr>\u001b[39m\u001b[23m \"City Hotel\", \"City Hotel\", \"Resort ...\n",
      "$ is_canceled                    \u001b[3m\u001b[90m<dbl>\u001b[39m\u001b[23m 1, 0, 0, 0, 1, 1, 0, 0, 0, 1, 0, 1, ...\n",
      "$ lead_time                      \u001b[3m\u001b[90m<dbl>\u001b[39m\u001b[23m 35, 0, 1, 81, 378, 59, 31, 104, 26, ...\n",
      "$ arrival_date_year              \u001b[3m\u001b[90m<dbl>\u001b[39m\u001b[23m 2016, 2017, 2015, 2016, 2017, 2017, ...\n",
      "$ arrival_date_month             \u001b[3m\u001b[90m<chr>\u001b[39m\u001b[23m \"March\", \"May\", \"July\", \"December\", ...\n",
      "$ arrival_date_week_number       \u001b[3m\u001b[90m<dbl>\u001b[39m\u001b[23m 13, 19, 29, 53, 31, 33, 31, 33, 31, ...\n",
      "$ arrival_date_day_of_month      \u001b[3m\u001b[90m<dbl>\u001b[39m\u001b[23m 25, 9, 15, 31, 1, 13, 1, 17, 31, 9, ...\n",
      "$ stays_in_weekend_nights        \u001b[3m\u001b[90m<dbl>\u001b[39m\u001b[23m 0, 0, 0, 1, 4, 2, 2, 2, 3, 2, 0, 1, ...\n",
      "$ stays_in_week_nights           \u001b[3m\u001b[90m<dbl>\u001b[39m\u001b[23m 1, 1, 1, 1, 10, 4, 6, 3, 5, 8, 3, 2,...\n",
      "$ adults                         \u001b[3m\u001b[90m<dbl>\u001b[39m\u001b[23m 2, 1, 2, 2, 2, 2, 2, 3, 3, 2, 2, 3, ...\n",
      "$ children                       \u001b[3m\u001b[90m<dbl>\u001b[39m\u001b[23m 0, 0, 0, 2, 0, 2, 2, 1, 2, 1, 0, 1, ...\n",
      "$ babies                         \u001b[3m\u001b[90m<dbl>\u001b[39m\u001b[23m 0, 0, 0, 0, 0, 0, 0, 0, 0, 0, 0, 0, ...\n",
      "$ meal                           \u001b[3m\u001b[90m<chr>\u001b[39m\u001b[23m \"BB\", \"BB\", \"BB\", \"BB\", \"BB\", \"FB\", ...\n",
      "$ country                        \u001b[3m\u001b[90m<chr>\u001b[39m\u001b[23m \"PRT\", \"ITA\", \"PRT\", \"PRT\", \"PRT\", \"...\n",
      "$ market_segment                 \u001b[3m\u001b[90m<chr>\u001b[39m\u001b[23m \"Offline TA/TO\", \"Offline TA/TO\", \"C...\n",
      "$ distribution_channel           \u001b[3m\u001b[90m<chr>\u001b[39m\u001b[23m \"TA/TO\", \"TA/TO\", \"Corporate\", \"Dire...\n",
      "$ is_repeated_guest              \u001b[3m\u001b[90m<dbl>\u001b[39m\u001b[23m 0, 0, 1, 0, 0, 0, 0, 0, 0, 0, 0, 0, ...\n",
      "$ previous_cancellations         \u001b[3m\u001b[90m<dbl>\u001b[39m\u001b[23m 0, 0, 0, 0, 0, 0, 0, 0, 0, 0, 0, 0, ...\n",
      "$ previous_bookings_not_canceled \u001b[3m\u001b[90m<dbl>\u001b[39m\u001b[23m 0, 0, 1, 0, 0, 0, 0, 0, 0, 0, 0, 0, ...\n",
      "$ reserved_room_type             \u001b[3m\u001b[90m<chr>\u001b[39m\u001b[23m \"A\", \"A\", \"A\", \"E\", \"A\", \"H\", \"G\", \"...\n",
      "$ assigned_room_type             \u001b[3m\u001b[90m<chr>\u001b[39m\u001b[23m \"A\", \"G\", \"C\", \"E\", \"A\", \"H\", \"G\", \"...\n",
      "$ booking_changes                \u001b[3m\u001b[90m<dbl>\u001b[39m\u001b[23m 1, 0, 0, 1, 0, 1, 0, 2, 1, 3, 1, 0, ...\n",
      "$ deposit_type                   \u001b[3m\u001b[90m<chr>\u001b[39m\u001b[23m \"Non Refund\", \"No Deposit\", \"No Depo...\n",
      "$ agent                          \u001b[3m\u001b[90m<dbl>\u001b[39m\u001b[23m 12, 159, NA, NA, 314, 250, 250, 240,...\n",
      "$ company                        \u001b[3m\u001b[90m<dbl>\u001b[39m\u001b[23m NA, NA, NA, NA, NA, NA, NA, NA, NA, ...\n",
      "$ days_in_waiting_list           \u001b[3m\u001b[90m<dbl>\u001b[39m\u001b[23m 0, 0, 0, 0, 0, 0, 0, 0, 0, 0, 0, 0, ...\n",
      "$ customer_type                  \u001b[3m\u001b[90m<chr>\u001b[39m\u001b[23m \"Transient\", \"Transient\", \"Transient...\n",
      "$ adr                            \u001b[3m\u001b[90m<dbl>\u001b[39m\u001b[23m 5400.00, 510.00, 508.00, 451.50, 450...\n",
      "$ required_car_parking_spaces    \u001b[3m\u001b[90m<dbl>\u001b[39m\u001b[23m 0, 0, 1, 0, 0, 0, 0, 0, 0, 0, 1, 0, ...\n",
      "$ total_of_special_requests      \u001b[3m\u001b[90m<dbl>\u001b[39m\u001b[23m 0, 0, 0, 4, 0, 0, 2, 1, 1, 0, 1, 0, ...\n",
      "$ reservation_status             \u001b[3m\u001b[90m<chr>\u001b[39m\u001b[23m \"Canceled\", \"Check-Out\", \"Check-Out\"...\n",
      "$ reservation_status_date        \u001b[3m\u001b[90m<chr>\u001b[39m\u001b[23m \"2016/2/19\", \"2017/5/10\", \"2015/7/16...\n"
     ]
    }
   ],
   "source": [
    "glimpse(data)"
   ]
  },
  {
   "cell_type": "markdown",
   "metadata": {},
   "source": [
    "# 三、数据清洗\n",
    "我们需要先对数据集存在的缺失值，异常值进行清洗，从而避免噪声数据对后续建模产生影响\n",
    "### 1、缺失值检测"
   ]
  },
  {
   "cell_type": "code",
   "execution_count": 4,
   "metadata": {},
   "outputs": [
    {
     "data": {
      "text/html": [
       "<table>\n",
       "<caption>A tibble: 32 × 3</caption>\n",
       "<thead>\n",
       "\t<tr><th scope=col>variable</th><th scope=col>n_miss</th><th scope=col>pct_miss</th></tr>\n",
       "\t<tr><th scope=col>&lt;chr&gt;</th><th scope=col>&lt;int&gt;</th><th scope=col>&lt;dbl&gt;</th></tr>\n",
       "</thead>\n",
       "<tbody>\n",
       "\t<tr><td>company                       </td><td>112593</td><td>94.306893375</td></tr>\n",
       "\t<tr><td>agent                         </td><td> 16340</td><td>13.686238378</td></tr>\n",
       "\t<tr><td>country                       </td><td>   488</td><td> 0.408744451</td></tr>\n",
       "\t<tr><td>children                      </td><td>     4</td><td> 0.003350364</td></tr>\n",
       "\t<tr><td>hotel                         </td><td>     0</td><td> 0.000000000</td></tr>\n",
       "\t<tr><td>is_canceled                   </td><td>     0</td><td> 0.000000000</td></tr>\n",
       "\t<tr><td>lead_time                     </td><td>     0</td><td> 0.000000000</td></tr>\n",
       "\t<tr><td>arrival_date_year             </td><td>     0</td><td> 0.000000000</td></tr>\n",
       "\t<tr><td>arrival_date_month            </td><td>     0</td><td> 0.000000000</td></tr>\n",
       "\t<tr><td>arrival_date_week_number      </td><td>     0</td><td> 0.000000000</td></tr>\n",
       "\t<tr><td>arrival_date_day_of_month     </td><td>     0</td><td> 0.000000000</td></tr>\n",
       "\t<tr><td>stays_in_weekend_nights       </td><td>     0</td><td> 0.000000000</td></tr>\n",
       "\t<tr><td>stays_in_week_nights          </td><td>     0</td><td> 0.000000000</td></tr>\n",
       "\t<tr><td>adults                        </td><td>     0</td><td> 0.000000000</td></tr>\n",
       "\t<tr><td>babies                        </td><td>     0</td><td> 0.000000000</td></tr>\n",
       "\t<tr><td>meal                          </td><td>     0</td><td> 0.000000000</td></tr>\n",
       "\t<tr><td>market_segment                </td><td>     0</td><td> 0.000000000</td></tr>\n",
       "\t<tr><td>distribution_channel          </td><td>     0</td><td> 0.000000000</td></tr>\n",
       "\t<tr><td>is_repeated_guest             </td><td>     0</td><td> 0.000000000</td></tr>\n",
       "\t<tr><td>previous_cancellations        </td><td>     0</td><td> 0.000000000</td></tr>\n",
       "\t<tr><td>previous_bookings_not_canceled</td><td>     0</td><td> 0.000000000</td></tr>\n",
       "\t<tr><td>reserved_room_type            </td><td>     0</td><td> 0.000000000</td></tr>\n",
       "\t<tr><td>assigned_room_type            </td><td>     0</td><td> 0.000000000</td></tr>\n",
       "\t<tr><td>booking_changes               </td><td>     0</td><td> 0.000000000</td></tr>\n",
       "\t<tr><td>deposit_type                  </td><td>     0</td><td> 0.000000000</td></tr>\n",
       "\t<tr><td>days_in_waiting_list          </td><td>     0</td><td> 0.000000000</td></tr>\n",
       "\t<tr><td>customer_type                 </td><td>     0</td><td> 0.000000000</td></tr>\n",
       "\t<tr><td>adr                           </td><td>     0</td><td> 0.000000000</td></tr>\n",
       "\t<tr><td>required_car_parking_spaces   </td><td>     0</td><td> 0.000000000</td></tr>\n",
       "\t<tr><td>total_of_special_requests     </td><td>     0</td><td> 0.000000000</td></tr>\n",
       "\t<tr><td>reservation_status            </td><td>     0</td><td> 0.000000000</td></tr>\n",
       "\t<tr><td>reservation_status_date       </td><td>     0</td><td> 0.000000000</td></tr>\n",
       "</tbody>\n",
       "</table>\n"
      ],
      "text/latex": [
       "A tibble: 32 × 3\n",
       "\\begin{tabular}{lll}\n",
       " variable & n\\_miss & pct\\_miss\\\\\n",
       " <chr> & <int> & <dbl>\\\\\n",
       "\\hline\n",
       "\t company                        & 112593 & 94.306893375\\\\\n",
       "\t agent                          &  16340 & 13.686238378\\\\\n",
       "\t country                        &    488 &  0.408744451\\\\\n",
       "\t children                       &      4 &  0.003350364\\\\\n",
       "\t hotel                          &      0 &  0.000000000\\\\\n",
       "\t is\\_canceled                    &      0 &  0.000000000\\\\\n",
       "\t lead\\_time                      &      0 &  0.000000000\\\\\n",
       "\t arrival\\_date\\_year              &      0 &  0.000000000\\\\\n",
       "\t arrival\\_date\\_month             &      0 &  0.000000000\\\\\n",
       "\t arrival\\_date\\_week\\_number       &      0 &  0.000000000\\\\\n",
       "\t arrival\\_date\\_day\\_of\\_month      &      0 &  0.000000000\\\\\n",
       "\t stays\\_in\\_weekend\\_nights        &      0 &  0.000000000\\\\\n",
       "\t stays\\_in\\_week\\_nights           &      0 &  0.000000000\\\\\n",
       "\t adults                         &      0 &  0.000000000\\\\\n",
       "\t babies                         &      0 &  0.000000000\\\\\n",
       "\t meal                           &      0 &  0.000000000\\\\\n",
       "\t market\\_segment                 &      0 &  0.000000000\\\\\n",
       "\t distribution\\_channel           &      0 &  0.000000000\\\\\n",
       "\t is\\_repeated\\_guest              &      0 &  0.000000000\\\\\n",
       "\t previous\\_cancellations         &      0 &  0.000000000\\\\\n",
       "\t previous\\_bookings\\_not\\_canceled &      0 &  0.000000000\\\\\n",
       "\t reserved\\_room\\_type             &      0 &  0.000000000\\\\\n",
       "\t assigned\\_room\\_type             &      0 &  0.000000000\\\\\n",
       "\t booking\\_changes                &      0 &  0.000000000\\\\\n",
       "\t deposit\\_type                   &      0 &  0.000000000\\\\\n",
       "\t days\\_in\\_waiting\\_list           &      0 &  0.000000000\\\\\n",
       "\t customer\\_type                  &      0 &  0.000000000\\\\\n",
       "\t adr                            &      0 &  0.000000000\\\\\n",
       "\t required\\_car\\_parking\\_spaces    &      0 &  0.000000000\\\\\n",
       "\t total\\_of\\_special\\_requests      &      0 &  0.000000000\\\\\n",
       "\t reservation\\_status             &      0 &  0.000000000\\\\\n",
       "\t reservation\\_status\\_date        &      0 &  0.000000000\\\\\n",
       "\\end{tabular}\n"
      ],
      "text/markdown": [
       "\n",
       "A tibble: 32 × 3\n",
       "\n",
       "| variable &lt;chr&gt; | n_miss &lt;int&gt; | pct_miss &lt;dbl&gt; |\n",
       "|---|---|---|\n",
       "| company                        | 112593 | 94.306893375 |\n",
       "| agent                          |  16340 | 13.686238378 |\n",
       "| country                        |    488 |  0.408744451 |\n",
       "| children                       |      4 |  0.003350364 |\n",
       "| hotel                          |      0 |  0.000000000 |\n",
       "| is_canceled                    |      0 |  0.000000000 |\n",
       "| lead_time                      |      0 |  0.000000000 |\n",
       "| arrival_date_year              |      0 |  0.000000000 |\n",
       "| arrival_date_month             |      0 |  0.000000000 |\n",
       "| arrival_date_week_number       |      0 |  0.000000000 |\n",
       "| arrival_date_day_of_month      |      0 |  0.000000000 |\n",
       "| stays_in_weekend_nights        |      0 |  0.000000000 |\n",
       "| stays_in_week_nights           |      0 |  0.000000000 |\n",
       "| adults                         |      0 |  0.000000000 |\n",
       "| babies                         |      0 |  0.000000000 |\n",
       "| meal                           |      0 |  0.000000000 |\n",
       "| market_segment                 |      0 |  0.000000000 |\n",
       "| distribution_channel           |      0 |  0.000000000 |\n",
       "| is_repeated_guest              |      0 |  0.000000000 |\n",
       "| previous_cancellations         |      0 |  0.000000000 |\n",
       "| previous_bookings_not_canceled |      0 |  0.000000000 |\n",
       "| reserved_room_type             |      0 |  0.000000000 |\n",
       "| assigned_room_type             |      0 |  0.000000000 |\n",
       "| booking_changes                |      0 |  0.000000000 |\n",
       "| deposit_type                   |      0 |  0.000000000 |\n",
       "| days_in_waiting_list           |      0 |  0.000000000 |\n",
       "| customer_type                  |      0 |  0.000000000 |\n",
       "| adr                            |      0 |  0.000000000 |\n",
       "| required_car_parking_spaces    |      0 |  0.000000000 |\n",
       "| total_of_special_requests      |      0 |  0.000000000 |\n",
       "| reservation_status             |      0 |  0.000000000 |\n",
       "| reservation_status_date        |      0 |  0.000000000 |\n",
       "\n"
      ],
      "text/plain": [
       "   variable                       n_miss pct_miss    \n",
       "1  company                        112593 94.306893375\n",
       "2  agent                           16340 13.686238378\n",
       "3  country                           488  0.408744451\n",
       "4  children                            4  0.003350364\n",
       "5  hotel                               0  0.000000000\n",
       "6  is_canceled                         0  0.000000000\n",
       "7  lead_time                           0  0.000000000\n",
       "8  arrival_date_year                   0  0.000000000\n",
       "9  arrival_date_month                  0  0.000000000\n",
       "10 arrival_date_week_number            0  0.000000000\n",
       "11 arrival_date_day_of_month           0  0.000000000\n",
       "12 stays_in_weekend_nights             0  0.000000000\n",
       "13 stays_in_week_nights                0  0.000000000\n",
       "14 adults                              0  0.000000000\n",
       "15 babies                              0  0.000000000\n",
       "16 meal                                0  0.000000000\n",
       "17 market_segment                      0  0.000000000\n",
       "18 distribution_channel                0  0.000000000\n",
       "19 is_repeated_guest                   0  0.000000000\n",
       "20 previous_cancellations              0  0.000000000\n",
       "21 previous_bookings_not_canceled      0  0.000000000\n",
       "22 reserved_room_type                  0  0.000000000\n",
       "23 assigned_room_type                  0  0.000000000\n",
       "24 booking_changes                     0  0.000000000\n",
       "25 deposit_type                        0  0.000000000\n",
       "26 days_in_waiting_list                0  0.000000000\n",
       "27 customer_type                       0  0.000000000\n",
       "28 adr                                 0  0.000000000\n",
       "29 required_car_parking_spaces         0  0.000000000\n",
       "30 total_of_special_requests           0  0.000000000\n",
       "31 reservation_status                  0  0.000000000\n",
       "32 reservation_status_date             0  0.000000000"
      ]
     },
     "metadata": {},
     "output_type": "display_data"
    },
    {
     "data": {
      "image/png": "[encoded data removed]",
      "text/plain": [
       "plot without title"
      ]
     },
     "metadata": {
      "image/png": {
       "height": 420,
       "width": 420
      },
      "text/plain": {
       "height": 420,
       "width": 420
      }
     },
     "output_type": "display_data"
    }
   ],
   "source": [
    "### provide a summary for each variable of the number, \n",
    "#percent missings, and sum of missings values \n",
    "miss_var_summary(data)   #naniar package\n",
    "#draws a ggplot of the number of missings in each variable, \n",
    "#ordered to show which variables have the most missing data\n",
    "gg_miss_var(data)   #naniar package"
   ]
  },
  {
   "cell_type": "code",
   "execution_count": 5,
   "metadata": {},
   "outputs": [],
   "source": [
    "#drop column `company` \n",
    "data <- data %>% select(-company)"
   ]
  },
  {
   "cell_type": "code",
   "execution_count": 6,
   "metadata": {},
   "outputs": [],
   "source": [
    "#drop rows with missing values  and  delete `company`\n",
    "data <- data %>% drop_na()"
   ]
  },
  {
   "cell_type": "code",
   "execution_count": 7,
   "metadata": {
    "scrolled": true
   },
   "outputs": [
    {
     "data": {
      "text/html": [
       "<table>\n",
       "<caption>A tibble: 31 × 3</caption>\n",
       "<thead>\n",
       "\t<tr><th scope=col>variable</th><th scope=col>n_miss</th><th scope=col>pct_miss</th></tr>\n",
       "\t<tr><th scope=col>&lt;chr&gt;</th><th scope=col>&lt;int&gt;</th><th scope=col>&lt;dbl&gt;</th></tr>\n",
       "</thead>\n",
       "<tbody>\n",
       "\t<tr><td>hotel                         </td><td>0</td><td>0</td></tr>\n",
       "\t<tr><td>is_canceled                   </td><td>0</td><td>0</td></tr>\n",
       "\t<tr><td>lead_time                     </td><td>0</td><td>0</td></tr>\n",
       "\t<tr><td>arrival_date_year             </td><td>0</td><td>0</td></tr>\n",
       "\t<tr><td>arrival_date_month            </td><td>0</td><td>0</td></tr>\n",
       "\t<tr><td>arrival_date_week_number      </td><td>0</td><td>0</td></tr>\n",
       "\t<tr><td>arrival_date_day_of_month     </td><td>0</td><td>0</td></tr>\n",
       "\t<tr><td>stays_in_weekend_nights       </td><td>0</td><td>0</td></tr>\n",
       "\t<tr><td>stays_in_week_nights          </td><td>0</td><td>0</td></tr>\n",
       "\t<tr><td>adults                        </td><td>0</td><td>0</td></tr>\n",
       "\t<tr><td>children                      </td><td>0</td><td>0</td></tr>\n",
       "\t<tr><td>babies                        </td><td>0</td><td>0</td></tr>\n",
       "\t<tr><td>meal                          </td><td>0</td><td>0</td></tr>\n",
       "\t<tr><td>country                       </td><td>0</td><td>0</td></tr>\n",
       "\t<tr><td>market_segment                </td><td>0</td><td>0</td></tr>\n",
       "\t<tr><td>distribution_channel          </td><td>0</td><td>0</td></tr>\n",
       "\t<tr><td>is_repeated_guest             </td><td>0</td><td>0</td></tr>\n",
       "\t<tr><td>previous_cancellations        </td><td>0</td><td>0</td></tr>\n",
       "\t<tr><td>previous_bookings_not_canceled</td><td>0</td><td>0</td></tr>\n",
       "\t<tr><td>reserved_room_type            </td><td>0</td><td>0</td></tr>\n",
       "\t<tr><td>assigned_room_type            </td><td>0</td><td>0</td></tr>\n",
       "\t<tr><td>booking_changes               </td><td>0</td><td>0</td></tr>\n",
       "\t<tr><td>deposit_type                  </td><td>0</td><td>0</td></tr>\n",
       "\t<tr><td>agent                         </td><td>0</td><td>0</td></tr>\n",
       "\t<tr><td>days_in_waiting_list          </td><td>0</td><td>0</td></tr>\n",
       "\t<tr><td>customer_type                 </td><td>0</td><td>0</td></tr>\n",
       "\t<tr><td>adr                           </td><td>0</td><td>0</td></tr>\n",
       "\t<tr><td>required_car_parking_spaces   </td><td>0</td><td>0</td></tr>\n",
       "\t<tr><td>total_of_special_requests     </td><td>0</td><td>0</td></tr>\n",
       "\t<tr><td>reservation_status            </td><td>0</td><td>0</td></tr>\n",
       "\t<tr><td>reservation_status_date       </td><td>0</td><td>0</td></tr>\n",
       "</tbody>\n",
       "</table>\n"
      ],
      "text/latex": [
       "A tibble: 31 × 3\n",
       "\\begin{tabular}{lll}\n",
       " variable & n\\_miss & pct\\_miss\\\\\n",
       " <chr> & <int> & <dbl>\\\\\n",
       "\\hline\n",
       "\t hotel                          & 0 & 0\\\\\n",
       "\t is\\_canceled                    & 0 & 0\\\\\n",
       "\t lead\\_time                      & 0 & 0\\\\\n",
       "\t arrival\\_date\\_year              & 0 & 0\\\\\n",
       "\t arrival\\_date\\_month             & 0 & 0\\\\\n",
       "\t arrival\\_date\\_week\\_number       & 0 & 0\\\\\n",
       "\t arrival\\_date\\_day\\_of\\_month      & 0 & 0\\\\\n",
       "\t stays\\_in\\_weekend\\_nights        & 0 & 0\\\\\n",
       "\t stays\\_in\\_week\\_nights           & 0 & 0\\\\\n",
       "\t adults                         & 0 & 0\\\\\n",
       "\t children                       & 0 & 0\\\\\n",
       "\t babies                         & 0 & 0\\\\\n",
       "\t meal                           & 0 & 0\\\\\n",
       "\t country                        & 0 & 0\\\\\n",
       "\t market\\_segment                 & 0 & 0\\\\\n",
       "\t distribution\\_channel           & 0 & 0\\\\\n",
       "\t is\\_repeated\\_guest              & 0 & 0\\\\\n",
       "\t previous\\_cancellations         & 0 & 0\\\\\n",
       "\t previous\\_bookings\\_not\\_canceled & 0 & 0\\\\\n",
       "\t reserved\\_room\\_type             & 0 & 0\\\\\n",
       "\t assigned\\_room\\_type             & 0 & 0\\\\\n",
       "\t booking\\_changes                & 0 & 0\\\\\n",
       "\t deposit\\_type                   & 0 & 0\\\\\n",
       "\t agent                          & 0 & 0\\\\\n",
       "\t days\\_in\\_waiting\\_list           & 0 & 0\\\\\n",
       "\t customer\\_type                  & 0 & 0\\\\\n",
       "\t adr                            & 0 & 0\\\\\n",
       "\t required\\_car\\_parking\\_spaces    & 0 & 0\\\\\n",
       "\t total\\_of\\_special\\_requests      & 0 & 0\\\\\n",
       "\t reservation\\_status             & 0 & 0\\\\\n",
       "\t reservation\\_status\\_date        & 0 & 0\\\\\n",
       "\\end{tabular}\n"
      ],
      "text/markdown": [
       "\n",
       "A tibble: 31 × 3\n",
       "\n",
       "| variable &lt;chr&gt; | n_miss &lt;int&gt; | pct_miss &lt;dbl&gt; |\n",
       "|---|---|---|\n",
       "| hotel                          | 0 | 0 |\n",
       "| is_canceled                    | 0 | 0 |\n",
       "| lead_time                      | 0 | 0 |\n",
       "| arrival_date_year              | 0 | 0 |\n",
       "| arrival_date_month             | 0 | 0 |\n",
       "| arrival_date_week_number       | 0 | 0 |\n",
       "| arrival_date_day_of_month      | 0 | 0 |\n",
       "| stays_in_weekend_nights        | 0 | 0 |\n",
       "| stays_in_week_nights           | 0 | 0 |\n",
       "| adults                         | 0 | 0 |\n",
       "| children                       | 0 | 0 |\n",
       "| babies                         | 0 | 0 |\n",
       "| meal                           | 0 | 0 |\n",
       "| country                        | 0 | 0 |\n",
       "| market_segment                 | 0 | 0 |\n",
       "| distribution_channel           | 0 | 0 |\n",
       "| is_repeated_guest              | 0 | 0 |\n",
       "| previous_cancellations         | 0 | 0 |\n",
       "| previous_bookings_not_canceled | 0 | 0 |\n",
       "| reserved_room_type             | 0 | 0 |\n",
       "| assigned_room_type             | 0 | 0 |\n",
       "| booking_changes                | 0 | 0 |\n",
       "| deposit_type                   | 0 | 0 |\n",
       "| agent                          | 0 | 0 |\n",
       "| days_in_waiting_list           | 0 | 0 |\n",
       "| customer_type                  | 0 | 0 |\n",
       "| adr                            | 0 | 0 |\n",
       "| required_car_parking_spaces    | 0 | 0 |\n",
       "| total_of_special_requests      | 0 | 0 |\n",
       "| reservation_status             | 0 | 0 |\n",
       "| reservation_status_date        | 0 | 0 |\n",
       "\n"
      ],
      "text/plain": [
       "   variable                       n_miss pct_miss\n",
       "1  hotel                          0      0       \n",
       "2  is_canceled                    0      0       \n",
       "3  lead_time                      0      0       \n",
       "4  arrival_date_year              0      0       \n",
       "5  arrival_date_month             0      0       \n",
       "6  arrival_date_week_number       0      0       \n",
       "7  arrival_date_day_of_month      0      0       \n",
       "8  stays_in_weekend_nights        0      0       \n",
       "9  stays_in_week_nights           0      0       \n",
       "10 adults                         0      0       \n",
       "11 children                       0      0       \n",
       "12 babies                         0      0       \n",
       "13 meal                           0      0       \n",
       "14 country                        0      0       \n",
       "15 market_segment                 0      0       \n",
       "16 distribution_channel           0      0       \n",
       "17 is_repeated_guest              0      0       \n",
       "18 previous_cancellations         0      0       \n",
       "19 previous_bookings_not_canceled 0      0       \n",
       "20 reserved_room_type             0      0       \n",
       "21 assigned_room_type             0      0       \n",
       "22 booking_changes                0      0       \n",
       "23 deposit_type                   0      0       \n",
       "24 agent                          0      0       \n",
       "25 days_in_waiting_list           0      0       \n",
       "26 customer_type                  0      0       \n",
       "27 adr                            0      0       \n",
       "28 required_car_parking_spaces    0      0       \n",
       "29 total_of_special_requests      0      0       \n",
       "30 reservation_status             0      0       \n",
       "31 reservation_status_date        0      0       "
      ]
     },
     "metadata": {},
     "output_type": "display_data"
    }
   ],
   "source": [
    "#check again, there is no missing value\n",
    "miss_var_summary(data)"
   ]
  },
  {
   "attachments": {
    "image.png": {
     "image/png": "[encoded data removed]"
    }
   },
   "cell_type": "markdown",
   "metadata": {},
   "source": [
    "数据一共有36列，有5列存在缺失值情况，最高缺失值的比例高达94.3%，对缺失值的处理，我们的处理方法为：将其所在列删除。\n",
    "另外，在数据预处理过程中对缺失值的处理方法还有其他方法，如下![image.png](attachment:image.png)"
   ]
  },
  {
   "cell_type": "code",
   "execution_count": 8,
   "metadata": {
    "scrolled": true
   },
   "outputs": [
    {
     "name": "stdout",
     "output_type": "stream",
     "text": [
      "Rows: 102,894\n",
      "Columns: 31\n",
      "$ hotel                          \u001b[3m\u001b[90m<chr>\u001b[39m\u001b[23m \"City Hotel\", \"City Hotel\", \"Resort ...\n",
      "$ is_canceled                    \u001b[3m\u001b[90m<dbl>\u001b[39m\u001b[23m 1, 0, 1, 1, 0, 0, 0, 1, 0, 1, 0, 0, ...\n",
      "$ lead_time                      \u001b[3m\u001b[90m<dbl>\u001b[39m\u001b[23m 35, 0, 378, 59, 31, 104, 26, 116, 24...\n",
      "$ arrival_date_year              \u001b[3m\u001b[90m<dbl>\u001b[39m\u001b[23m 2016, 2017, 2017, 2017, 2017, 2017, ...\n",
      "$ arrival_date_month             \u001b[3m\u001b[90m<chr>\u001b[39m\u001b[23m \"March\", \"May\", \"August\", \"August\", ...\n",
      "$ arrival_date_week_number       \u001b[3m\u001b[90m<dbl>\u001b[39m\u001b[23m 13, 19, 31, 33, 31, 33, 31, 32, 33, ...\n",
      "$ arrival_date_day_of_month      \u001b[3m\u001b[90m<dbl>\u001b[39m\u001b[23m 25, 9, 1, 13, 1, 17, 31, 9, 17, 14, ...\n",
      "$ stays_in_weekend_nights        \u001b[3m\u001b[90m<dbl>\u001b[39m\u001b[23m 0, 0, 4, 2, 2, 2, 3, 2, 0, 1, 1, 1, ...\n",
      "$ stays_in_week_nights           \u001b[3m\u001b[90m<dbl>\u001b[39m\u001b[23m 1, 1, 10, 4, 6, 3, 5, 8, 3, 2, 4, 2,...\n",
      "$ adults                         \u001b[3m\u001b[90m<dbl>\u001b[39m\u001b[23m 2, 1, 2, 2, 2, 3, 3, 2, 2, 3, 3, 2, ...\n",
      "$ children                       \u001b[3m\u001b[90m<dbl>\u001b[39m\u001b[23m 0, 0, 0, 2, 2, 1, 2, 1, 0, 1, 1, 2, ...\n",
      "$ babies                         \u001b[3m\u001b[90m<dbl>\u001b[39m\u001b[23m 0, 0, 0, 0, 0, 0, 0, 0, 0, 0, 0, 0, ...\n",
      "$ meal                           \u001b[3m\u001b[90m<chr>\u001b[39m\u001b[23m \"BB\", \"BB\", \"BB\", \"FB\", \"Undefined\",...\n",
      "$ country                        \u001b[3m\u001b[90m<chr>\u001b[39m\u001b[23m \"PRT\", \"ITA\", \"PRT\", \"PRT\", \"PRT\", \"...\n",
      "$ market_segment                 \u001b[3m\u001b[90m<chr>\u001b[39m\u001b[23m \"Offline TA/TO\", \"Offline TA/TO\", \"O...\n",
      "$ distribution_channel           \u001b[3m\u001b[90m<chr>\u001b[39m\u001b[23m \"TA/TO\", \"TA/TO\", \"TA/TO\", \"Direct\",...\n",
      "$ is_repeated_guest              \u001b[3m\u001b[90m<dbl>\u001b[39m\u001b[23m 0, 0, 0, 0, 0, 0, 0, 0, 0, 0, 0, 0, ...\n",
      "$ previous_cancellations         \u001b[3m\u001b[90m<dbl>\u001b[39m\u001b[23m 0, 0, 0, 0, 0, 0, 0, 0, 0, 0, 0, 0, ...\n",
      "$ previous_bookings_not_canceled \u001b[3m\u001b[90m<dbl>\u001b[39m\u001b[23m 0, 0, 0, 0, 0, 0, 0, 0, 0, 0, 0, 0, ...\n",
      "$ reserved_room_type             \u001b[3m\u001b[90m<chr>\u001b[39m\u001b[23m \"A\", \"A\", \"A\", \"H\", \"G\", \"H\", \"H\", \"...\n",
      "$ assigned_room_type             \u001b[3m\u001b[90m<chr>\u001b[39m\u001b[23m \"A\", \"G\", \"A\", \"H\", \"G\", \"H\", \"H\", \"...\n",
      "$ booking_changes                \u001b[3m\u001b[90m<dbl>\u001b[39m\u001b[23m 1, 0, 0, 1, 0, 2, 1, 3, 1, 0, 0, 1, ...\n",
      "$ deposit_type                   \u001b[3m\u001b[90m<chr>\u001b[39m\u001b[23m \"Non Refund\", \"No Deposit\", \"No Depo...\n",
      "$ agent                          \u001b[3m\u001b[90m<dbl>\u001b[39m\u001b[23m 12, 159, 314, 250, 250, 240, 250, 25...\n",
      "$ days_in_waiting_list           \u001b[3m\u001b[90m<dbl>\u001b[39m\u001b[23m 0, 0, 0, 0, 0, 0, 0, 0, 0, 0, 0, 0, ...\n",
      "$ customer_type                  \u001b[3m\u001b[90m<chr>\u001b[39m\u001b[23m \"Transient\", \"Transient\", \"Transient...\n",
      "$ adr                            \u001b[3m\u001b[90m<dbl>\u001b[39m\u001b[23m 5400.00, 510.00, 450.00, 437.00, 426...\n",
      "$ required_car_parking_spaces    \u001b[3m\u001b[90m<dbl>\u001b[39m\u001b[23m 0, 0, 0, 0, 0, 0, 0, 0, 1, 0, 0, 0, ...\n",
      "$ total_of_special_requests      \u001b[3m\u001b[90m<dbl>\u001b[39m\u001b[23m 0, 0, 0, 0, 2, 1, 1, 0, 1, 0, 2, 3, ...\n",
      "$ reservation_status             \u001b[3m\u001b[90m<chr>\u001b[39m\u001b[23m \"Canceled\", \"Check-Out\", \"Canceled\",...\n",
      "$ reservation_status_date        \u001b[3m\u001b[90m<chr>\u001b[39m\u001b[23m \"2016/2/19\", \"2017/5/10\", \"2016/7/22...\n"
     ]
    }
   ],
   "source": [
    "glimpse(data)"
   ]
  },
  {
   "cell_type": "markdown",
   "metadata": {},
   "source": [
    "### 2、特征工程\n",
    "#### 在检测异常值之前，可以先对现有特征进行合理构建，转化以及精简\n",
    "#### 2.1 特征构建\n",
    "* 从 `reservation_status_date`  分别提取出 年，月并构建新变量`reservation_year`,`reservation_month`  \n",
    "* 从 `arrival_date_month`  分别提取出 年，月并构建新变量`arrival_date_month`\n",
    "\n",
    "#### 2.2 特征转化\n",
    "该步骤旨在 将数值型变量（double）转换为字符型变量（character）以便于分析\n",
    "* `required_car_parking_spaces` 含义为 用户要求的停车位个数，应该离散型变量，故需将其转化为字符型变量（character）\n",
    "* 2.1步骤中新建的四个变量均转化为字符型变量（character）均便于后续分析\n",
    "\n",
    "#### 2.3 特征精简\n",
    "这一步目的在于删除冗余特征以及无相关变量\n",
    "* adr:Average Daily Rate as defined by dividing the sum of all lodging transactions by the total number of staying night\n",
    "该变量指的是 所有成交订单的订单总额与夜晚停留的总次数的比值，我的理解是当用户取消预定时，adr这个变量此时无意义，因此对预测用户是否取消预测无帮助，因此我们将其删除。\n",
    "* country：该类别型变量指的是用户的来源国，此列有172个不同值，即用户来自172个国家，类别过多，不方便用于建模分析，不作为考虑\n",
    "* reservation_status：Reservation last status, assuming one of three categories: Canceled – booking was canceled by the customer; Check-Out – customer has checked in but already departed; No-Show – customer did not check-in and did inform the hotel of the reason why\n",
    "该变量指的是用户预定的最后状态，有“取消预定”，“退房”or“没出现”，这个变量提前泄露个用户是否取消预定酒店订单的信息，因此不能作为自变量使用，应该删除。\n",
    "* reservation_status_date: 用户预定的最后状态对应的更新时间，上个变量被删除，这个也应该一起删除\n",
    "* arrival_date_year：过去的年份对于预测未来用户是否取消预定订单没有直接帮助\n",
    "* arrival_date_week_number，arrival_date_day_of_month 分别指的是 到来日期的所在周数（53个取值）以及到来日期的所在日（31个取值），取值类别过大，不便于建模分析，故不作为考虑"
   ]
  },
  {
   "cell_type": "code",
   "execution_count": 9,
   "metadata": {},
   "outputs": [],
   "source": [
    "#Extract date value from datetime object\n",
    "#Delete redundant variables\n",
    "#adr:Average Daily Rate as defined by dividing the sum of all lodging transactions by the total number of staying nights\n",
    "#change `required_car_parking_spaces` into categorical data\n",
    "data_ini <-data%>%\n",
    "    mutate(arrival_date_month =as.character(\n",
    "               match(substr(arrival_date_month,1,3),month.abb)),\n",
    "           arrival_date_year = as.character(\n",
    "               arrival_date_year),\n",
    "          required_car_parking_spaces = as.character(required_car_parking_spaces)) %>%\n",
    "    select(-reservation_status_date,\n",
    "           -country,\n",
    "           -reservation_status,\n",
    "           -adr,\n",
    "           -arrival_date_week_number,\n",
    "           -arrival_date_day_of_month,\n",
    "            -arrival_date_year)"
   ]
  },
  {
   "cell_type": "code",
   "execution_count": 10,
   "metadata": {
    "scrolled": false
   },
   "outputs": [
    {
     "name": "stdout",
     "output_type": "stream",
     "text": [
      "Rows: 102,894\n",
      "Columns: 24\n",
      "$ hotel                          \u001b[3m\u001b[90m<chr>\u001b[39m\u001b[23m \"City Hotel\", \"City Hotel\", \"Resort ...\n",
      "$ is_canceled                    \u001b[3m\u001b[90m<dbl>\u001b[39m\u001b[23m 1, 0, 1, 1, 0, 0, 0, 1, 0, 1, 0, 0, ...\n",
      "$ lead_time                      \u001b[3m\u001b[90m<dbl>\u001b[39m\u001b[23m 35, 0, 378, 59, 31, 104, 26, 116, 24...\n",
      "$ arrival_date_month             \u001b[3m\u001b[90m<chr>\u001b[39m\u001b[23m \"3\", \"5\", \"8\", \"8\", \"8\", \"8\", \"7\", \"...\n",
      "$ stays_in_weekend_nights        \u001b[3m\u001b[90m<dbl>\u001b[39m\u001b[23m 0, 0, 4, 2, 2, 2, 3, 2, 0, 1, 1, 1, ...\n",
      "$ stays_in_week_nights           \u001b[3m\u001b[90m<dbl>\u001b[39m\u001b[23m 1, 1, 10, 4, 6, 3, 5, 8, 3, 2, 4, 2,...\n",
      "$ adults                         \u001b[3m\u001b[90m<dbl>\u001b[39m\u001b[23m 2, 1, 2, 2, 2, 3, 3, 2, 2, 3, 3, 2, ...\n",
      "$ children                       \u001b[3m\u001b[90m<dbl>\u001b[39m\u001b[23m 0, 0, 0, 2, 2, 1, 2, 1, 0, 1, 1, 2, ...\n",
      "$ babies                         \u001b[3m\u001b[90m<dbl>\u001b[39m\u001b[23m 0, 0, 0, 0, 0, 0, 0, 0, 0, 0, 0, 0, ...\n",
      "$ meal                           \u001b[3m\u001b[90m<chr>\u001b[39m\u001b[23m \"BB\", \"BB\", \"BB\", \"FB\", \"Undefined\",...\n",
      "$ market_segment                 \u001b[3m\u001b[90m<chr>\u001b[39m\u001b[23m \"Offline TA/TO\", \"Offline TA/TO\", \"O...\n",
      "$ distribution_channel           \u001b[3m\u001b[90m<chr>\u001b[39m\u001b[23m \"TA/TO\", \"TA/TO\", \"TA/TO\", \"Direct\",...\n",
      "$ is_repeated_guest              \u001b[3m\u001b[90m<dbl>\u001b[39m\u001b[23m 0, 0, 0, 0, 0, 0, 0, 0, 0, 0, 0, 0, ...\n",
      "$ previous_cancellations         \u001b[3m\u001b[90m<dbl>\u001b[39m\u001b[23m 0, 0, 0, 0, 0, 0, 0, 0, 0, 0, 0, 0, ...\n",
      "$ previous_bookings_not_canceled \u001b[3m\u001b[90m<dbl>\u001b[39m\u001b[23m 0, 0, 0, 0, 0, 0, 0, 0, 0, 0, 0, 0, ...\n",
      "$ reserved_room_type             \u001b[3m\u001b[90m<chr>\u001b[39m\u001b[23m \"A\", \"A\", \"A\", \"H\", \"G\", \"H\", \"H\", \"...\n",
      "$ assigned_room_type             \u001b[3m\u001b[90m<chr>\u001b[39m\u001b[23m \"A\", \"G\", \"A\", \"H\", \"G\", \"H\", \"H\", \"...\n",
      "$ booking_changes                \u001b[3m\u001b[90m<dbl>\u001b[39m\u001b[23m 1, 0, 0, 1, 0, 2, 1, 3, 1, 0, 0, 1, ...\n",
      "$ deposit_type                   \u001b[3m\u001b[90m<chr>\u001b[39m\u001b[23m \"Non Refund\", \"No Deposit\", \"No Depo...\n",
      "$ agent                          \u001b[3m\u001b[90m<dbl>\u001b[39m\u001b[23m 12, 159, 314, 250, 250, 240, 250, 25...\n",
      "$ days_in_waiting_list           \u001b[3m\u001b[90m<dbl>\u001b[39m\u001b[23m 0, 0, 0, 0, 0, 0, 0, 0, 0, 0, 0, 0, ...\n",
      "$ customer_type                  \u001b[3m\u001b[90m<chr>\u001b[39m\u001b[23m \"Transient\", \"Transient\", \"Transient...\n",
      "$ required_car_parking_spaces    \u001b[3m\u001b[90m<chr>\u001b[39m\u001b[23m \"0\", \"0\", \"0\", \"0\", \"0\", \"0\", \"0\", \"...\n",
      "$ total_of_special_requests      \u001b[3m\u001b[90m<dbl>\u001b[39m\u001b[23m 0, 0, 0, 0, 2, 1, 1, 0, 1, 0, 2, 3, ...\n"
     ]
    }
   ],
   "source": [
    "glimpse(data_ini)"
   ]
  },
  {
   "cell_type": "markdown",
   "metadata": {},
   "source": [
    "#### 2.4异常值探索\n",
    "截至目前，我们已经剔除掉一些无用变量，因此我们可以检验下数据中是否存在一些异常值\n",
    "首先先对数据进行一样总体的描述统计"
   ]
  },
  {
   "cell_type": "code",
   "execution_count": 11,
   "metadata": {
    "scrolled": true
   },
   "outputs": [
    {
     "name": "stderr",
     "output_type": "stream",
     "text": [
      "Warning message:\n",
      "\"package 'patchwork' was built under R version 4.0.2\"\n",
      "`stat_bin()` using `bins = 30`. Pick better value with `binwidth`.\n",
      "\n",
      "`stat_bin()` using `bins = 30`. Pick better value with `binwidth`.\n",
      "\n",
      "`stat_bin()` using `bins = 30`. Pick better value with `binwidth`.\n",
      "\n",
      "`stat_bin()` using `bins = 30`. Pick better value with `binwidth`.\n",
      "\n",
      "`stat_bin()` using `bins = 30`. Pick better value with `binwidth`.\n",
      "\n",
      "`stat_bin()` using `bins = 30`. Pick better value with `binwidth`.\n",
      "\n",
      "`stat_bin()` using `bins = 30`. Pick better value with `binwidth`.\n",
      "\n",
      "`stat_bin()` using `bins = 30`. Pick better value with `binwidth`.\n",
      "\n",
      "`stat_bin()` using `bins = 30`. Pick better value with `binwidth`.\n",
      "\n",
      "`stat_bin()` using `bins = 30`. Pick better value with `binwidth`.\n",
      "\n",
      "`stat_bin()` using `bins = 30`. Pick better value with `binwidth`.\n",
      "\n",
      "`stat_bin()` using `bins = 30`. Pick better value with `binwidth`.\n",
      "\n"
     ]
    },
    {
     "data": {
      "image/png": "[encoded data removed]",
      "text/plain": [
       "plot without title"
      ]
     },
     "metadata": {
      "image/png": {
       "height": 420,
       "width": 420
      },
      "text/plain": {
       "height": 420,
       "width": 420
      }
     },
     "output_type": "display_data"
    }
   ],
   "source": [
    "# install.packages('patchwork') #拼图\n",
    "library(patchwork)\n",
    "p1 <- data_ini%>%ggplot(aes(x = total_of_special_requests ))+\n",
    "geom_histogram()\n",
    "p2 <- data_ini%>%ggplot(aes(x = lead_time))+\n",
    "geom_histogram()\n",
    "p3 <- data_ini%>%ggplot(aes(x = stays_in_weekend_nights))+\n",
    "geom_histogram()\n",
    "p4 <- data_ini%>%ggplot(aes(x = stays_in_week_nights))+\n",
    "geom_histogram()\n",
    "p5 <- data_ini%>%ggplot(aes(x = adults ))+\n",
    "geom_histogram()\n",
    "p6 <- data_ini%>%ggplot(aes(x = children))+\n",
    "geom_histogram()\n",
    "p7 <- data_ini%>%ggplot(aes(x = babies))+\n",
    "geom_histogram()\n",
    "p8 <- data_ini%>%ggplot(aes(x = previous_cancellations))+\n",
    "geom_histogram()\n",
    "p9 <- data_ini%>%ggplot(aes(x = previous_bookings_not_canceled))+\n",
    "geom_histogram()\n",
    "p10 <- data_ini%>%ggplot(aes(x = booking_changes))+\n",
    "geom_histogram()\n",
    "p11 <- data_ini%>%ggplot(aes(x = days_in_waiting_list))+\n",
    "geom_histogram()\n",
    "p12 <- data_ini%>%ggplot(aes(x = agent))+\n",
    "geom_histogram()\n",
    "\n",
    "p1+p2+p3+p4+p5+p6+p7+p8+p9+p10+p11+p12+plot_layout(ncol=3)"
   ]
  },
  {
   "cell_type": "markdown",
   "metadata": {},
   "source": [
    "从以上直方图来看，对于以上变量，几乎每个变量都存在离群值，因此我们先观察一下每个变量的描述统计分布 以及使用table函数观察每个变量的取值情况"
   ]
  },
  {
   "cell_type": "markdown",
   "metadata": {},
   "source": [
    "对于`children`,`babies`,`adults` ，这几个变量指的是 用户预定酒店时所填写要携带小孩子/儿童/婴儿/成年人的数量            \n",
    "由以下结果，我们可以观察得到 `babies` 取值存在 9 和 10 两个极端值，               \n",
    "`adults` 取值较多分布在 1和2，因此我们将其他取值归类为 ‘other value’                 \n",
    "`children` 取值较多分布在1，因此我们将其他取值归类为 ‘1 or more’     \n",
    "`babies` 取值较多分布在0，因此我们将其他取值归类为 \"1 or more\"          \n",
    "这样以上三个变量均变为类别型变量"
   ]
  },
  {
   "cell_type": "code",
   "execution_count": 12,
   "metadata": {
    "scrolled": true
   },
   "outputs": [
    {
     "name": "stdout",
     "output_type": "stream",
     "text": [
      "[1] \"description of adults :\"\n",
      "\n",
      "    0     1     2     3     4    26 \n",
      "  326 15653 81072  5788    50     5 \n",
      "     adults    \n",
      " Min.   : 0.0  \n",
      " 1st Qu.: 2.0  \n",
      " Median : 2.0  \n",
      " Mean   : 1.9  \n",
      " 3rd Qu.: 2.0  \n",
      " Max.   :26.0  \n",
      "[1] \"description of children :\"\n",
      "\n",
      "    0     1     2     3    10 \n",
      "95001  4407  3427    58     1 \n",
      "    children      \n",
      " Min.   : 0.0000  \n",
      " 1st Qu.: 0.0000  \n",
      " Median : 0.0000  \n",
      " Mean   : 0.1112  \n",
      " 3rd Qu.: 0.0000  \n",
      " Max.   :10.0000  \n",
      "[1] \"description of babies :\"\n",
      "\n",
      "     0      1      2      9     10 \n",
      "102130    751     11      1      1 \n",
      "     babies         \n",
      " Min.   : 0.000000  \n",
      " 1st Qu.: 0.000000  \n",
      " Median : 0.000000  \n",
      " Mean   : 0.007697  \n",
      " 3rd Qu.: 0.000000  \n",
      " Max.   :10.000000  \n"
     ]
    }
   ],
   "source": [
    "a <- c('adults','children','babies')\n",
    "num_data_a <- data_ini[a]\n",
    "for( i in 1:ncol(num_data_a)){\n",
    "print(paste('description of',a[i],':'))\n",
    "print(table(num_data_a[,i]))\n",
    "print(summary(num_data_a[,i]))}\n",
    "data_ini<- data_ini%>%mutate(adults = ifelse(adults==1,1,ifelse(adults == 2,2,'other values')),\n",
    "                        children = ifelse(children ==0,0,\"1 or more\"),\n",
    "                        babies = ifelse(babies == 0, 0,\"1 or more\"))"
   ]
  },
  {
   "cell_type": "markdown",
   "metadata": {},
   "source": [
    "对于`lead_time`,`stays_in_weekend_nights`,`stays_in_week_nights`,`days_in_waiting_list`,`agent`这几个变量，                 \n",
    "取值要么非常多，要么都是跟时间相关的，因此看单个取值是多少没有太大意义，            \n",
    "首先对于 `lead_time`，该变量指的是 到达酒店的日期与预定酒单订单的日期之差，该值取值范围从0到600多，非常多，有序类别型变量，我们则可以考虑将该变量进行分箱离散化操作；                \n",
    "对于`agent`，该变量指的是 用户通过预定就预定的机构/代理方的ID，该变量取值从0遍布到500多，不过为无序类别型变量，我们可以考虑进行分箱离散化操作；               \n",
    "对于`stays_in_weekend_nights`,`stays_in_week_nights`，`days_in_waiting_list`这两个跟时间相关的变量，\n",
    "`stays_in_weekend_nights`指的是 用户预定酒店选择入住的周末日的天数，`stays_in_week_nights`指的是是 用户预定酒店选择入住的工作日的天数，\n",
    "`days_in_waiting_list` 指的是 用户预订酒店后而在经过酒店确认过程中等待的天数         \n",
    "取值范围分别为【0，17】 以及 【0，42】以及【1，535】结合样本分布情况，即其样本分布不是很均匀，比较极端，故我们考虑把样本量少的取值类别合并到一起，如有条件做分箱操作，则进行分箱      "
   ]
  },
  {
   "cell_type": "code",
   "execution_count": 13,
   "metadata": {
    "scrolled": true
   },
   "outputs": [
    {
     "name": "stdout",
     "output_type": "stream",
     "text": [
      "[1] \"description of lead_time :\"\n",
      "\n",
      "   0    1    2    3    4    5    6    7    8    9   10   11   12   13   14   15 \n",
      "2845 2318 1424 1279 1228 1101 1057  902  900  809  775  861  906  687  849  708 \n",
      "  16   17   18   19   20   21   22   23   24   25   26   27   28   29   30   31 \n",
      " 771  765  743  769  645  584  631  577  564  591  579  578  675  619  617  594 \n",
      "  32   33   34   35   36   37   38   39   40   41   42   43   44   45   46   47 \n",
      " 618  589  774  595  636  630  450  652  573  531  423  459  589  494  456  508 \n",
      "  48   49   50   51   52   53   54   55   56   57   58   59   60   61   62   63 \n",
      " 429  436  466  349  410  523  430  523  632  423  386  506  413  491  361  384 \n",
      "  64   65   66   67   68   69   70   71   72   73   74   75   76   77   78   79 \n",
      " 365  405  409  409  520  510  316  413  478  360  490  404  340  339  329  343 \n",
      "  80   81   82   83   84   85   86   87   88   89   90   91   92   93   94   95 \n",
      " 420  339  379  366  323  330  404  416  431  305  282  325  382  321  319  339 \n",
      "  96   97   98   99  100  101  102  103  104  105  106  107  108  109  110  111 \n",
      " 337  351  414  307  340  310  429  370  329  347  250  250  239  289  294  328 \n",
      " 112  113  114  115  116  117  118  119  120  121  122  123  124  125  126  127 \n",
      " 336  325  210  400  393  292  287  237  244  260  280  264  286  232  243  227 \n",
      " 128  129  130  131  132  133  134  135  136  137  138  139  140  141  142  143 \n",
      " 270  260  293  256  253  261  382  284  221  279  234  217  304  243  253  298 \n",
      " 144  145  146  147  148  149  150  151  152  153  154  155  156  157  158  159 \n",
      " 215  226  228  204  236  181  250  324  237  198  157  215  301  241  315  279 \n",
      " 160  161  162  163  164  165  166  167  168  169  170  171  172  173  174  175 \n",
      " 197  229  246  203  292  209  270  184  285  245  175  202  244  189  242  277 \n",
      " 176  177  178  179  180  181  182  183  184  185  186  187  188  189  190  191 \n",
      " 158  242  316  229  270  273  148  287  201  206  244  127  250  198  138  136 \n",
      " 192  193  194  195  196  197  198  199  200  201  202  203  204  205  206  207 \n",
      " 285  158  109  182  110  170  248  207  142  117  104  143  154  149  145  211 \n",
      " 208  209  210  211  212  213  214  215  216  217  218  219  220  221  222  223 \n",
      " 190   99  203  243  191  295  137  100   85  101  105  245  147  199  147  117 \n",
      " 224  225  226  227  228  229  230  231  232  233  234  235  236  237  238  239 \n",
      " 116  100  165   86   75   70  105   88   83  149   57   75  147  112  126  149 \n",
      " 240  241  242  243  244  245  246  247  248  249  250  251  252  253  254  255 \n",
      " 120  114   52   80  129  195   74  204   79   50   88  125   72   94   90   57 \n",
      " 256  257  258  259  260  261  262  263  264  265  266  267  268  269  270  271 \n",
      " 163  110  145   78   96  102  125  102   66  230   73  123   76   81  114   89 \n",
      " 272  273  274  275  276  277  278  279  280  281  282  283  284  285  286  287 \n",
      " 138  158  125  163  148  108  138  165   79  122   79  122   31   63  173   43 \n",
      " 288  289  290  291  292  293  294  295  296  297  298  299  300  301  302  303 \n",
      " 107   91  108   60  196   44   72  106   60   99   48   44   91  190  122   44 \n",
      " 304  305  306  307  308  309  310  311  312  313  314  315  316  317  318  319 \n",
      " 179  165   34   81   57  104   45   79   85   78   87  131  200   96   49   34 \n",
      " 320  321  322  323  324  325  326  327  328  329  330  331  332  333  334  335 \n",
      " 126   63   79  128   20   51   47   87   68   35  101   16   50   59   49  107 \n",
      " 336  337  338  339  340  341  342  343  344  345  346  347  348  349  350  351 \n",
      " 101   91   43   71   19   42  144   28   67   14  106   12   35   61   98  102 \n",
      " 352  353  354  355  356  357  358  359  360  361  362  363  364  365  366  367 \n",
      "  29   34    7   38   31   18   73   42   24   10    1   22   86   54    3   25 \n",
      " 368  370  371  372  373  374  375  376  377  378  379  380  381  382  383  384 \n",
      "  40    1    1   44   28   21    2    3   89   19   68    1    5    1   72   25 \n",
      " 385  386  388  389  390  391  393  394  395  396  397  398  399  400  403  405 \n",
      "   2  111   20    1    3   55   85   15   54   85   17   33    2    1    2  129 \n",
      " 406  407  408  409  410  412  414  418  419  420  422  423  424  426  429  433 \n",
      "   6   29   11   25   10   32  105   60   32   57   29  108    1   32   15   52 \n",
      " 434  435  437  440  443  444  445  447  448  450  451  454  457  458  460  461 \n",
      "  27    1   40   32   37   40    3   32   26   10   66   33   88    1    3   32 \n",
      " 462  463  464  465  467  468  471  475  476  478  479  482  489  490  493  496 \n",
      "  26    1   29   31   10  105    6   32   26   13   33   17   17    9   10   17 \n",
      " 503  504  507  510  517  518  521  524  531  532  538  542  545  552  559  566 \n",
      "  17   26   10   17   17   26   10   17   17    1   17   23   17   17   17   17 \n",
      " 573  580  587  594  601  605  608  615  622  626  629 \n",
      "  17   17   17   17   17   30   17   17   17   30   17 \n",
      "   lead_time    \n",
      " Min.   :  0.0  \n",
      " 1st Qu.: 26.0  \n",
      " Median : 79.0  \n",
      " Mean   :111.7  \n",
      " 3rd Qu.:169.0  \n",
      " Max.   :629.0  \n",
      "[1] \"description of stays_in_weekend_nights :\"\n",
      "\n",
      "    0     1     2     3     4     5     6     7     8     9    10    12    13 \n",
      "42421 26217 31120  1127  1712    62   144    16    53     5     6     5     2 \n",
      "   14    16 \n",
      "    1     3 \n",
      " stays_in_weekend_nights\n",
      " Min.   : 0.0000        \n",
      " 1st Qu.: 0.0000        \n",
      " Median : 1.0000        \n",
      " Mean   : 0.9782        \n",
      " 3rd Qu.: 2.0000        \n",
      " Max.   :16.0000        \n",
      "[1] \"description of stays_in_week_nights :\"\n",
      "\n",
      "    0     1     2     3     4     5     6     7     8     9    10    11    12 \n",
      " 5725 23790 30124 19935  8550 10353  1362   938   600   194   964    50    39 \n",
      "   13    14    15    16    17    18    19    20    21    22    25    26    30 \n",
      "   23    33    79    16     3     5    41    36    14     5     4     1     5 \n",
      "   33    34    40    41 \n",
      "    1     1     2     1 \n",
      " stays_in_week_nights\n",
      " Min.   : 0.00       \n",
      " 1st Qu.: 1.00       \n",
      " Median : 2.00       \n",
      " Mean   : 2.59       \n",
      " 3rd Qu.: 3.00       \n",
      " Max.   :41.00       \n",
      "[1] \"description of days_in_waiting_list :\"\n",
      "\n",
      "    0     1     2     3     4     5     6     7     8     9    10    11    12 \n",
      "99355     8     3    59    22     6    15     1     3    13    27     3     2 \n",
      "   13    14    15    16    17    18    19    20    21    22    23    24    25 \n",
      "    1     7    52     3    47     3    30    26    36    56     2    19    20 \n",
      "   26    27    28    30    31    32    33    34    35    36    37    38    39 \n",
      "    4    26    49     2   107    18    30    26    96     1     1    75   226 \n",
      "   40    41    42    43    44    45    46    47    48    49    50    52    53 \n",
      "   28    63    30    19   140    65    92     1    52    18    79     1     6 \n",
      "   55    56    57    58    59    60    61    62    63    64    65    68    69 \n",
      "   10    45    25   164    12    29    18    60    83     3    35    42    89 \n",
      "   70    71    72    74    75    76    77    79    80    81    84    85    87 \n",
      "   18     7     1     1    20     1    63    20    23     1     2    15    80 \n",
      "   89    91    92    93    96    98    99   100   101   105   107   108   109 \n",
      "    1    50     1    38    46    59    16     1    65     2     3    20     1 \n",
      "  111   113   116   117   120   121   122   125   147   150   154   160   162 \n",
      "   71     6     1     1    25     2    54    16    30    11     2    25    30 \n",
      "  165   167   174   175   176   178   183   187   193   207   215   223   224 \n",
      "    1     1    19     1    50    30     1    45     1    15    21    61    10 \n",
      "  236   259   330   379   391 \n",
      "   35    10    15    15    45 \n",
      " days_in_waiting_list\n",
      " Min.   :  0.00      \n",
      " 1st Qu.:  0.00      \n",
      " Median :  0.00      \n",
      " Mean   :  2.62      \n",
      " 3rd Qu.:  0.00      \n",
      " Max.   :391.00      \n",
      "[1] \"description of agent :\"\n",
      "\n",
      "    1     2     3     4     5     6     7     8     9    10    11    12    13 \n",
      " 7191   162  1336    47   329  3283  3539  1514 31959   260   395   564    82 \n",
      "   14    15    16    17    19    20    21    22    23    24    25    26    27 \n",
      " 3638   401   246   241  1061   540   875   382    25    22     3   401   450 \n",
      "   28    29    30    31    32    33    34    35    36    37    38    39    40 \n",
      " 1666   683   484   162    15    31   294   109   100  1229   274   127  1039 \n",
      "   41    42    44    45    47    50    52    53    54    55    56    57    58 \n",
      "   75   211   292    32    50    20   137    18     1    16   375    28   335 \n",
      "   59    60    61    63    64    66    67    68    69    70    71    72    73 \n",
      "    1    19     2    29    23    44   127   211    90     1    73     6     1 \n",
      "   74    75    77    78    79    81    82    83    85    86    87    88    89 \n",
      "   20    73    33    36    47     6    77   696   554   338    77    19    99 \n",
      "   90    91    92    93    94    95    96    98    99   103   104   105   106 \n",
      "    1    58     7     1   108   135   525   124    68    21    53    13     2 \n",
      "  107   110   111   112   114   115   117   118   119   121   122   126   127 \n",
      "    2    12    16    15     1   225     1    69   304    37     2    14    45 \n",
      "  128   129   132   133   134   135   138   139   141   142   143   144   146 \n",
      "   23    14   143    56   482     2   287     7     6   136   172     1   120 \n",
      "  147   148   149   150   151   152   153   154   155   156   157   158   159 \n",
      "  156     4    28     5    56   183    25   192    94   190    61     1    89 \n",
      "  162   163   165   167   168   170   171   173   174   175   177   179   180 \n",
      "   37     7     1     3   184    93   605    29    22   194   345     2     4 \n",
      "  181   182   183   184   185   187   191   192   193   195   196   197   201 \n",
      "   58     8    45    49    78    24   198    41    15   193   298     1    39 \n",
      "  205   208   210   211   213   214   215   216   219   220   223   227   229 \n",
      "   27   173     7     2     1     5    15     1    13   104    18     2   786 \n",
      "  232   234   235   236   240   241   242   243   244   245   247   248   249 \n",
      "    2   128    29   247 13871  1718   779   514     4    37     1   131    51 \n",
      "  250   251   252   253   254   256   257   258   261   262   265   267   269 \n",
      " 2855   220    29    87    29    24    24     3    38    22     1     1     2 \n",
      "  270   273   275   276   278   280   281   282   283   285   286   287   288 \n",
      "    6   349     8     8     1     1    82     2     2     1    45     8    14 \n",
      "  289   290   291   294   295   296   298   299   300   301   302   303   304 \n",
      "    1    19     1     1     4    42   472     1     1     1     3     2     1 \n",
      "  305   306   307   308   310   313   314   315   321   323   324   325   326 \n",
      "   45    35    14    54    25    36   920   284     3    25     9     6   165 \n",
      "  327   328   330   331   332   333   334   335   336   337   339   341   344 \n",
      "   18     9   124     2    55     1    28     4    23     1    76     4     8 \n",
      "  346   348   350   352   354   355   358   359   360   363   364   367   368 \n",
      "    1    22    28     1    14     4     1    21    15     6    19     1    45 \n",
      "  370   371   375   378   384   385   387   388   390   391   393   394   397 \n",
      "    3     4    40    36     2    59    32     1    57     2    13    33     1 \n",
      "  403   404   405   406   408   410   411   414   416   418   420   423   425 \n",
      "    4     2     5     1     1   133    16     2     1     8     3    19    16 \n",
      "  426   427   429   430   431   432   433   434   436   438   440   441   444 \n",
      "    3     3     5     4     1     1     1    33    49     2    56     7     1 \n",
      "  449   450   451   453   454   455   459   461   464   467   468   469   472 \n",
      "    2     1     1     1     2    19    16     2    98    39    46     2     1 \n",
      "  474   475   476   479   480   481   483   484   492   493   495   497   502 \n",
      "   17     8     2    32     1     8     1    11    28    35    57     1    24 \n",
      "  508   509   510   526   527   531   535 \n",
      "    6    10     2    10    35    68     3 \n",
      "     agent       \n",
      " Min.   :  1.00  \n",
      " 1st Qu.:  9.00  \n",
      " Median : 14.00  \n",
      " Mean   : 86.55  \n",
      " 3rd Qu.:229.00  \n",
      " Max.   :535.00  \n"
     ]
    }
   ],
   "source": [
    "b <- c('lead_time','stays_in_weekend_nights','stays_in_week_nights','days_in_waiting_list','agent')\n",
    "num_data_b <- data_ini[b]\n",
    "for( i in 1:ncol(num_data_b)){\n",
    "print(paste('description of',b[i],':'))\n",
    "print(table(num_data_b[,i]))\n",
    "print(summary(num_data_b[,i]))}"
   ]
  },
  {
   "cell_type": "markdown",
   "metadata": {},
   "source": [
    "* 处理 lead_time  异常值"
   ]
  },
  {
   "cell_type": "code",
   "execution_count": 14,
   "metadata": {
    "scrolled": false
   },
   "outputs": [
    {
     "name": "stderr",
     "output_type": "stream",
     "text": [
      "Warning message:\n",
      "\"position_stack requires non-overlapping x intervals\"\n"
     ]
    },
    {
     "data": {
      "image/png": "[encoded data removed]",
      "text/plain": [
       "plot without title"
      ]
     },
     "metadata": {
      "image/png": {
       "height": 420,
       "width": 420
      },
      "text/plain": {
       "height": 420,
       "width": 420
      }
     },
     "output_type": "display_data"
    }
   ],
   "source": [
    "#分箱之前查看 lead_time与酒店预定取消率的关系\n",
    "#可见两者之间关系不是很明确\n",
    "data_ini%>%group_by(lead_time)%>%summarise(prop = mean(is_canceled))%>%\n",
    "ggplot(aes(x = lead_time, y =prop))+\n",
    "geom_bar(stat='identity',width =2)"
   ]
  },
  {
   "cell_type": "code",
   "execution_count": 15,
   "metadata": {
    "scrolled": false
   },
   "outputs": [
    {
     "data": {
      "text/plain": [
       "equal_freq_lead\n",
       "    1     2     3     4 \n",
       "25868 25652 25856 25518 "
      ]
     },
     "metadata": {},
     "output_type": "display_data"
    },
    {
     "data": {
      "text/html": [
       "<table>\n",
       "<caption>A data.frame: 4 × 2</caption>\n",
       "<thead>\n",
       "\t<tr><th scope=col>equal_freq_lead</th><th scope=col>Freq</th></tr>\n",
       "\t<tr><th scope=col>&lt;fct&gt;</th><th scope=col>&lt;int&gt;</th></tr>\n",
       "</thead>\n",
       "<tbody>\n",
       "\t<tr><td>1</td><td>25868</td></tr>\n",
       "\t<tr><td>2</td><td>25652</td></tr>\n",
       "\t<tr><td>3</td><td>25856</td></tr>\n",
       "\t<tr><td>4</td><td>25518</td></tr>\n",
       "</tbody>\n",
       "</table>\n"
      ],
      "text/latex": [
       "A data.frame: 4 × 2\n",
       "\\begin{tabular}{ll}\n",
       " equal\\_freq\\_lead & Freq\\\\\n",
       " <fct> & <int>\\\\\n",
       "\\hline\n",
       "\t 1 & 25868\\\\\n",
       "\t 2 & 25652\\\\\n",
       "\t 3 & 25856\\\\\n",
       "\t 4 & 25518\\\\\n",
       "\\end{tabular}\n"
      ],
      "text/markdown": [
       "\n",
       "A data.frame: 4 × 2\n",
       "\n",
       "| equal_freq_lead &lt;fct&gt; | Freq &lt;int&gt; |\n",
       "|---|---|\n",
       "| 1 | 25868 |\n",
       "| 2 | 25652 |\n",
       "| 3 | 25856 |\n",
       "| 4 | 25518 |\n",
       "\n"
      ],
      "text/plain": [
       "  equal_freq_lead Freq \n",
       "1 1               25868\n",
       "2 2               25652\n",
       "3 3               25856\n",
       "4 4               25518"
      ]
     },
     "metadata": {},
     "output_type": "display_data"
    },
    {
     "data": {
      "text/html": [
       "26"
      ],
      "text/latex": [
       "26"
      ],
      "text/markdown": [
       "26"
      ],
      "text/plain": [
       "[1] 26"
      ]
     },
     "metadata": {},
     "output_type": "display_data"
    },
    {
     "data": {
      "text/html": [
       "79"
      ],
      "text/latex": [
       "79"
      ],
      "text/markdown": [
       "79"
      ],
      "text/plain": [
       "[1] 79"
      ]
     },
     "metadata": {},
     "output_type": "display_data"
    },
    {
     "data": {
      "text/html": [
       "169"
      ],
      "text/latex": [
       "169"
      ],
      "text/markdown": [
       "169"
      ],
      "text/plain": [
       "[1] 169"
      ]
     },
     "metadata": {},
     "output_type": "display_data"
    },
    {
     "data": {
      "text/html": [
       "629"
      ],
      "text/latex": [
       "629"
      ],
      "text/markdown": [
       "629"
      ],
      "text/plain": [
       "[1] 629"
      ]
     },
     "metadata": {},
     "output_type": "display_data"
    },
    {
     "data": {
      "image/png": "[encoded data removed]",
      "text/plain": [
       "plot without title"
      ]
     },
     "metadata": {
      "image/png": {
       "height": 420,
       "width": 420
      },
      "text/plain": {
       "height": 420,
       "width": 420
      }
     },
     "output_type": "display_data"
    },
    {
     "data": {
      "image/png": "[encoded data removed]",
      "text/plain": [
       "plot without title"
      ]
     },
     "metadata": {
      "image/png": {
       "height": 420,
       "width": 420
      },
      "text/plain": {
       "height": 420,
       "width": 420
      }
     },
     "output_type": "display_data"
    }
   ],
   "source": [
    "nbins <- 4 #分箱区间个数 \n",
    "\n",
    "equal_freq_lead <- discretize(data_ini$lead_time,'equalfreq',nbins = nbins) #等频分箱操作\n",
    "\n",
    "table(equal_freq_lead) #查看各分类数量\n",
    "plot(data_ini$lead_time,col = equal_freq_lead$X) #用颜色表示等频分箱\n",
    "\n",
    "data_1 <- data_ini$lead_time[order(data_ini$lead_time)] #对数据进行排序\n",
    "\n",
    "#查看各分箱分割点\n",
    "depreciation <- as.data.frame(table(equal_freq_lead))\n",
    "depreciation\n",
    "data_1[25868]\n",
    "data_1[25868+25652]\n",
    "data_1[25868+25652+25856]\n",
    "data_1[25868+25652+25856+25518]\n",
    "\n",
    "data_ini <-data_ini%>%mutate(lead_time = equal_freq_lead$X,\n",
    "                            lead_time = as.character(lead_time))\n",
    "#查看分箱后 lead_time 与 酒店预定取消率的关系\n",
    "#lead_time 与酒店预定取消率 清晰很多，\n",
    "#随着到达酒店的日期与预定酒单订单的日期之差的增长，酒店预定取消率逐渐升高，\n",
    "#其中，当时间差为26天以内，取消率最低（大概19%），当时间差为26天到79天，取消率大概为37%，\n",
    "#当时间差为79天到169天，取消率约为42%,当时间差为169天到629天，取消率超过50%,大概57%\n",
    "data_ini%>%group_by(lead_time)%>%\n",
    "    summarise(prop = mean(is_canceled))%>%\n",
    "ggplot(aes(x = lead_time, y =prop))+\n",
    "geom_bar(stat='identity',width =.5)+\n",
    "scale_x_discrete(breaks = c('1','2','3','4'),\n",
    "                 labels = c( \"[0,26]\",\"(26,79]\", \"(79,169]\",\"(169,629]\"))+\n",
    "ylab('Prop of cancellation')\n",
    "# scale_x_discrete(labels = c( \"1\" = \"[0,26)\", \"2\"=\"[26,79)\", \"3\" =\"[79,169)\",\"4\" = \"[169,629]\"))\n"
   ]
  },
  {
   "cell_type": "markdown",
   "metadata": {},
   "source": [
    "* 同样的等频分箱逻辑可以应用在agent 变量上"
   ]
  },
  {
   "cell_type": "code",
   "execution_count": 16,
   "metadata": {},
   "outputs": [
    {
     "name": "stderr",
     "output_type": "stream",
     "text": [
      "Warning message:\n",
      "\"position_stack requires non-overlapping x intervals\"\n"
     ]
    },
    {
     "data": {
      "image/png": "[encoded data removed]",
      "text/plain": [
       "plot without title"
      ]
     },
     "metadata": {
      "image/png": {
       "height": 420,
       "width": 420
      },
      "text/plain": {
       "height": 420,
       "width": 420
      }
     },
     "output_type": "display_data"
    }
   ],
   "source": [
    "#分箱之前查看 agent 与酒店预定取消率的关系,可见两者之间关系非常模糊\n",
    "data_ini%>%group_by(agent)%>%summarise(prop = mean(is_canceled))%>%\n",
    "ggplot(aes(x = agent, y =prop))+\n",
    "geom_bar(stat='identity',width =2)"
   ]
  },
  {
   "cell_type": "code",
   "execution_count": 17,
   "metadata": {
    "scrolled": false
   },
   "outputs": [
    {
     "data": {
      "text/plain": [
       "equal_freq_agent\n",
       "    1     2     3 \n",
       "49360 19558 33976 "
      ]
     },
     "metadata": {},
     "output_type": "display_data"
    },
    {
     "data": {
      "text/html": [
       "<table>\n",
       "<caption>A data.frame: 3 × 2</caption>\n",
       "<thead>\n",
       "\t<tr><th scope=col>equal_freq_agent</th><th scope=col>Freq</th></tr>\n",
       "\t<tr><th scope=col>&lt;fct&gt;</th><th scope=col>&lt;int&gt;</th></tr>\n",
       "</thead>\n",
       "<tbody>\n",
       "\t<tr><td>1</td><td>49360</td></tr>\n",
       "\t<tr><td>2</td><td>19558</td></tr>\n",
       "\t<tr><td>3</td><td>33976</td></tr>\n",
       "</tbody>\n",
       "</table>\n"
      ],
      "text/latex": [
       "A data.frame: 3 × 2\n",
       "\\begin{tabular}{ll}\n",
       " equal\\_freq\\_agent & Freq\\\\\n",
       " <fct> & <int>\\\\\n",
       "\\hline\n",
       "\t 1 & 49360\\\\\n",
       "\t 2 & 19558\\\\\n",
       "\t 3 & 33976\\\\\n",
       "\\end{tabular}\n"
      ],
      "text/markdown": [
       "\n",
       "A data.frame: 3 × 2\n",
       "\n",
       "| equal_freq_agent &lt;fct&gt; | Freq &lt;int&gt; |\n",
       "|---|---|\n",
       "| 1 | 49360 |\n",
       "| 2 | 19558 |\n",
       "| 3 | 33976 |\n",
       "\n"
      ],
      "text/plain": [
       "  equal_freq_agent Freq \n",
       "1 1                49360\n",
       "2 2                19558\n",
       "3 3                33976"
      ]
     },
     "metadata": {},
     "output_type": "display_data"
    },
    {
     "data": {
      "text/html": [
       "9"
      ],
      "text/latex": [
       "9"
      ],
      "text/markdown": [
       "9"
      ],
      "text/plain": [
       "[1] 9"
      ]
     },
     "metadata": {},
     "output_type": "display_data"
    },
    {
     "data": {
      "text/html": [
       "85"
      ],
      "text/latex": [
       "85"
      ],
      "text/markdown": [
       "85"
      ],
      "text/plain": [
       "[1] 85"
      ]
     },
     "metadata": {},
     "output_type": "display_data"
    },
    {
     "data": {
      "text/html": [
       "535"
      ],
      "text/latex": [
       "535"
      ],
      "text/markdown": [
       "535"
      ],
      "text/plain": [
       "[1] 535"
      ]
     },
     "metadata": {},
     "output_type": "display_data"
    },
    {
     "data": {
      "image/png": "[encoded data removed]",
      "text/plain": [
       "plot without title"
      ]
     },
     "metadata": {
      "image/png": {
       "height": 420,
       "width": 420
      },
      "text/plain": {
       "height": 420,
       "width": 420
      }
     },
     "output_type": "display_data"
    },
    {
     "data": {
      "image/png": "[encoded data removed]",
      "text/plain": [
       "plot without title"
      ]
     },
     "metadata": {
      "image/png": {
       "height": 420,
       "width": 420
      },
      "text/plain": {
       "height": 420,
       "width": 420
      }
     },
     "output_type": "display_data"
    }
   ],
   "source": [
    "nbins <- 3  #分箱区间个数 \n",
    "\n",
    "equal_freq_agent <- discretize(data_ini$agent,'equalfreq',nbins = nbins) #等频分箱操作\n",
    "\n",
    "table(equal_freq_agent) #查看各分类数量\n",
    "plot(data_ini$agent,col = equal_freq_agent$X) #用颜色表示等频分箱\n",
    "\n",
    "data_2 <- data_ini$agent[order(data_ini$agent)] #对数据进行排序\n",
    "\n",
    "#查看各分箱分割点\n",
    "depreciation <- as.data.frame(table(equal_freq_agent))\n",
    "depreciation\n",
    "data_2[49360]\n",
    "data_2[49360+19558]\n",
    "data_2[49360+19558+33976]\n",
    "\n",
    "\n",
    "data_ini <- data_ini%>%mutate(agent = equal_freq_agent$X)%>%\n",
    "    mutate(agent = as.character(agent))\n",
    "#查看分箱后 agent 与 酒店预定取消率的关系\n",
    "#分箱之后， agent与酒店预定取消率 清晰很多，agent位于[0,9]区间，其用户预定订单取消率最高，\n",
    "#在(9,85]区间，其用户预定订单取消率处于中等水平，\n",
    "#在(85,535]区间，其用户预定订单取消率处于最低水平\n",
    "data_ini%>%group_by(agent)%>%\n",
    "    summarise(prop = mean(is_canceled))%>%\n",
    "ggplot(aes(x = agent, y =prop))+\n",
    "geom_bar(stat='identity',width =.5)+\n",
    "scale_x_discrete(labels = c( \"1\" = \"[0,9]\", \"2\"=\"(9,85]\", \"3\" = \"(85,535]\"))+\n",
    "ylab('Prop of cancellation')"
   ]
  },
  {
   "cell_type": "markdown",
   "metadata": {},
   "source": [
    "* `days_in_waiting_list` 96.6%的取值都是0，剩余3.4%的取值为其他值,因此我们将其他所有取值都包含成一个值"
   ]
  },
  {
   "cell_type": "code",
   "execution_count": 18,
   "metadata": {
    "scrolled": false
   },
   "outputs": [
    {
     "data": {
      "text/html": [
       "<table>\n",
       "<caption>A grouped_df: 2 × 3</caption>\n",
       "<thead>\n",
       "\t<tr><th scope=col>days_in_waiting_list</th><th scope=col>n</th><th scope=col>prop</th></tr>\n",
       "\t<tr><th scope=col>&lt;chr&gt;</th><th scope=col>&lt;int&gt;</th><th scope=col>&lt;dbl&gt;</th></tr>\n",
       "</thead>\n",
       "<tbody>\n",
       "\t<tr><td>0        </td><td>99355</td><td>0.96560538</td></tr>\n",
       "\t<tr><td>1 or more</td><td> 3539</td><td>0.03439462</td></tr>\n",
       "</tbody>\n",
       "</table>\n"
      ],
      "text/latex": [
       "A grouped\\_df: 2 × 3\n",
       "\\begin{tabular}{lll}\n",
       " days\\_in\\_waiting\\_list & n & prop\\\\\n",
       " <chr> & <int> & <dbl>\\\\\n",
       "\\hline\n",
       "\t 0         & 99355 & 0.96560538\\\\\n",
       "\t 1 or more &  3539 & 0.03439462\\\\\n",
       "\\end{tabular}\n"
      ],
      "text/markdown": [
       "\n",
       "A grouped_df: 2 × 3\n",
       "\n",
       "| days_in_waiting_list &lt;chr&gt; | n &lt;int&gt; | prop &lt;dbl&gt; |\n",
       "|---|---|---|\n",
       "| 0         | 99355 | 0.96560538 |\n",
       "| 1 or more |  3539 | 0.03439462 |\n",
       "\n"
      ],
      "text/plain": [
       "  days_in_waiting_list n     prop      \n",
       "1 0                    99355 0.96560538\n",
       "2 1 or more             3539 0.03439462"
      ]
     },
     "metadata": {},
     "output_type": "display_data"
    },
    {
     "data": {
      "image/png": "[encoded data removed]",
      "text/plain": [
       "plot without title"
      ]
     },
     "metadata": {
      "image/png": {
       "height": 420,
       "width": 420
      },
      "text/plain": {
       "height": 420,
       "width": 420
      }
     },
     "output_type": "display_data"
    }
   ],
   "source": [
    "#-----------处理days_in_waiting_list异常值\n",
    "data_ini <- data_ini%>% mutate(days_in_waiting_list = as.character(days_in_waiting_list))%>%\n",
    "mutate(days_in_waiting_list = if_else(as.numeric(days_in_waiting_list)>0,'1 or more',days_in_waiting_list))  \n",
    "\n",
    "test <- data_ini%>%group_by(days_in_waiting_list)%>%\n",
    " count(days_in_waiting_list)\n",
    "test%>%mutate(prop = n/102894)\n",
    "#查看该变量与 取消率的关系\n",
    "#当用户等待时间为0天时，取消率大概为38%，而如果用户等待时间为1天或者超过1天时，则取消率达65%\n",
    "data_ini%>%ggplot(aes(x = days_in_waiting_list, y =is_canceled))+\n",
    "geom_bar(stat='summary',fun= 'mean')+\n",
    "ylab('Prop of cancellation')"
   ]
  },
  {
   "cell_type": "markdown",
   "metadata": {},
   "source": [
    "* 处理`stays_in_weekend_nights`:               \n",
    "* 将大于3的取值视为异常值 亦或离群值，又由于 3 的取值比较，                \n",
    "* 故将大于3的样本一并归入 取值为3 的样本集，并且重新离散化，且命名为 \"3 or more\".            \n",
    "* 同样的逻辑可应用到自变量 `stays_in_week_nights`            "
   ]
  },
  {
   "cell_type": "code",
   "execution_count": 19,
   "metadata": {
    "scrolled": true
   },
   "outputs": [
    {
     "data": {
      "image/png": "[encoded data removed]",
      "text/plain": [
       "plot without title"
      ]
     },
     "metadata": {
      "image/png": {
       "height": 420,
       "width": 420
      },
      "text/plain": {
       "height": 420,
       "width": 420
      }
     },
     "output_type": "display_data"
    },
    {
     "data": {
      "image/png": "[encoded data removed]",
      "text/plain": [
       "plot without title"
      ]
     },
     "metadata": {
      "image/png": {
       "height": 420,
       "width": 420
      },
      "text/plain": {
       "height": 420,
       "width": 420
      }
     },
     "output_type": "display_data"
    }
   ],
   "source": [
    "data_ini <- data_ini%>% mutate(stays_in_weekend_nights = as.character(stays_in_weekend_nights),\n",
    "                           stays_in_week_nights = as.character(stays_in_week_nights ))%>%\n",
    "mutate(stays_in_weekend_nights = if_else(as.numeric(stays_in_weekend_nights)>3, 'more than 3 ',stays_in_weekend_nights),\n",
    "       stays_in_week_nights = if_else(as.numeric(stays_in_week_nights)>3,'more than 3',stays_in_week_nights))    \n",
    "#查看处理异常值之后变量与酒店预定取消率的关系\n",
    "#用户预定酒店选择入住的周末日的天数为0天时，取消率最高，大概41%，\n",
    "#当天数从1天加到3天时，取消率轻微地下降，从41%降到37%，而当天数超过3天时，取消率反而轻微升高，大概为38%。\n",
    "data_ini%>%group_by(stays_in_weekend_nights)%>%\n",
    "    summarise(prop = mean(is_canceled))%>%\n",
    "ggplot(aes(x = stays_in_weekend_nights, y =prop))+\n",
    "geom_bar(stat='identity',width =.5)\n",
    "#用户预定酒店选择入住的工作日的天数为2天时，取消率最高，大概46%，\n",
    "#当天数为0天时，取消率最低，大概27%，\n",
    "#当天数从1天,3天或者超过3天时，取消率彼此相似，分别大概为36%，38%，36.5%\n",
    "data_ini%>%group_by(stays_in_week_nights)%>%\n",
    "    summarise(prop = mean(is_canceled))%>%\n",
    "ggplot(aes(x = stays_in_week_nights, y =prop))+\n",
    "geom_bar(stat='identity',width =.5)"
   ]
  },
  {
   "cell_type": "code",
   "execution_count": 20,
   "metadata": {
    "scrolled": true
   },
   "outputs": [
    {
     "name": "stdout",
     "output_type": "stream",
     "text": [
      "[1] \"description of previous_cancellations :\"\n",
      "\n",
      "    0     1     2     3     5     6    11    13    14    21    24    25    26 \n",
      "97339  5384    36     9     1     6    25     4    14     1    24    25    26 \n",
      " previous_cancellations\n",
      " Min.   : 0.00000      \n",
      " 1st Qu.: 0.00000      \n",
      " Median : 0.00000      \n",
      " Mean   : 0.07722      \n",
      " 3rd Qu.: 0.00000      \n",
      " Max.   :26.00000      \n",
      "[1] \"description of previous_bookings_not_canceled :\"\n",
      "\n",
      "     0      1      2      3      4      5      6      7      8      9     10 \n",
      "101909    605    145     59     43     38     22     12      8      9      9 \n",
      "    11     12     13     14     15     16     17     18     19     20     21 \n",
      "     3      4      3      3      2      3      2      1      2      2      2 \n",
      "    22     23     24     25     50 \n",
      "     4      1      1      1      1 \n",
      " previous_bookings_not_canceled\n",
      " Min.   : 0.00000              \n",
      " 1st Qu.: 0.00000              \n",
      " Median : 0.00000              \n",
      " Mean   : 0.02436              \n",
      " 3rd Qu.: 0.00000              \n",
      " Max.   :50.00000              \n",
      "[1] \"description of booking_changes :\"\n",
      "\n",
      "    0     1     2     3     4     5     6     7     8     9    10    11    12 \n",
      "88645 10020  3037   696   286    83    54    26    14     8     6     1     2 \n",
      "   13    14    15    16    17    18 \n",
      "    5     3     3     2     2     1 \n",
      " booking_changes  \n",
      " Min.   : 0.0000  \n",
      " 1st Qu.: 0.0000  \n",
      " Median : 0.0000  \n",
      " Mean   : 0.2018  \n",
      " 3rd Qu.: 0.0000  \n",
      " Max.   :18.0000  \n",
      "[1] \"description of total_of_special_requests :\"\n",
      "\n",
      "    0     1     2     3     4     5 \n",
      "57956 30441 11964  2232   272    29 \n",
      " total_of_special_requests\n",
      " Min.   :0.0000           \n",
      " 1st Qu.:0.0000           \n",
      " Median :0.0000           \n",
      " Mean   :0.6055           \n",
      " 3rd Qu.:1.0000           \n",
      " Max.   :5.0000           \n"
     ]
    }
   ],
   "source": [
    "#previous_cancellations :Number of previous bookings that were cancelled by the customer prior to the current booking\n",
    "#previous_bookings_not_canceled : Number of previous bookings not cancelled by the customer prior to the current booking\n",
    "c <- c('previous_cancellations','previous_bookings_not_canceled','booking_changes','total_of_special_requests')\n",
    "num_data_c <- data_ini[c]\n",
    "for( i in 1:ncol(num_data_c)){\n",
    "print(paste('description of',c[i],':'))\n",
    "print(table(num_data_c[,i]))\n",
    "print(summary(num_data_c[,i]))}\n",
    "data_ini<- data_ini%>%mutate(previous_cancellations = ifelse(previous_cancellations==0,0,'1 or more'),\n",
    "                        previous_bookings_not_canceled = ifelse(previous_bookings_not_canceled ==0,0,\"1 or more\"),\n",
    "                        booking_changes = ifelse(booking_changes == 0, 0,\"1 or more\"),\n",
    "                        total_of_special_requests = ifelse(total_of_special_requests == 0,0,\n",
    "                                                           ifelse(total_of_special_requests == 1,1,'2 or more')))"
   ]
  },
  {
   "cell_type": "markdown",
   "metadata": {},
   "source": [
    "#### 2.4 特征编码\n",
    "截至目前为止，数据一共有4个类别型变量，19个数值型变量，1个二元目标变量，为了方便接下来的建模分析，我们需要对类别型变量进行编码.                \n",
    "字段编码分为两种：One-hot独热编码 以及 labelencoder           \n",
    "对于拥有两个类别的变量，我们采用labelencode，拥有两个及以上的变量并且可以单独将一个类作为一个新列，我们则可以采用独热编码，                      \n",
    "在这里我们用dummyVars 实现独热编码创造虚拟变量,这个目的是可以将非连续性变量不同取值看作一个新的特征。            "
   ]
  },
  {
   "cell_type": "code",
   "execution_count": 21,
   "metadata": {},
   "outputs": [],
   "source": [
    "#We convert the the categorical variables into boolean values (One-hot encoding)\n",
    "dummy <- dummyVars(\" ~ .\", data=data_ini,fullRank = TRUE)\n",
    "\n",
    "data_modeltrs <- data.frame(predict(dummy,newdata =data_ini))"
   ]
  },
  {
   "cell_type": "code",
   "execution_count": 22,
   "metadata": {
    "scrolled": true
   },
   "outputs": [
    {
     "name": "stdout",
     "output_type": "stream",
     "text": [
      "Rows: 102,894\n",
      "Columns: 74\n",
      "$ hotelResort.Hotel                       \u001b[3m\u001b[90m<dbl>\u001b[39m\u001b[23m 0, 0, 1, 1, 1, 1, 1, 1, 1, ...\n",
      "$ is_canceled                             \u001b[3m\u001b[90m<dbl>\u001b[39m\u001b[23m 1, 0, 1, 1, 0, 0, 0, 1, 0, ...\n",
      "$ lead_time2                              \u001b[3m\u001b[90m<dbl>\u001b[39m\u001b[23m 1, 0, 0, 1, 1, 0, 0, 0, 0, ...\n",
      "$ lead_time3                              \u001b[3m\u001b[90m<dbl>\u001b[39m\u001b[23m 0, 0, 0, 0, 0, 1, 0, 1, 0, ...\n",
      "$ lead_time4                              \u001b[3m\u001b[90m<dbl>\u001b[39m\u001b[23m 0, 0, 1, 0, 0, 0, 0, 0, 0, ...\n",
      "$ arrival_date_month10                    \u001b[3m\u001b[90m<dbl>\u001b[39m\u001b[23m 0, 0, 0, 0, 0, 0, 0, 0, 0, ...\n",
      "$ arrival_date_month11                    \u001b[3m\u001b[90m<dbl>\u001b[39m\u001b[23m 0, 0, 0, 0, 0, 0, 0, 0, 0, ...\n",
      "$ arrival_date_month12                    \u001b[3m\u001b[90m<dbl>\u001b[39m\u001b[23m 0, 0, 0, 0, 0, 0, 0, 0, 0, ...\n",
      "$ arrival_date_month2                     \u001b[3m\u001b[90m<dbl>\u001b[39m\u001b[23m 0, 0, 0, 0, 0, 0, 0, 0, 0, ...\n",
      "$ arrival_date_month3                     \u001b[3m\u001b[90m<dbl>\u001b[39m\u001b[23m 1, 0, 0, 0, 0, 0, 0, 0, 0, ...\n",
      "$ arrival_date_month4                     \u001b[3m\u001b[90m<dbl>\u001b[39m\u001b[23m 0, 0, 0, 0, 0, 0, 0, 0, 0, ...\n",
      "$ arrival_date_month5                     \u001b[3m\u001b[90m<dbl>\u001b[39m\u001b[23m 0, 1, 0, 0, 0, 0, 0, 0, 0, ...\n",
      "$ arrival_date_month6                     \u001b[3m\u001b[90m<dbl>\u001b[39m\u001b[23m 0, 0, 0, 0, 0, 0, 0, 0, 0, ...\n",
      "$ arrival_date_month7                     \u001b[3m\u001b[90m<dbl>\u001b[39m\u001b[23m 0, 0, 0, 0, 0, 0, 1, 0, 0, ...\n",
      "$ arrival_date_month8                     \u001b[3m\u001b[90m<dbl>\u001b[39m\u001b[23m 0, 0, 1, 1, 1, 1, 0, 1, 1, ...\n",
      "$ arrival_date_month9                     \u001b[3m\u001b[90m<dbl>\u001b[39m\u001b[23m 0, 0, 0, 0, 0, 0, 0, 0, 0, ...\n",
      "$ stays_in_weekend_nights1                \u001b[3m\u001b[90m<dbl>\u001b[39m\u001b[23m 0, 0, 0, 0, 0, 0, 0, 0, 0, ...\n",
      "$ stays_in_weekend_nights2                \u001b[3m\u001b[90m<dbl>\u001b[39m\u001b[23m 0, 0, 0, 1, 1, 1, 0, 1, 0, ...\n",
      "$ stays_in_weekend_nights3                \u001b[3m\u001b[90m<dbl>\u001b[39m\u001b[23m 0, 0, 0, 0, 0, 0, 1, 0, 0, ...\n",
      "$ stays_in_weekend_nightsmore.than.3.     \u001b[3m\u001b[90m<dbl>\u001b[39m\u001b[23m 0, 0, 1, 0, 0, 0, 0, 0, 0, ...\n",
      "$ stays_in_week_nights1                   \u001b[3m\u001b[90m<dbl>\u001b[39m\u001b[23m 1, 1, 0, 0, 0, 0, 0, 0, 0, ...\n",
      "$ stays_in_week_nights2                   \u001b[3m\u001b[90m<dbl>\u001b[39m\u001b[23m 0, 0, 0, 0, 0, 0, 0, 0, 0, ...\n",
      "$ stays_in_week_nights3                   \u001b[3m\u001b[90m<dbl>\u001b[39m\u001b[23m 0, 0, 0, 0, 0, 1, 0, 0, 1, ...\n",
      "$ stays_in_week_nightsmore.than.3         \u001b[3m\u001b[90m<dbl>\u001b[39m\u001b[23m 0, 0, 1, 1, 1, 0, 1, 1, 0, ...\n",
      "$ adults2                                 \u001b[3m\u001b[90m<dbl>\u001b[39m\u001b[23m 1, 0, 1, 1, 1, 0, 0, 1, 1, ...\n",
      "$ adultsother.values                      \u001b[3m\u001b[90m<dbl>\u001b[39m\u001b[23m 0, 0, 0, 0, 0, 1, 1, 0, 0, ...\n",
      "$ children1.or.more                       \u001b[3m\u001b[90m<dbl>\u001b[39m\u001b[23m 0, 0, 0, 1, 1, 1, 1, 1, 0, ...\n",
      "$ babies1.or.more                         \u001b[3m\u001b[90m<dbl>\u001b[39m\u001b[23m 0, 0, 0, 0, 0, 0, 0, 0, 0, ...\n",
      "$ mealFB                                  \u001b[3m\u001b[90m<dbl>\u001b[39m\u001b[23m 0, 0, 0, 1, 0, 0, 0, 0, 0, ...\n",
      "$ mealHB                                  \u001b[3m\u001b[90m<dbl>\u001b[39m\u001b[23m 0, 0, 0, 0, 0, 1, 1, 1, 1, ...\n",
      "$ mealSC                                  \u001b[3m\u001b[90m<dbl>\u001b[39m\u001b[23m 0, 0, 0, 0, 0, 0, 0, 0, 0, ...\n",
      "$ mealUndefined                           \u001b[3m\u001b[90m<dbl>\u001b[39m\u001b[23m 0, 0, 0, 0, 1, 0, 0, 0, 0, ...\n",
      "$ market_segmentComplementary             \u001b[3m\u001b[90m<dbl>\u001b[39m\u001b[23m 0, 0, 0, 0, 0, 0, 0, 0, 0, ...\n",
      "$ market_segmentCorporate                 \u001b[3m\u001b[90m<dbl>\u001b[39m\u001b[23m 0, 0, 0, 0, 0, 0, 0, 0, 0, ...\n",
      "$ market_segmentDirect                    \u001b[3m\u001b[90m<dbl>\u001b[39m\u001b[23m 0, 0, 0, 1, 1, 0, 1, 1, 0, ...\n",
      "$ market_segmentGroups                    \u001b[3m\u001b[90m<dbl>\u001b[39m\u001b[23m 0, 0, 0, 0, 0, 0, 0, 0, 0, ...\n",
      "$ market_segmentOffline.TA.TO             \u001b[3m\u001b[90m<dbl>\u001b[39m\u001b[23m 1, 1, 0, 0, 0, 0, 0, 0, 0, ...\n",
      "$ market_segmentOnline.TA                 \u001b[3m\u001b[90m<dbl>\u001b[39m\u001b[23m 0, 0, 1, 0, 0, 1, 0, 0, 1, ...\n",
      "$ distribution_channelDirect              \u001b[3m\u001b[90m<dbl>\u001b[39m\u001b[23m 0, 0, 0, 1, 1, 0, 1, 1, 0, ...\n",
      "$ distribution_channelGDS                 \u001b[3m\u001b[90m<dbl>\u001b[39m\u001b[23m 0, 0, 0, 0, 0, 0, 0, 0, 0, ...\n",
      "$ distribution_channelTA.TO               \u001b[3m\u001b[90m<dbl>\u001b[39m\u001b[23m 1, 1, 1, 0, 0, 1, 0, 0, 1, ...\n",
      "$ is_repeated_guest                       \u001b[3m\u001b[90m<dbl>\u001b[39m\u001b[23m 0, 0, 0, 0, 0, 0, 0, 0, 0, ...\n",
      "$ previous_cancellations1.or.more         \u001b[3m\u001b[90m<dbl>\u001b[39m\u001b[23m 0, 0, 0, 0, 0, 0, 0, 0, 0, ...\n",
      "$ previous_bookings_not_canceled1.or.more \u001b[3m\u001b[90m<dbl>\u001b[39m\u001b[23m 0, 0, 0, 0, 0, 0, 0, 0, 0, ...\n",
      "$ reserved_room_typeB                     \u001b[3m\u001b[90m<dbl>\u001b[39m\u001b[23m 0, 0, 0, 0, 0, 0, 0, 0, 0, ...\n",
      "$ reserved_room_typeC                     \u001b[3m\u001b[90m<dbl>\u001b[39m\u001b[23m 0, 0, 0, 0, 0, 0, 0, 0, 0, ...\n",
      "$ reserved_room_typeD                     \u001b[3m\u001b[90m<dbl>\u001b[39m\u001b[23m 0, 0, 0, 0, 0, 0, 0, 0, 0, ...\n",
      "$ reserved_room_typeE                     \u001b[3m\u001b[90m<dbl>\u001b[39m\u001b[23m 0, 0, 0, 0, 0, 0, 0, 0, 0, ...\n",
      "$ reserved_room_typeF                     \u001b[3m\u001b[90m<dbl>\u001b[39m\u001b[23m 0, 0, 0, 0, 0, 0, 0, 1, 0, ...\n",
      "$ reserved_room_typeG                     \u001b[3m\u001b[90m<dbl>\u001b[39m\u001b[23m 0, 0, 0, 0, 1, 0, 0, 0, 1, ...\n",
      "$ reserved_room_typeH                     \u001b[3m\u001b[90m<dbl>\u001b[39m\u001b[23m 0, 0, 0, 1, 0, 1, 1, 0, 0, ...\n",
      "$ assigned_room_typeB                     \u001b[3m\u001b[90m<dbl>\u001b[39m\u001b[23m 0, 0, 0, 0, 0, 0, 0, 0, 0, ...\n",
      "$ assigned_room_typeC                     \u001b[3m\u001b[90m<dbl>\u001b[39m\u001b[23m 0, 0, 0, 0, 0, 0, 0, 0, 0, ...\n",
      "$ assigned_room_typeD                     \u001b[3m\u001b[90m<dbl>\u001b[39m\u001b[23m 0, 0, 0, 0, 0, 0, 0, 0, 0, ...\n",
      "$ assigned_room_typeE                     \u001b[3m\u001b[90m<dbl>\u001b[39m\u001b[23m 0, 0, 0, 0, 0, 0, 0, 0, 0, ...\n",
      "$ assigned_room_typeF                     \u001b[3m\u001b[90m<dbl>\u001b[39m\u001b[23m 0, 0, 0, 0, 0, 0, 0, 1, 0, ...\n",
      "$ assigned_room_typeG                     \u001b[3m\u001b[90m<dbl>\u001b[39m\u001b[23m 0, 1, 0, 0, 1, 0, 0, 0, 1, ...\n",
      "$ assigned_room_typeH                     \u001b[3m\u001b[90m<dbl>\u001b[39m\u001b[23m 0, 0, 0, 1, 0, 1, 1, 0, 0, ...\n",
      "$ assigned_room_typeI                     \u001b[3m\u001b[90m<dbl>\u001b[39m\u001b[23m 0, 0, 0, 0, 0, 0, 0, 0, 0, ...\n",
      "$ assigned_room_typeK                     \u001b[3m\u001b[90m<dbl>\u001b[39m\u001b[23m 0, 0, 0, 0, 0, 0, 0, 0, 0, ...\n",
      "$ booking_changes1.or.more                \u001b[3m\u001b[90m<dbl>\u001b[39m\u001b[23m 1, 0, 0, 1, 0, 1, 1, 1, 1, ...\n",
      "$ deposit_typeNon.Refund                  \u001b[3m\u001b[90m<dbl>\u001b[39m\u001b[23m 1, 0, 0, 0, 0, 0, 0, 0, 0, ...\n",
      "$ deposit_typeRefundable                  \u001b[3m\u001b[90m<dbl>\u001b[39m\u001b[23m 0, 0, 0, 0, 0, 0, 0, 0, 0, ...\n",
      "$ agent2                                  \u001b[3m\u001b[90m<dbl>\u001b[39m\u001b[23m 1, 0, 0, 0, 0, 0, 0, 0, 0, ...\n",
      "$ agent3                                  \u001b[3m\u001b[90m<dbl>\u001b[39m\u001b[23m 0, 1, 1, 1, 1, 1, 1, 1, 1, ...\n",
      "$ days_in_waiting_list1.or.more           \u001b[3m\u001b[90m<dbl>\u001b[39m\u001b[23m 0, 0, 0, 0, 0, 0, 0, 0, 0, ...\n",
      "$ customer_typeGroup                      \u001b[3m\u001b[90m<dbl>\u001b[39m\u001b[23m 0, 0, 0, 0, 0, 0, 0, 0, 0, ...\n",
      "$ customer_typeTransient                  \u001b[3m\u001b[90m<dbl>\u001b[39m\u001b[23m 1, 1, 1, 1, 1, 1, 1, 1, 1, ...\n",
      "$ customer_typeTransient.Party            \u001b[3m\u001b[90m<dbl>\u001b[39m\u001b[23m 0, 0, 0, 0, 0, 0, 0, 0, 0, ...\n",
      "$ required_car_parking_spaces1            \u001b[3m\u001b[90m<dbl>\u001b[39m\u001b[23m 0, 0, 0, 0, 0, 0, 0, 0, 1, ...\n",
      "$ required_car_parking_spaces2            \u001b[3m\u001b[90m<dbl>\u001b[39m\u001b[23m 0, 0, 0, 0, 0, 0, 0, 0, 0, ...\n",
      "$ required_car_parking_spaces3            \u001b[3m\u001b[90m<dbl>\u001b[39m\u001b[23m 0, 0, 0, 0, 0, 0, 0, 0, 0, ...\n",
      "$ total_of_special_requests1              \u001b[3m\u001b[90m<dbl>\u001b[39m\u001b[23m 0, 0, 0, 0, 0, 1, 1, 0, 1, ...\n",
      "$ total_of_special_requests2.or.more      \u001b[3m\u001b[90m<dbl>\u001b[39m\u001b[23m 0, 0, 0, 0, 1, 0, 0, 0, 0, ...\n"
     ]
    }
   ],
   "source": [
    "glimpse(data_modeltrs)"
   ]
  },
  {
   "cell_type": "markdown",
   "metadata": {},
   "source": [
    "### 3 划分训练集与测试集\n",
    "我们按照7：3的比例，随机将数据集分成训练集与测试集"
   ]
  },
  {
   "cell_type": "code",
   "execution_count": 23,
   "metadata": {},
   "outputs": [],
   "source": [
    "#Hold-out set\n",
    "#split dataset into training set (70%)and testing set(30%)\n",
    "set.seed(1024)\n",
    "data_modeltrs <- data_modeltrs%>%mutate(is_canceled = as.factor(is_canceled))\n",
    "train_index <- sample(1:nrow(data_modeltrs),0.7*nrow(data_modeltrs))\n",
    "test_index <- setdiff(1:nrow(data_modeltrs), train_index)\n",
    "\n",
    "# bulid train and test dataset\n",
    "train <- data_modeltrs[train_index,]  # for the use of modeling\n",
    "test<- data_modeltrs[test_index,]"
   ]
  },
  {
   "cell_type": "markdown",
   "metadata": {},
   "source": [
    "###  4 特征筛选\n",
    "特征筛选分为：过滤器，包装器以及嵌入式筛选 \n",
    "* 过滤器筛选指的是 利用 目标变量与自变量之间的相关性之类的指标，不需要依靠建模，在数据预处理阶段就可以对特征进行排名实现特征筛选。           \n",
    "常见方法有：卡方检验卡方值筛选法，方差分析筛选法，T检验统计值筛选法，随机森林特征重要性筛选法等等               \n",
    "* 包装器筛选指的是 可以从原有特征集筛选出最优特征子集，再给定评估指标，从而返回最佳的分数。\n",
    "常见方法有：序列向前/后浮动筛选法，穷举法，减r增l法以及遗传算法等等          \n",
    "* 嵌入式筛选指的是 将特征筛选和用来最后给数据建模的模型结合起来，模型建立过程中就能够根据自身带来的系数或者其他相关衡量排名指标而实现对特征的筛选。   \n",
    "常见方法有：逻辑回归模型系数           \n",
    "本项目利用 过滤器中的随机森林的特征重要性来进行特征筛选。特征重要性的计算方法基于袋外数据OOB的准确率来进行特征筛选的，具体可以详细参考generateFilterValuesData（）的method参数介绍，官方网址为https://mlr.mlr-org.com/articles/tutorial/filter_methods.html"
   ]
  },
  {
   "cell_type": "code",
   "execution_count": 507,
   "metadata": {},
   "outputs": [],
   "source": [
    "#define a classification task for festure selection of `mlr`\n",
    "\n",
    "train.task <- makeClassifTask(data = train,target = 'is_canceled')\n",
    "\n",
    "# use filter method `random forest importance` for festure selection\n",
    "\n",
    "var_importance <- generateFilterValuesData(train.task,\n",
    "                method = 'randomForest_importance')"
   ]
  },
  {
   "cell_type": "code",
   "execution_count": 571,
   "metadata": {},
   "outputs": [
    {
     "data": {
      "text/html": [
       "<table>\n",
       "<caption>A data.frame: 10 × 4</caption>\n",
       "<thead>\n",
       "\t<tr><th scope=col>name</th><th scope=col>type</th><th scope=col>filter</th><th scope=col>value</th></tr>\n",
       "\t<tr><th scope=col>&lt;chr&gt;</th><th scope=col>&lt;chr&gt;</th><th scope=col>&lt;fct&gt;</th><th scope=col>&lt;dbl&gt;</th></tr>\n",
       "</thead>\n",
       "<tbody>\n",
       "\t<tr><td>previous_cancellations1.or.more   </td><td>numeric</td><td>randomForest_importance</td><td>88.82323</td></tr>\n",
       "\t<tr><td>total_of_special_requests1        </td><td>numeric</td><td>randomForest_importance</td><td>86.75581</td></tr>\n",
       "\t<tr><td>total_of_special_requests2.or.more</td><td>numeric</td><td>randomForest_importance</td><td>83.25729</td></tr>\n",
       "\t<tr><td>deposit_typeNon.Refund            </td><td>numeric</td><td>randomForest_importance</td><td>78.48452</td></tr>\n",
       "\t<tr><td>required_car_parking_spaces1      </td><td>numeric</td><td>randomForest_importance</td><td>77.86700</td></tr>\n",
       "\t<tr><td>lead_time2                        </td><td>numeric</td><td>randomForest_importance</td><td>77.85149</td></tr>\n",
       "\t<tr><td>lead_time4                        </td><td>numeric</td><td>randomForest_importance</td><td>71.24750</td></tr>\n",
       "\t<tr><td>booking_changes1.or.more          </td><td>numeric</td><td>randomForest_importance</td><td>71.05977</td></tr>\n",
       "\t<tr><td>lead_time3                        </td><td>numeric</td><td>randomForest_importance</td><td>70.61711</td></tr>\n",
       "\t<tr><td>agent2                            </td><td>numeric</td><td>randomForest_importance</td><td>68.21471</td></tr>\n",
       "</tbody>\n",
       "</table>\n"
      ],
      "text/latex": [
       "A data.frame: 10 × 4\n",
       "\\begin{tabular}{llll}\n",
       " name & type & filter & value\\\\\n",
       " <chr> & <chr> & <fct> & <dbl>\\\\\n",
       "\\hline\n",
       "\t previous\\_cancellations1.or.more    & numeric & randomForest\\_importance & 88.82323\\\\\n",
       "\t total\\_of\\_special\\_requests1         & numeric & randomForest\\_importance & 86.75581\\\\\n",
       "\t total\\_of\\_special\\_requests2.or.more & numeric & randomForest\\_importance & 83.25729\\\\\n",
       "\t deposit\\_typeNon.Refund             & numeric & randomForest\\_importance & 78.48452\\\\\n",
       "\t required\\_car\\_parking\\_spaces1       & numeric & randomForest\\_importance & 77.86700\\\\\n",
       "\t lead\\_time2                         & numeric & randomForest\\_importance & 77.85149\\\\\n",
       "\t lead\\_time4                         & numeric & randomForest\\_importance & 71.24750\\\\\n",
       "\t booking\\_changes1.or.more           & numeric & randomForest\\_importance & 71.05977\\\\\n",
       "\t lead\\_time3                         & numeric & randomForest\\_importance & 70.61711\\\\\n",
       "\t agent2                             & numeric & randomForest\\_importance & 68.21471\\\\\n",
       "\\end{tabular}\n"
      ],
      "text/markdown": [
       "\n",
       "A data.frame: 10 × 4\n",
       "\n",
       "| name &lt;chr&gt; | type &lt;chr&gt; | filter &lt;fct&gt; | value &lt;dbl&gt; |\n",
       "|---|---|---|---|\n",
       "| previous_cancellations1.or.more    | numeric | randomForest_importance | 88.82323 |\n",
       "| total_of_special_requests1         | numeric | randomForest_importance | 86.75581 |\n",
       "| total_of_special_requests2.or.more | numeric | randomForest_importance | 83.25729 |\n",
       "| deposit_typeNon.Refund             | numeric | randomForest_importance | 78.48452 |\n",
       "| required_car_parking_spaces1       | numeric | randomForest_importance | 77.86700 |\n",
       "| lead_time2                         | numeric | randomForest_importance | 77.85149 |\n",
       "| lead_time4                         | numeric | randomForest_importance | 71.24750 |\n",
       "| booking_changes1.or.more           | numeric | randomForest_importance | 71.05977 |\n",
       "| lead_time3                         | numeric | randomForest_importance | 70.61711 |\n",
       "| agent2                             | numeric | randomForest_importance | 68.21471 |\n",
       "\n"
      ],
      "text/plain": [
       "   name                               type    filter                  value   \n",
       "1  previous_cancellations1.or.more    numeric randomForest_importance 88.82323\n",
       "2  total_of_special_requests1         numeric randomForest_importance 86.75581\n",
       "3  total_of_special_requests2.or.more numeric randomForest_importance 83.25729\n",
       "4  deposit_typeNon.Refund             numeric randomForest_importance 78.48452\n",
       "5  required_car_parking_spaces1       numeric randomForest_importance 77.86700\n",
       "6  lead_time2                         numeric randomForest_importance 77.85149\n",
       "7  lead_time4                         numeric randomForest_importance 71.24750\n",
       "8  booking_changes1.or.more           numeric randomForest_importance 71.05977\n",
       "9  lead_time3                         numeric randomForest_importance 70.61711\n",
       "10 agent2                             numeric randomForest_importance 68.21471"
      ]
     },
     "metadata": {},
     "output_type": "display_data"
    },
    {
     "data": {
      "image/png": "[encoded data removed]",
      "text/plain": [
       "plot without title"
      ]
     },
     "metadata": {
      "image/png": {
       "height": 720,
       "width": 660
      },
      "text/plain": {
       "height": 720,
       "width": 660
      }
     },
     "output_type": "display_data"
    }
   ],
   "source": [
    "plotFilterValues(var_importance,sort = 'inc') + \n",
    "    coord_flip()+theme_bw() +\n",
    "    labs(title = 'Randomforest feature importance')\n",
    "\n",
    "imp_df <- var_importance$data\n",
    "\n",
    "imp_df%>%arrange(desc(value))%>%slice(1:10)\n",
    "\n"
   ]
  },
  {
   "cell_type": "markdown",
   "metadata": {},
   "source": [
    "## 四. 数据探索性分析--可视化"
   ]
  },
  {
   "cell_type": "markdown",
   "metadata": {},
   "source": [
    "接下来，我们将前十个最重要特征筛选出来，并进行可视化分析，对用户进行画像刻画\n",
    "* 首先观察`previous_cancellations` 与 酒店预定取消率的关系，可见，当用户再次之前取消过酒店一次或一次以上，取消率高达大约97%；\n",
    "而当用户之前没有取消过，则取消率仅为37%左右\n",
    "* 对于`total_of_special_requests`，当用户提出特殊要求时，比如说1个或者2个以及以上，用户订单取消率较低，大约23%，而当用户没有提出特殊要求，取消率高达51%左右\n",
    "* 对于`deposit_type`,我们可以发现当酒店押金不能退的时候，取消率异常高，几乎100%,而其他两种类型比如 ‘可退押金’，‘无需押金’取消率分别为 50%,30%左右。这与业务直觉逻辑不相符，一般来说，如果酒店的押金不可退，用户们应该不会倾向于取消酒店，针对该特殊情况，经过在论坛的一番查阅，造成该数据现象的原因大概是 很多用户在申请签证的过程中，证明资料需要有前往国家地区的地址这一栏，而用户的资料办理一般都是网站进行，并且选择的酒店并不会真正入住，会在酒店确认前就予以取消，并且在确认期间，用户一般填的都是虚假信用卡账号信息，所以即便到时间了银行卡也不会被扣款，用户不用担心预订酒店会造成任何损失；另外，有真正需求的用户一般不会选择 ‘Non refund’酒店类型入住；此外，我们可以结合用户预定酒店的渠道`distribution_channel` 以及 `is_canceled`，可以发现在‘Non refund’结合其他两个无押金，可退押金酒店类型用户基本都是通过 `TA/TO`渠道预定，这也可以一定程度解释上述现象。\n",
    "* 对于`required_car_parking_spaces`，我们可以发现当顾客提出但凡至少有一个停车位，酒店取消率基本为0，而如果用户没有提出停车位的要求，取消率则大概为39%\n",
    "* 对于`lead_time`，随着到达酒店的日期与预定酒单订单的日期之差的增长，酒店预定取消率逐渐升高，其中，当时间差为26天以内，取消率最低（大概19%），当时间差为26天到79天，取消率大概为37%，当时间差为79天到169天，取消率约为42%,当时间差为169天到629天，取消率超过50%,大概57%\n",
    "* 对于 `booking_changes`, 我们可以发现，随着用户预定之后修改订单的次数有1次或者1次以上，酒店预定取消率是比较低的，大概为20%，如果用户没有做出任何修改，取消率则接近40%\n",
    "* 对于`agent`，可见，当用户通过ID为0到9的代理机构预定酒店，用户取消率最高，大概为43.75%，当用户通过ID为10到85，预定取消率大约为37.5%，当用户通过ID为86到535预定酒店，取消率最低，为35.5%\n",
    "\n",
    "综上所述，我们可以总结描述出哪些用户最容易取消预定订单，这类用户具有的特征大致为以下几点（按特征重要性进行排名）：【注意：取消率百分比大小跟特征重要性排名之间不存在相关关系】             \n",
    "①之前取消过预定酒店的订单（97%取消率）                    \n",
    "②预定酒店没有提出特殊要求（51%）         \n",
    "③预定不退还押金的酒店类型（几乎100%）  \n",
    "④没有提出停车位的需求（39%）              \n",
    "⑤当选择到达酒店入住的日期距离预定酒店订单的日期时间差超过五个半月（57%）             \n",
    "⑥用户预定酒店订单后没有做出任何修改（40%）             \n",
    "⑦通过ID为0-9的代理机构预定酒店（43.75%）  "
   ]
  },
  {
   "cell_type": "code",
   "execution_count": 24,
   "metadata": {},
   "outputs": [
    {
     "data": {
      "image/png": "[encoded data removed]",
      "text/plain": [
       "plot without title"
      ]
     },
     "metadata": {
      "image/png": {
       "height": 420,
       "width": 420
      },
      "text/plain": {
       "height": 420,
       "width": 420
      }
     },
     "output_type": "display_data"
    }
   ],
   "source": [
    "data_ini%>%ggplot()+\n",
    "    geom_bar(aes(x = agent,\n",
    "                 fill =as.factor(is_canceled)),\n",
    "            position = 'fill')+\n",
    "    ylab('Prop of cancellation')+\n",
    "scale_x_discrete(labels = c( \"1\" = \"[0,9]\", \"2\"=\"(9,85]\", \"3\" = \"(85,535]\"))"
   ]
  },
  {
   "cell_type": "code",
   "execution_count": 25,
   "metadata": {
    "scrolled": true
   },
   "outputs": [
    {
     "data": {
      "image/png": "[encoded data removed]",
      "text/plain": [
       "plot without title"
      ]
     },
     "metadata": {
      "image/png": {
       "height": 720,
       "width": 660
      },
      "text/plain": {
       "height": 720,
       "width": 660
      }
     },
     "output_type": "display_data"
    },
    {
     "data": {
      "image/png": "[encoded data removed]",
      "text/plain": [
       "plot without title"
      ]
     },
     "metadata": {
      "image/png": {
       "height": 720,
       "width": 660
      },
      "text/plain": {
       "height": 720,
       "width": 660
      }
     },
     "output_type": "display_data"
    }
   ],
   "source": [
    "options(repr.plot.width = 11, repr.plot.height = 12)\n",
    "q1 <- data_ini%>% ggplot(aes(x = previous_cancellations ,y= is_canceled))+\n",
    "geom_bar(stat='summary',fun = 'mean',fill = '#FF6666')\n",
    "q2 <-data_ini%>%ggplot()+\n",
    "    geom_bar(aes(x = `total_of_special_requests`,\n",
    "                 fill =as.factor(is_canceled)),\n",
    "            position = 'fill')+\n",
    "    ylab('Prop of cancellation')\n",
    "q3 <- data_ini%>%ggplot()+\n",
    "    geom_bar(aes(x = deposit_type,\n",
    "                 fill =as.factor(is_canceled)),\n",
    "            position = 'fill')+\n",
    "    ylab('Prop of cancellation')\n",
    "q4 <- data_ini%>%ggplot()+\n",
    "    geom_bar(aes(x = distribution_channel),fill = '#FF6666')+\n",
    "    facet_wrap(~deposit_type+as.factor(is_canceled),ncol = 2,)\n",
    "q5 <- data_ini%>%ggplot()+\n",
    "    geom_bar(aes(x = as.factor(`required_car_parking_spaces`),\n",
    "                 fill =as.factor(is_canceled)),\n",
    "            position = 'fill')+\n",
    "    ylab('Prop of cancellation')\n",
    "q6<- data_ini%>%ggplot()+\n",
    "    geom_bar(aes(x =lead_time,\n",
    "                 fill =as.factor(is_canceled)),\n",
    "            position = 'fill')+\n",
    "    scale_x_discrete(breaks = c('1','2','3','4'),\n",
    "                     labels = c( \"[0,26]\",\"(26,79]\", \"(79,169]\",\"(169,629]\"))+\n",
    "    ylab('Prop of cancellation')\n",
    "q7 <- data_ini%>%ggplot()+\n",
    "    geom_bar(aes(x = booking_changes,\n",
    "                 fill =as.factor(is_canceled)),\n",
    "            position = 'fill')+\n",
    "    ylab('Prop of cancellation')\n",
    "q8 <- data_ini%>%ggplot()+\n",
    "    geom_bar(aes(x = agent,\n",
    "                 fill =as.factor(is_canceled)),\n",
    "            position = 'fill')+\n",
    "scale_x_discrete(labels = c( \"1\" = \"[0,9]\", \"2\"=\"(9,85]\", \"3\" = \"(85,535]\"))+\n",
    "    ylab('Prop of cancellation')\n",
    "q1+q2+q3+q5+q6+q7+q8+plot_layout(ncol=2)\n",
    "q4"
   ]
  },
  {
   "cell_type": "markdown",
   "metadata": {},
   "source": [
    "# 五、建模分析\n",
    "接下来，我们利用特征重要性排前十的重要特征建立逻辑回归模型，这样建立出来的模型，准确率较高并且由于模型本身的优点，可解释性也较强。\n",
    "为了可以看到每个变量带来的边际效应，我们用glm（）函数建立广义线性模型的方法来建立逻辑回归模型\n",
    "* 结果发现，除了`required_car_parking_spaces1`变量，其他自变量均统计上99%显著，为了分析`required_car_parking_spaces1`不显著的原因，我们画出 `required_car_parking_spaces` 与 取消率之间的关系，我们会发现，当required_car_parking_spaces1稍微不取0，概率值几乎为0，曲线在x=0 这个分割点分割的很开，我们发现这里有一个原因可能是 `required_car_parking_spaces1`这个变量的标准误太大了，是其他变量的600多倍，这个P值估算是根据 `Wald test`来计算的，其计算公式为$Z-statistic = \\frac{\\hatβ}{Se}$，我们发现当分母非常大时，Z值会很小，导致返回的P值则很大，这可能是`wald test`自身带来的一个bug，因为我们更换其他参数系数检验方法 `Lr test 似然比检验`,这用来比较两个嵌套模型的好坏，原假设模型的部分或者一个参数受到约束，一般我们会约束为0；结果算出来  p = 0 因此我们拒绝原假设H0 , 即 我们不剔除`required_car_parking_spaces1`，该变量对模型有重要影响。\n",
    "\n",
    "Recall that \n",
    " **Likelihood-ratio statistic** $$LR = -2 \\ln \\left[ \\frac{ \\sup_{\\theta \\in \\Theta_0} \\mathcal{L}(\\theta) }{ \\sup_{\\theta \\in \\Theta} \\mathcal{L}(\\theta) } \\right]$$ where $\\sup_{\\theta \\in \\Theta_0} \\mathcal{L}(\\theta)$  is the restricted maximized  likelihood and $\\sup_{\\theta \\in \\Theta} \\mathcal{L}(\\theta)$ is the unrestricted maximized likelihood."
   ]
  },
  {
   "cell_type": "code",
   "execution_count": 24,
   "metadata": {
    "scrolled": true
   },
   "outputs": [
    {
     "data": {
      "text/plain": [
       "\n",
       "Call:\n",
       "glm(formula = is_canceled ~ previous_cancellations1.or.more + \n",
       "    total_of_special_requests1 + total_of_special_requests2.or.more + \n",
       "    deposit_typeNon.Refund + required_car_parking_spaces1 + lead_time2 + \n",
       "    lead_time4 + booking_changes1.or.more + lead_time3 + agent2, \n",
       "    family = binomial(link = \"logit\"), data = train)\n",
       "\n",
       "Deviance Residuals: \n",
       "    Min       1Q   Median       3Q      Max  \n",
       "-3.4067  -0.8672  -0.5048   1.0992   2.7901  \n",
       "\n",
       "Coefficients:\n",
       "                                    Estimate Std. Error z value Pr(>|z|)    \n",
       "(Intercept)                         -0.77752    0.02243 -34.657   <2e-16 ***\n",
       "previous_cancellations1.or.more      4.13459    0.15364  26.911   <2e-16 ***\n",
       "total_of_special_requests1          -0.86557    0.02164 -40.007   <2e-16 ***\n",
       "total_of_special_requests2.or.more  -0.95144    0.02865 -33.203   <2e-16 ***\n",
       "deposit_typeNon.Refund               5.61299    0.16022  35.032   <2e-16 ***\n",
       "required_car_parking_spaces1       -16.56035   60.95884  -0.272    0.786    \n",
       "lead_time2                           0.85887    0.02690  31.931   <2e-16 ***\n",
       "lead_time4                           0.96435    0.02893  33.334   <2e-16 ***\n",
       "booking_changes1.or.more            -0.91157    0.03018 -30.200   <2e-16 ***\n",
       "lead_time3                           0.94666    0.02728  34.702   <2e-16 ***\n",
       "agent2                              -1.23123    0.02936 -41.930   <2e-16 ***\n",
       "---\n",
       "Signif. codes:  0 '***' 0.001 '**' 0.01 '*' 0.05 '.' 0.1 ' ' 1\n",
       "\n",
       "(Dispersion parameter for binomial family taken to be 1)\n",
       "\n",
       "    Null deviance: 96428  on 72024  degrees of freedom\n",
       "Residual deviance: 67025  on 72014  degrees of freedom\n",
       "AIC: 67047\n",
       "\n",
       "Number of Fisher Scoring iterations: 16\n"
      ]
     },
     "metadata": {},
     "output_type": "display_data"
    },
    {
     "data": {
      "text/plain": [
       "\n",
       "Call:\n",
       "glm(formula = is_canceled ~ previous_cancellations1.or.more + \n",
       "    total_of_special_requests1 + total_of_special_requests2.or.more + \n",
       "    deposit_typeNon.Refund + lead_time2 + lead_time4 + booking_changes1.or.more + \n",
       "    lead_time3 + agent2, family = binomial(link = \"logit\"), data = train)\n",
       "\n",
       "Deviance Residuals: \n",
       "    Min       1Q   Median       3Q      Max  \n",
       "-3.4012  -0.8331  -0.5317   1.1160   2.8378  \n",
       "\n",
       "Coefficients:\n",
       "                                   Estimate Std. Error z value Pr(>|z|)    \n",
       "(Intercept)                        -0.90286    0.02209  -40.87   <2e-16 ***\n",
       "previous_cancellations1.or.more     4.16786    0.15078   27.64   <2e-16 ***\n",
       "total_of_special_requests1         -0.87709    0.02136  -41.06   <2e-16 ***\n",
       "total_of_special_requests2.or.more -0.98194    0.02827  -34.73   <2e-16 ***\n",
       "deposit_typeNon.Refund              5.63468    0.16017   35.18   <2e-16 ***\n",
       "lead_time2                          0.90560    0.02651   34.16   <2e-16 ***\n",
       "lead_time4                          1.04907    0.02861   36.67   <2e-16 ***\n",
       "booking_changes1.or.more           -0.94799    0.02984  -31.77   <2e-16 ***\n",
       "lead_time3                          1.00496    0.02691   37.35   <2e-16 ***\n",
       "agent2                             -1.17590    0.02926  -40.19   <2e-16 ***\n",
       "---\n",
       "Signif. codes:  0 '***' 0.001 '**' 0.01 '*' 0.05 '.' 0.1 ' ' 1\n",
       "\n",
       "(Dispersion parameter for binomial family taken to be 1)\n",
       "\n",
       "    Null deviance: 96428  on 72024  degrees of freedom\n",
       "Residual deviance: 69316  on 72015  degrees of freedom\n",
       "AIC: 69336\n",
       "\n",
       "Number of Fisher Scoring iterations: 8\n"
      ]
     },
     "metadata": {},
     "output_type": "display_data"
    },
    {
     "data": {
      "text/plain": [
       "'log Lik.' -33512.39 (df=11)"
      ]
     },
     "metadata": {},
     "output_type": "display_data"
    },
    {
     "data": {
      "text/plain": [
       "'log Lik.' -34658.08 (df=10)"
      ]
     },
     "metadata": {},
     "output_type": "display_data"
    },
    {
     "data": {
      "text/html": [
       "1"
      ],
      "text/latex": [
       "1"
      ],
      "text/markdown": [
       "1"
      ],
      "text/plain": [
       "[1] 1"
      ]
     },
     "metadata": {},
     "output_type": "display_data"
    },
    {
     "name": "stdout",
     "output_type": "stream",
     "text": [
      "[1] \"P值:\"\n"
     ]
    },
    {
     "data": {
      "text/html": [
       "0"
      ],
      "text/latex": [
       "0"
      ],
      "text/markdown": [
       "0"
      ],
      "text/plain": [
       "[1] 0"
      ]
     },
     "metadata": {},
     "output_type": "display_data"
    }
   ],
   "source": [
    "#selection top 10 importance feature to bulid logistic regression model\n",
    "top_10 <- c('is_canceled',\n",
    "                 'previous_cancellations1.or.more',\n",
    "                    'total_of_special_requests1', \n",
    "                    'total_of_special_requests2.or.more', \n",
    "                    'deposit_typeNon.Refund',\n",
    "                    'required_car_parking_spaces1',\n",
    "                    'lead_time2', \n",
    "                    'lead_time4', \n",
    "                    'booking_changes1.or.more',\n",
    "                    'lead_time3',\n",
    "                    'agent2')\n",
    "\n",
    "#没有约束模型 H1；required_car_parking_spaces1 的系数不为0\n",
    "log_ur <-glm(is_canceled ~ previous_cancellations1.or.more+\n",
    "    total_of_special_requests1+\n",
    "    total_of_special_requests2.or.more+\n",
    "    deposit_typeNon.Refund+\n",
    "    required_car_parking_spaces1+\n",
    "    lead_time2+\n",
    "    lead_time4+\n",
    "    booking_changes1.or.more+\n",
    "    lead_time3+\n",
    "    agent2,\n",
    "    family = binomial(link = \"logit\"),data = train)\n",
    "summary(log_ur)\n",
    "\n",
    "#约束模型 H0：required_car_parking_spaces1 的系数为0\n",
    "log_r_car <-glm(is_canceled ~ previous_cancellations1.or.more+\n",
    "    total_of_special_requests1+\n",
    "    total_of_special_requests2.or.more+\n",
    "    deposit_typeNon.Refund+\n",
    "    lead_time2+\n",
    "    lead_time4+\n",
    "    booking_changes1.or.more+\n",
    "    lead_time3+\n",
    "    agent2,\n",
    "    family = binomial(link = \"logit\"),data = train)\n",
    "summary(log_r_car)\n",
    "\n",
    "# LR TEST \n",
    "logLik(log_ur) #H1\n",
    "logLik(log_r_car)#H0\n",
    "lr_car <- 2*(logLik(log_ur)[1] - logLik(log_r_car)[1])\n",
    "#chi-square statistic\n",
    "pchisq(lr_car,1)\n",
    "#p value \n",
    "print('P值:')\n",
    "1 - pchisq(lr_car,1) # p= 0 因此我们拒绝原假设H0 , 即 我们不剔除`required_car_parking_spaces1`，该变量对模型有重要影响。"
   ]
  },
  {
   "cell_type": "code",
   "execution_count": 28,
   "metadata": {},
   "outputs": [
    {
     "name": "stdout",
     "output_type": "stream",
     "text": [
      "Rows: 102,894\n",
      "Columns: 24\n",
      "$ hotel                          \u001b[3m\u001b[90m<chr>\u001b[39m\u001b[23m \"City Hotel\", \"City Hotel\", \"Resort ...\n",
      "$ is_canceled                    \u001b[3m\u001b[90m<dbl>\u001b[39m\u001b[23m 1, 0, 1, 1, 0, 0, 0, 1, 0, 1, 0, 0, ...\n",
      "$ lead_time                      \u001b[3m\u001b[90m<chr>\u001b[39m\u001b[23m \"2\", \"1\", \"4\", \"2\", \"2\", \"3\", \"1\", \"...\n",
      "$ arrival_date_month             \u001b[3m\u001b[90m<chr>\u001b[39m\u001b[23m \"3\", \"5\", \"8\", \"8\", \"8\", \"8\", \"7\", \"...\n",
      "$ stays_in_weekend_nights        \u001b[3m\u001b[90m<chr>\u001b[39m\u001b[23m \"0\", \"0\", \"more than 3 \", \"2\", \"2\", ...\n",
      "$ stays_in_week_nights           \u001b[3m\u001b[90m<chr>\u001b[39m\u001b[23m \"1\", \"1\", \"more than 3\", \"more than ...\n",
      "$ adults                         \u001b[3m\u001b[90m<chr>\u001b[39m\u001b[23m \"2\", \"1\", \"2\", \"2\", \"2\", \"other valu...\n",
      "$ children                       \u001b[3m\u001b[90m<chr>\u001b[39m\u001b[23m \"0\", \"0\", \"0\", \"1 or more\", \"1 or mo...\n",
      "$ babies                         \u001b[3m\u001b[90m<chr>\u001b[39m\u001b[23m \"0\", \"0\", \"0\", \"0\", \"0\", \"0\", \"0\", \"...\n",
      "$ meal                           \u001b[3m\u001b[90m<chr>\u001b[39m\u001b[23m \"BB\", \"BB\", \"BB\", \"FB\", \"Undefined\",...\n",
      "$ market_segment                 \u001b[3m\u001b[90m<chr>\u001b[39m\u001b[23m \"Offline TA/TO\", \"Offline TA/TO\", \"O...\n",
      "$ distribution_channel           \u001b[3m\u001b[90m<chr>\u001b[39m\u001b[23m \"TA/TO\", \"TA/TO\", \"TA/TO\", \"Direct\",...\n",
      "$ is_repeated_guest              \u001b[3m\u001b[90m<dbl>\u001b[39m\u001b[23m 0, 0, 0, 0, 0, 0, 0, 0, 0, 0, 0, 0, ...\n",
      "$ previous_cancellations         \u001b[3m\u001b[90m<chr>\u001b[39m\u001b[23m \"0\", \"0\", \"0\", \"0\", \"0\", \"0\", \"0\", \"...\n",
      "$ previous_bookings_not_canceled \u001b[3m\u001b[90m<chr>\u001b[39m\u001b[23m \"0\", \"0\", \"0\", \"0\", \"0\", \"0\", \"0\", \"...\n",
      "$ reserved_room_type             \u001b[3m\u001b[90m<chr>\u001b[39m\u001b[23m \"A\", \"A\", \"A\", \"H\", \"G\", \"H\", \"H\", \"...\n",
      "$ assigned_room_type             \u001b[3m\u001b[90m<chr>\u001b[39m\u001b[23m \"A\", \"G\", \"A\", \"H\", \"G\", \"H\", \"H\", \"...\n",
      "$ booking_changes                \u001b[3m\u001b[90m<chr>\u001b[39m\u001b[23m \"1 or more\", \"0\", \"0\", \"1 or more\", ...\n",
      "$ deposit_type                   \u001b[3m\u001b[90m<chr>\u001b[39m\u001b[23m \"Non Refund\", \"No Deposit\", \"No Depo...\n",
      "$ agent                          \u001b[3m\u001b[90m<chr>\u001b[39m\u001b[23m \"2\", \"3\", \"3\", \"3\", \"3\", \"3\", \"3\", \"...\n",
      "$ days_in_waiting_list           \u001b[3m\u001b[90m<chr>\u001b[39m\u001b[23m \"0\", \"0\", \"0\", \"0\", \"0\", \"0\", \"0\", \"...\n",
      "$ customer_type                  \u001b[3m\u001b[90m<chr>\u001b[39m\u001b[23m \"Transient\", \"Transient\", \"Transient...\n",
      "$ required_car_parking_spaces    \u001b[3m\u001b[90m<chr>\u001b[39m\u001b[23m \"0\", \"0\", \"0\", \"0\", \"0\", \"0\", \"0\", \"...\n",
      "$ total_of_special_requests      \u001b[3m\u001b[90m<chr>\u001b[39m\u001b[23m \"0\", \"0\", \"0\", \"0\", \"2 or more\", \"1\"...\n"
     ]
    }
   ],
   "source": [
    "glimpse(data_ini)"
   ]
  },
  {
   "cell_type": "code",
   "execution_count": 30,
   "metadata": {},
   "outputs": [
    {
     "name": "stderr",
     "output_type": "stream",
     "text": [
      "`geom_smooth()` using formula 'y ~ x'\n",
      "\n",
      "Warning message:\n",
      "\"glm.fit: fitted probabilities numerically 0 or 1 occurred\"\n"
     ]
    },
    {
     "data": {
      "image/png": "[encoded data removed]",
      "text/plain": [
       "plot without title"
      ]
     },
     "metadata": {
      "image/png": {
       "height": 420,
       "width": 420
      },
      "text/plain": {
       "height": 420,
       "width": 420
      }
     },
     "output_type": "display_data"
    }
   ],
   "source": [
    "#Plot the required_car_parking_spaces with `is_canceled` using data_ini_test which treat  required_car_parking_spaces as numeric var\n",
    "\n",
    "data_ini %>%\n",
    "    ggplot(aes(x = as.numeric(required_car_parking_spaces),y = is_canceled))+\n",
    "    geom_point()+\n",
    "    geom_smooth(\n",
    "        method = 'glm',\n",
    "        method.args = list(family = binomial(link = 'logit')))+\n",
    "    ggtitle('Logistic regression')+\n",
    "    labs(y = 'Propability of cancelling booking/P(is_canceled =1),')"
   ]
  },
  {
   "cell_type": "markdown",
   "metadata": {},
   "source": [
    "# 六. 边际效应 \n",
    "逻辑回归目标函数: $$log(odd  ratio) = log(\\frac{p(x)}{1-p(x)}) = β^TX$$\n",
    "Sigmoid函数转化后:\n",
    "$$p(x) = \\frac{e^{β^TX}}{(1+e^{β^TX})}$$\n",
    "\n",
    "* Note: p(x) mean the propability of canceling booking hotel by customers given x.\n",
    "\n",
    "Marginal effect pf $x_k$$$\\frac{\\partial p}{\\partial x_{k}} = \\beta_{k}*p(x_k)(1-p(x_k))$$\n",
    "\n",
    "从这个边际效应结果可看到，各个自变量对因变量都会产生不同的影响，其中对于最重要的特征`previous_cancellations1.or.more`来说，在其他自变量不变情况下，每增加一单位`previous_cancellations1.or.more`，用户取消预定酒店订单的概率便增加65%"
   ]
  },
  {
   "cell_type": "code",
   "execution_count": 31,
   "metadata": {},
   "outputs": [
    {
     "data": {
      "text/html": [
       "<style>\n",
       ".dl-inline {width: auto; margin:0; padding: 0}\n",
       ".dl-inline>dt, .dl-inline>dd {float: none; width: auto; display: inline-block}\n",
       ".dl-inline>dt::after {content: \":\\0020\"; padding-right: .5ex}\n",
       ".dl-inline>dt:not(:first-of-type) {padding-left: .5ex}\n",
       "</style><dl class=dl-inline><dt>(Intercept)</dt><dd>-0.12229248407696</dd><dt>previous_cancellations1.or.more</dt><dd>0.650314139342579</dd><dt>total_of_special_requests1</dt><dd>-0.136141418503738</dd><dt>total_of_special_requests2.or.more</dt><dd>-0.149648229168127</dd><dt>deposit_typeNon.Refund</dt><dd>0.882845065455953</dd><dt>required_car_parking_spaces1</dt><dd>-2.60471367712071</dd><dt>lead_time2</dt><dd>0.135087582648864</dd><dt>lead_time4</dt><dd>0.151679537497957</dd><dt>booking_changes1.or.more</dt><dd>-0.143377012838882</dd><dt>lead_time3</dt><dd>0.148896304178603</dd><dt>agent2</dt><dd>-0.193655470920148</dd></dl>\n"
      ],
      "text/latex": [
       "\\begin{description*}\n",
       "\\item[(Intercept)] -0.12229248407696\n",
       "\\item[previous\\textbackslash{}\\_cancellations1.or.more] 0.650314139342579\n",
       "\\item[total\\textbackslash{}\\_of\\textbackslash{}\\_special\\textbackslash{}\\_requests1] -0.136141418503738\n",
       "\\item[total\\textbackslash{}\\_of\\textbackslash{}\\_special\\textbackslash{}\\_requests2.or.more] -0.149648229168127\n",
       "\\item[deposit\\textbackslash{}\\_typeNon.Refund] 0.882845065455953\n",
       "\\item[required\\textbackslash{}\\_car\\textbackslash{}\\_parking\\textbackslash{}\\_spaces1] -2.60471367712071\n",
       "\\item[lead\\textbackslash{}\\_time2] 0.135087582648864\n",
       "\\item[lead\\textbackslash{}\\_time4] 0.151679537497957\n",
       "\\item[booking\\textbackslash{}\\_changes1.or.more] -0.143377012838882\n",
       "\\item[lead\\textbackslash{}\\_time3] 0.148896304178603\n",
       "\\item[agent2] -0.193655470920148\n",
       "\\end{description*}\n"
      ],
      "text/markdown": [
       "(Intercept)\n",
       ":   -0.12229248407696previous_cancellations1.or.more\n",
       ":   0.650314139342579total_of_special_requests1\n",
       ":   -0.136141418503738total_of_special_requests2.or.more\n",
       ":   -0.149648229168127deposit_typeNon.Refund\n",
       ":   0.882845065455953required_car_parking_spaces1\n",
       ":   -2.60471367712071lead_time2\n",
       ":   0.135087582648864lead_time4\n",
       ":   0.151679537497957booking_changes1.or.more\n",
       ":   -0.143377012838882lead_time3\n",
       ":   0.148896304178603agent2\n",
       ":   -0.193655470920148\n",
       "\n"
      ],
      "text/plain": [
       "                       (Intercept)    previous_cancellations1.or.more \n",
       "                        -0.1222925                          0.6503141 \n",
       "        total_of_special_requests1 total_of_special_requests2.or.more \n",
       "                        -0.1361414                         -0.1496482 \n",
       "            deposit_typeNon.Refund       required_car_parking_spaces1 \n",
       "                         0.8828451                         -2.6047137 \n",
       "                        lead_time2                         lead_time4 \n",
       "                         0.1350876                          0.1516795 \n",
       "          booking_changes1.or.more                         lead_time3 \n",
       "                        -0.1433770                          0.1488963 \n",
       "                            agent2 \n",
       "                        -0.1936555 "
      ]
     },
     "metadata": {},
     "output_type": "display_data"
    }
   ],
   "source": [
    "LogitScalar <- mean(dlogis(predict(log_ur, type = 'link')))\n",
    "LogitScalar * coef(log_ur)"
   ]
  },
  {
   "cell_type": "markdown",
   "metadata": {},
   "source": [
    "# 七、 AB test\n",
    "### 1、样本比例检验\n",
    "关于AB test的实现可详见: https://www.rdocumentation.org/packages/stats/versions/3.6.2/topics/prop.test          \n",
    "还记得刚才有一个特征`total_of_special_requests`的不同取值分别为1，以及\"2 or more\"时，返回的取消率大概相似，这里我们想要检验这两个取值是否是否有差异，也就是不同取值是否一定会满足统计上的显著性差异，因此我们对此来做AB test检验。              \n",
    "我们可以通过ABtest 来进行，`total_of_special_requests`的不同取值设为不同样本组的不同方案，一共有两个取值，故我们设置两个方案。          \n",
    "方案一：total_of_special_requests 为1                  \n",
    "方案二：total_of_special_requests 为\"2 or more\"              "
   ]
  },
  {
   "cell_type": "code",
   "execution_count": 28,
   "metadata": {
    "scrolled": false
   },
   "outputs": [
    {
     "data": {
      "text/plain": [
       "\n",
       "        0         1 2 or more \n",
       "    57956     30441     14497 "
      ]
     },
     "metadata": {},
     "output_type": "display_data"
    },
    {
     "data": {
      "text/html": [
       "<table>\n",
       "<caption>A grouped_df: 6 × 3</caption>\n",
       "<thead>\n",
       "\t<tr><th scope=col>total_of_special_requests</th><th scope=col>is_canceled</th><th scope=col>n</th></tr>\n",
       "\t<tr><th scope=col>&lt;chr&gt;</th><th scope=col>&lt;dbl&gt;</th><th scope=col>&lt;int&gt;</th></tr>\n",
       "</thead>\n",
       "<tbody>\n",
       "\t<tr><td>0        </td><td>0</td><td>28071</td></tr>\n",
       "\t<tr><td>0        </td><td>1</td><td>29885</td></tr>\n",
       "\t<tr><td>1        </td><td>0</td><td>23375</td></tr>\n",
       "\t<tr><td>1        </td><td>1</td><td> 7066</td></tr>\n",
       "\t<tr><td>2 or more</td><td>0</td><td>11287</td></tr>\n",
       "\t<tr><td>2 or more</td><td>1</td><td> 3210</td></tr>\n",
       "</tbody>\n",
       "</table>\n"
      ],
      "text/latex": [
       "A grouped\\_df: 6 × 3\n",
       "\\begin{tabular}{lll}\n",
       " total\\_of\\_special\\_requests & is\\_canceled & n\\\\\n",
       " <chr> & <dbl> & <int>\\\\\n",
       "\\hline\n",
       "\t 0         & 0 & 28071\\\\\n",
       "\t 0         & 1 & 29885\\\\\n",
       "\t 1         & 0 & 23375\\\\\n",
       "\t 1         & 1 &  7066\\\\\n",
       "\t 2 or more & 0 & 11287\\\\\n",
       "\t 2 or more & 1 &  3210\\\\\n",
       "\\end{tabular}\n"
      ],
      "text/markdown": [
       "\n",
       "A grouped_df: 6 × 3\n",
       "\n",
       "| total_of_special_requests &lt;chr&gt; | is_canceled &lt;dbl&gt; | n &lt;int&gt; |\n",
       "|---|---|---|\n",
       "| 0         | 0 | 28071 |\n",
       "| 0         | 1 | 29885 |\n",
       "| 1         | 0 | 23375 |\n",
       "| 1         | 1 |  7066 |\n",
       "| 2 or more | 0 | 11287 |\n",
       "| 2 or more | 1 |  3210 |\n",
       "\n"
      ],
      "text/plain": [
       "  total_of_special_requests is_canceled n    \n",
       "1 0                         0           28071\n",
       "2 0                         1           29885\n",
       "3 1                         0           23375\n",
       "4 1                         1            7066\n",
       "5 2 or more                 0           11287\n",
       "6 2 or more                 1            3210"
      ]
     },
     "metadata": {},
     "output_type": "display_data"
    },
    {
     "data": {
      "image/png": "[encoded data removed]",
      "text/plain": [
       "plot without title"
      ]
     },
     "metadata": {
      "image/png": {
       "height": 720,
       "width": 660
      },
      "text/plain": {
       "height": 720,
       "width": 660
      }
     },
     "output_type": "display_data"
    }
   ],
   "source": [
    "q2\n",
    "table(data_ini$total_of_special_requests)\n",
    "data_ini %>%group_by(total_of_special_requests,is_canceled)%>%count()"
   ]
  },
  {
   "cell_type": "code",
   "execution_count": 29,
   "metadata": {
    "scrolled": true
   },
   "outputs": [
    {
     "data": {
      "text/html": [
       "<table>\n",
       "<caption>A grouped_df: 4 × 3</caption>\n",
       "<thead>\n",
       "\t<tr><th scope=col>group</th><th scope=col>is_canceled</th><th scope=col>n</th></tr>\n",
       "\t<tr><th scope=col>&lt;chr&gt;</th><th scope=col>&lt;dbl&gt;</th><th scope=col>&lt;int&gt;</th></tr>\n",
       "</thead>\n",
       "<tbody>\n",
       "\t<tr><td>A</td><td>0</td><td>3850</td></tr>\n",
       "\t<tr><td>A</td><td>1</td><td>1150</td></tr>\n",
       "\t<tr><td>B</td><td>0</td><td>3907</td></tr>\n",
       "\t<tr><td>B</td><td>1</td><td>1093</td></tr>\n",
       "</tbody>\n",
       "</table>\n"
      ],
      "text/latex": [
       "A grouped\\_df: 4 × 3\n",
       "\\begin{tabular}{lll}\n",
       " group & is\\_canceled & n\\\\\n",
       " <chr> & <dbl> & <int>\\\\\n",
       "\\hline\n",
       "\t A & 0 & 3850\\\\\n",
       "\t A & 1 & 1150\\\\\n",
       "\t B & 0 & 3907\\\\\n",
       "\t B & 1 & 1093\\\\\n",
       "\\end{tabular}\n"
      ],
      "text/markdown": [
       "\n",
       "A grouped_df: 4 × 3\n",
       "\n",
       "| group &lt;chr&gt; | is_canceled &lt;dbl&gt; | n &lt;int&gt; |\n",
       "|---|---|---|\n",
       "| A | 0 | 3850 |\n",
       "| A | 1 | 1150 |\n",
       "| B | 0 | 3907 |\n",
       "| B | 1 | 1093 |\n",
       "\n"
      ],
      "text/plain": [
       "  group is_canceled n   \n",
       "1 A     0           3850\n",
       "2 A     1           1150\n",
       "3 B     0           3907\n",
       "4 B     1           1093"
      ]
     },
     "metadata": {},
     "output_type": "display_data"
    },
    {
     "data": {
      "text/html": [
       "<table>\n",
       "<caption>A tibble: 2 × 2</caption>\n",
       "<thead>\n",
       "\t<tr><th scope=col>group</th><th scope=col>mean</th></tr>\n",
       "\t<tr><th scope=col>&lt;chr&gt;</th><th scope=col>&lt;dbl&gt;</th></tr>\n",
       "</thead>\n",
       "<tbody>\n",
       "\t<tr><td>A</td><td>0.2300</td></tr>\n",
       "\t<tr><td>B</td><td>0.2186</td></tr>\n",
       "</tbody>\n",
       "</table>\n"
      ],
      "text/latex": [
       "A tibble: 2 × 2\n",
       "\\begin{tabular}{ll}\n",
       " group & mean\\\\\n",
       " <chr> & <dbl>\\\\\n",
       "\\hline\n",
       "\t A & 0.2300\\\\\n",
       "\t B & 0.2186\\\\\n",
       "\\end{tabular}\n"
      ],
      "text/markdown": [
       "\n",
       "A tibble: 2 × 2\n",
       "\n",
       "| group &lt;chr&gt; | mean &lt;dbl&gt; |\n",
       "|---|---|\n",
       "| A | 0.2300 |\n",
       "| B | 0.2186 |\n",
       "\n"
      ],
      "text/plain": [
       "  group mean  \n",
       "1 A     0.2300\n",
       "2 B     0.2186"
      ]
     },
     "metadata": {},
     "output_type": "display_data"
    },
    {
     "data": {
      "text/plain": [
       "\n",
       "\t2-sample test for equality of proportions with continuity correction\n",
       "\n",
       "data:  c(1181, 1119) out of c(5000, 5000)\n",
       "X-squared = 2.1011, df = 1, p-value = 0.1472\n",
       "alternative hypothesis: two.sided\n",
       "95 percent confidence interval:\n",
       " -0.004294541  0.029094541\n",
       "sample estimates:\n",
       "prop 1 prop 2 \n",
       "0.2362 0.2238 \n"
      ]
     },
     "metadata": {},
     "output_type": "display_data"
    },
    {
     "name": "stdout",
     "output_type": "stream",
     "text": [
      "[1] \"Z:1.47343012975136\"\n"
     ]
    },
    {
     "data": {
      "text/html": [
       "0.0703175454872776"
      ],
      "text/latex": [
       "0.0703175454872776"
      ],
      "text/markdown": [
       "0.0703175454872776"
      ],
      "text/plain": [
       "[1] 0.07031755"
      ]
     },
     "metadata": {},
     "output_type": "display_data"
    }
   ],
   "source": [
    "#设置分组， A组:previous_cancellations取值为 0， B组：previous_cancellations取值为'1 or more'\n",
    "A_group <- data_ini%>%filter(total_of_special_requests =='1')\n",
    "#A_group%>%summarise(mean = mean(is_canceled))\n",
    "B_group <- data_ini%>%filter(total_of_special_requests == '2 or more')\n",
    "#B_group%>%summarise(mean = mean(is_canceled))\n",
    "A_group <- A_group%>%mutate(group = 'A')\n",
    "B_group <- B_group%>%mutate(group = 'B')\n",
    "#分别A组和B组随机抽取5000个样本\n",
    "sample_A <- sample_n(A_group,size = 5000)\n",
    "sample_B <- sample_n(B_group,size = 5000)\n",
    "sample_data <- rbind(sample_A,sample_B)\n",
    "sample_data %>%group_by(group,is_canceled)%>%count()\n",
    "sample_data %>%group_by(group)%>%summarise(mean = mean(is_canceled))\n",
    "\n",
    "\n",
    "# install.packages (\"pwr\")\n",
    "library (pwr)\n",
    "# ######## 2-sample test for equality of proportions ############\n",
    "# H0: Group A - Group B  <= 0.62\n",
    "# H1: Group A - Group B > 0.62\n",
    "prop.test(c(1181, 1119), c(5000, 5000))\n",
    "\n",
    "p1 <- 1181/5000\n",
    "p2 <- 1119/5000\n",
    "n1 <- 5000\n",
    "n2 <- 5000\n",
    "C <- 0\n",
    "\n",
    "#print(z)\n",
    "SE <- sqrt((p1*(1-p1)/n1 + p2*(1-p2)/n2))\n",
    "\n",
    "z = ((p1 - p2) - C)/SE\n",
    "print(paste0(\"Z:\",z))\n",
    "(1 - pnorm(abs(z),lower.tail = TRUE)) \n",
    "#P值为0.1472，因此我们无法拒绝原假设，当total_of_special_requests取值为1或者'2or more'时，两者的取消率没有显著性差异。\n"
   ]
  },
  {
   "cell_type": "markdown",
   "metadata": {},
   "source": [
    "### 2、功效检验\n",
    "由上面结果发现P值为0.1472，这说明两种情况：\n",
    "①要么这两个取值带来的取消率的确没有差异                \n",
    "②要么上述实验的功效不够大，也即样本来不够大从而导致实验犯了二类错误，使得当原假设为假的时候，我们没有做出正确的选择反而接受了原假设。                    \n",
    "因此我们考虑功效检验来检验以下上述实验的功效值，观察其功效是否足够大。\n",
    "由经验法则可得知，一般0.8为功效最常用取值，且功效取值越大，二类错误越小。                                 \n",
    "由结果可得，功效高达99.88%，因此上述实验中功效足够大，不存在我们讲的第二种情况，            \n",
    "所以当total_of_special_requests取值为1或者'2or more'时，两者的取消率没有显著性差异的结论是正确的。     "
   ]
  },
  {
   "cell_type": "code",
   "execution_count": 30,
   "metadata": {
    "scrolled": true
   },
   "outputs": [
    {
     "data": {
      "text/plain": [
       "\n",
       "     Difference of proportion power calculation for binomial distribution (arcsine transformation) \n",
       "\n",
       "              h = 0.1\n",
       "              n = 5000\n",
       "      sig.level = 0.05\n",
       "          power = 0.9988173\n",
       "    alternative = two.sided\n",
       "\n",
       "NOTE: same sample sizes\n"
      ]
     },
     "metadata": {},
     "output_type": "display_data"
    }
   ],
   "source": [
    "#我们假设效应规模为1%，n为设定的5000，α为0.05\n",
    "pwr.2p.test(h= 0.1,n=5000,sig.level = 0.05)"
   ]
  },
  {
   "cell_type": "markdown",
   "metadata": {},
   "source": [
    "# 八、预测分析\n",
    "接下来我们用训练出来的逻辑回归模型进行预测，整个过程使用 `mlr` package            \n",
    "`mlr` package 建立模型以及做预测的框架如下：\n",
    "* 1. Define the task.\n",
    "* 2. Define the learner.\n",
    "* 3. Train the model.\n",
    "* 4. Make prediction using hold out CV and 5 folds CV\n",
    "* 5. Result interpretation"
   ]
  },
  {
   "cell_type": "markdown",
   "metadata": {},
   "source": [
    "### 1、这里我们使用含有全部特征的数据集进行训练测试模型"
   ]
  },
  {
   "cell_type": "code",
   "execution_count": 640,
   "metadata": {},
   "outputs": [
    {
     "name": "stderr",
     "output_type": "stream",
     "text": [
      "Warning message:\n",
      "\"glm.fit: fitted probabilities numerically 0 or 1 occurred\"\n"
     ]
    },
    {
     "data": {
      "text/plain": [
       "Prediction: 30869 observations\n",
       "predict.type: prob\n",
       "threshold: 0=0.50,1=0.50\n",
       "time: 0.03\n",
       "   truth    prob.0       prob.1 response\n",
       "6      0 0.6449950 3.550050e-01        0\n",
       "12     0 0.8795590 1.204410e-01        0\n",
       "14     0 0.9999999 9.785704e-08        0\n",
       "15     1 0.2117138 7.882862e-01        1\n",
       "16     0 1.0000000 2.884760e-08        0\n",
       "17     1 0.2081260 7.918740e-01        1\n",
       "... (#rows: 30869, #cols: 4)"
      ]
     },
     "metadata": {},
     "output_type": "display_data"
    },
    {
     "name": "stdout",
     "output_type": "stream",
     "text": [
      "[1] \"Result of Hold-out CV \"\n"
     ]
    },
    {
     "data": {
      "text/html": [
       "<style>\n",
       ".dl-inline {width: auto; margin:0; padding: 0}\n",
       ".dl-inline>dt, .dl-inline>dd {float: none; width: auto; display: inline-block}\n",
       ".dl-inline>dt::after {content: \":\\0020\"; padding-right: .5ex}\n",
       ".dl-inline>dt:not(:first-of-type) {padding-left: .5ex}\n",
       "</style><dl class=dl-inline><dt>mmce</dt><dd>0.200783958016133</dd><dt>acc</dt><dd>0.799216041983867</dd><dt>auc</dt><dd>0.86614216050249</dd><dt>f1</dt><dd>0.849116315302595</dd><dt>fpr</dt><dd>0.395603477097961</dd><dt>fnr</dt><dd>0.077492726791854</dd></dl>\n"
      ],
      "text/latex": [
       "\\begin{description*}\n",
       "\\item[mmce] 0.200783958016133\n",
       "\\item[acc] 0.799216041983867\n",
       "\\item[auc] 0.86614216050249\n",
       "\\item[f1] 0.849116315302595\n",
       "\\item[fpr] 0.395603477097961\n",
       "\\item[fnr] 0.077492726791854\n",
       "\\end{description*}\n"
      ],
      "text/markdown": [
       "mmce\n",
       ":   0.200783958016133acc\n",
       ":   0.799216041983867auc\n",
       ":   0.86614216050249f1\n",
       ":   0.849116315302595fpr\n",
       ":   0.395603477097961fnr\n",
       ":   0.077492726791854\n",
       "\n"
      ],
      "text/plain": [
       "      mmce        acc        auc         f1        fpr        fnr \n",
       "0.20078396 0.79921604 0.86614216 0.84911632 0.39560348 0.07749273 "
      ]
     },
     "metadata": {},
     "output_type": "display_data"
    },
    {
     "data": {
      "text/plain": [
       "Relative confusion matrix (normalized by row/column):\n",
       "        predicted\n",
       "true     0         1         -err.-   \n",
       "  0      0.92/0.79 0.08/0.17 0.08     \n",
       "  1      0.40/0.21 0.60/0.83 0.40     \n",
       "  -err.-      0.21      0.17 0.20     \n",
       "\n",
       "\n",
       "Absolute confusion matrix:\n",
       "        predicted\n",
       "true         0    1 -err.-\n",
       "  0      17440 1465   1465\n",
       "  1       4733 7231   4733\n",
       "  -err.-  4733 1465   6198"
      ]
     },
     "metadata": {},
     "output_type": "display_data"
    },
    {
     "name": "stderr",
     "output_type": "stream",
     "text": [
      "Resampling: repeated cross-validation\n",
      "\n",
      "Measures:             mmce      acc       auc       f1        fpr       fnr       \n",
      "\n",
      "Warning message:\n",
      "\"glm.fit: fitted probabilities numerically 0 or 1 occurred\"\n",
      "[Resample] iter 1:    0.2052578 0.7947422 0.8649198 0.8457719 0.4057520 0.0769108 \n",
      "\n",
      "Warning message:\n",
      "\"glm.fit: fitted probabilities numerically 0 or 1 occurred\"\n",
      "[Resample] iter 2:    0.2035669 0.7964331 0.8631406 0.8467196 0.4000249 0.0777937 \n",
      "\n",
      "[Resample] iter 3:    0.2024295 0.7975705 0.8646776 0.8475221 0.3979833 0.0772296 \n",
      "\n",
      "Warning message:\n",
      "\"glm.fit: fitted probabilities numerically 0 or 1 occurred\"\n",
      "[Resample] iter 4:    0.1972009 0.8027991 0.8693151 0.8508637 0.3844622 0.0773155 \n",
      "\n",
      "Warning message:\n",
      "\"glm.fit: fitted probabilities numerically 0 or 1 occurred\"\n",
      "[Resample] iter 5:    0.1999125 0.8000875 0.8637780 0.8490164 0.3901892 0.0781063 \n",
      "\n",
      "Warning message:\n",
      "\"glm.fit: fitted probabilities numerically 0 or 1 occurred\"\n",
      "[Resample] iter 6:    0.2038000 0.7962000 0.8642496 0.8464299 0.3990289 0.0788236 \n",
      "\n",
      "Warning message:\n",
      "\"glm.fit: fitted probabilities numerically 0 or 1 occurred\"\n",
      "[Resample] iter 7:    0.2030324 0.7969676 0.8649050 0.8470381 0.3984064 0.0779531 \n",
      "\n",
      "[Resample] iter 8:    0.2006317 0.7993683 0.8646372 0.8490587 0.3977343 0.0744401 \n",
      "\n",
      "Warning message:\n",
      "\"glm.fit: fitted probabilities numerically 0 or 1 occurred\"\n",
      "[Resample] iter 9:    0.2027309 0.7972691 0.8641608 0.8466966 0.3916833 0.0817725 \n",
      "\n",
      "Warning message:\n",
      "\"glm.fit: fitted probabilities numerically 0 or 1 occurred\"\n",
      "[Resample] iter 10:   0.1996307 0.8003693 0.8673544 0.8497989 0.3962898 0.0737287 \n",
      "\n",
      "Warning message:\n",
      "\"glm.fit: fitted probabilities numerically 0 or 1 occurred\"\n",
      "[Resample] iter 11:   0.2028183 0.7971817 0.8639994 0.8470614 0.3966140 0.0787439 \n",
      "\n",
      "Warning message:\n",
      "\"glm.fit: fitted probabilities numerically 0 or 1 occurred\"\n",
      "[Resample] iter 12:   0.2027309 0.7972691 0.8658061 0.8475592 0.4012699 0.0756356 \n",
      "\n",
      "[Resample] iter 13:   0.1984644 0.8015356 0.8699646 0.8505890 0.3937998 0.0734099 \n",
      "\n",
      "Warning message:\n",
      "\"glm.fit: fitted probabilities numerically 0 or 1 occurred\"\n",
      "[Resample] iter 14:   0.2033627 0.7966373 0.8624671 0.8469332 0.4003984 0.0772296 \n",
      "\n",
      "Warning message:\n",
      "\"glm.fit: fitted probabilities numerically 0 or 1 occurred\"\n",
      "[Resample] iter 15:   0.2022062 0.7977938 0.8631597 0.8468813 0.3886952 0.0828152 \n",
      "\n",
      "Warning message:\n",
      "\"glm.fit: fitted probabilities numerically 0 or 1 occurred\"\n",
      "[Resample] iter 16:   0.2043345 0.7956655 0.8603568 0.8465608 0.4056275 0.0754762 \n",
      "\n",
      "[Resample] iter 17:   0.2030711 0.7969289 0.8668672 0.8467153 0.3951693 0.0800988 \n",
      "\n",
      "Warning message:\n",
      "\"glm.fit: fitted probabilities numerically 0 or 1 occurred\"\n",
      "[Resample] iter 18:   0.2051606 0.7948394 0.8622274 0.8456194 0.4032118 0.0783517 \n",
      "\n",
      "Warning message:\n",
      "\"glm.fit: fitted probabilities numerically 0 or 1 occurred\"\n",
      "[Resample] iter 19:   0.2019147 0.7980853 0.8665128 0.8475733 0.3935508 0.0792284 \n",
      "\n",
      "Warning message:\n",
      "\"glm.fit: fitted probabilities numerically 0 or 1 occurred\"\n",
      "[Resample] iter 20:   0.1962680 0.8037320 0.8698936 0.8516873 0.3845867 0.0757153 \n",
      "\n",
      "Warning message:\n",
      "\"glm.fit: fitted probabilities numerically 0 or 1 occurred\"\n",
      "[Resample] iter 21:   0.1996307 0.8003693 0.8669989 0.8491702 0.3891932 0.0782720 \n",
      "\n",
      "Warning message:\n",
      "\"glm.fit: fitted probabilities numerically 0 or 1 occurred\"\n",
      "[Resample] iter 22:   0.2050534 0.7949466 0.8634773 0.8459404 0.4057015 0.0765920 \n",
      "\n",
      "[Resample] iter 23:   0.1989503 0.8010497 0.8682776 0.8497504 0.3890687 0.0772358 \n",
      "\n",
      "Warning message:\n",
      "\"glm.fit: fitted probabilities numerically 0 or 1 occurred\"\n",
      "[Resample] iter 24:   0.2028281 0.7971719 0.8622658 0.8468931 0.3947958 0.0799394 \n",
      "\n",
      "Warning message:\n",
      "\"glm.fit: fitted probabilities numerically 0 or 1 occurred\"\n",
      "[Resample] iter 25:   0.2032169 0.7967831 0.8642317 0.8471268 0.4011454 0.0765123 \n",
      "\n",
      "Warning message:\n",
      "\"glm.fit: fitted probabilities numerically 0 or 1 occurred\"\n",
      "[Resample] iter 26:   0.2024394 0.7975606 0.8642831 0.8472426 0.3949956 0.0791487 \n",
      "\n",
      "[Resample] iter 27:   0.1988435 0.8011565 0.8677447 0.8500989 0.3919323 0.0752371 \n",
      "\n",
      "Warning message:\n",
      "\"glm.fit: fitted probabilities numerically 0 or 1 occurred\"\n",
      "[Resample] iter 28:   0.2062297 0.7937703 0.8605533 0.8445080 0.4011454 0.0814537 \n",
      "\n",
      "Warning message:\n",
      "\"glm.fit: fitted probabilities numerically 0 or 1 occurred\"\n",
      "[Resample] iter 29:   0.1987949 0.8012051 0.8685396 0.8501301 0.3918078 0.0752371 \n",
      "\n",
      "Warning message:\n",
      "\"glm.fit: fitted probabilities numerically 0 or 1 occurred\"\n",
      "[Resample] iter 30:   0.2041015 0.7958985 0.8645537 0.8463115 0.4006474 0.0782720 \n",
      "\n",
      "Warning message:\n",
      "\"glm.fit: fitted probabilities numerically 0 or 1 occurred\"\n",
      "[Resample] iter 31:   0.2015259 0.7984741 0.8643574 0.8480006 0.3945468 0.0779531 \n",
      "\n",
      "Warning message:\n",
      "\"glm.fit: fitted probabilities numerically 0 or 1 occurred\"\n",
      "[Resample] iter 32:   0.2029352 0.7970648 0.8669208 0.8466397 0.3930528 0.0812211 \n",
      "\n",
      "[Resample] iter 33:   0.2000583 0.7999417 0.8652170 0.8493431 0.3952938 0.0750777 \n",
      "\n",
      "Warning message:\n",
      "\"glm.fit: fitted probabilities numerically 0 or 1 occurred\"\n",
      "[Resample] iter 34:   0.2010690 0.7989310 0.8670322 0.8482248 0.3926304 0.0784251 \n",
      "\n",
      "Warning message:\n",
      "\"glm.fit: fitted probabilities numerically 0 or 1 occurred\"\n",
      "[Resample] iter 35:   0.2037028 0.7962972 0.8617512 0.8469067 0.4033865 0.0758747 \n",
      "\n",
      "[Resample] iter 36:   0.2014675 0.7985325 0.8660511 0.8480985 0.3950448 0.0775484 \n",
      "\n",
      "Warning message:\n",
      "\"glm.fit: fitted probabilities numerically 0 or 1 occurred\"\n",
      "[Resample] iter 37:   0.2026239 0.7973761 0.8654574 0.8476991 0.4018424 0.0750777 \n",
      "\n",
      "Warning message:\n",
      "\"glm.fit: fitted probabilities numerically 0 or 1 occurred\"\n",
      "[Resample] iter 38:   0.2024006 0.7975994 0.8660379 0.8471167 0.3931773 0.0802646 \n",
      "\n",
      "Warning message:\n",
      "\"glm.fit: fitted probabilities numerically 0 or 1 occurred\"\n",
      "[Resample] iter 39:   0.2026338 0.7973662 0.8621365 0.8470062 0.3941733 0.0800191 \n",
      "\n",
      "Warning message:\n",
      "\"glm.fit: fitted probabilities numerically 0 or 1 occurred\"\n",
      "[Resample] iter 40:   0.2005540 0.7994460 0.8659415 0.8488777 0.3949203 0.0761199 \n",
      "\n",
      "[Resample] iter 41:   0.2029838 0.7970162 0.8620271 0.8469571 0.3970369 0.0787502 \n",
      "\n",
      "Warning message:\n",
      "\"glm.fit: fitted probabilities numerically 0 or 1 occurred\"\n",
      "[Resample] iter 42:   0.2009428 0.7990572 0.8670615 0.8480394 0.3893177 0.0803443 \n",
      "\n",
      "Warning message:\n",
      "\"glm.fit: fitted probabilities numerically 0 or 1 occurred\"\n",
      "[Resample] iter 43:   0.2005442 0.7994558 0.8641971 0.8489330 0.3954183 0.0757950 \n",
      "\n",
      "Warning message:\n",
      "\"glm.fit: fitted probabilities numerically 0 or 1 occurred\"\n",
      "[Resample] iter 44:   0.2027795 0.7972205 0.8671016 0.8476841 0.4031375 0.0745198 \n",
      "\n",
      "Warning message:\n",
      "\"glm.fit: fitted probabilities numerically 0 or 1 occurred\"\n",
      "[Resample] iter 45:   0.2015063 0.7984937 0.8653201 0.8479783 0.3941242 0.0781860 \n",
      "\n",
      "Warning message:\n",
      "\"glm.fit: fitted probabilities numerically 0 or 1 occurred\"\n",
      "[Resample] iter 46:   0.1966663 0.8033337 0.8712278 0.8514154 0.3854582 0.0758011 \n",
      "\n",
      "Warning message:\n",
      "\"glm.fit: fitted probabilities numerically 0 or 1 occurred\"\n",
      "[Resample] iter 47:   0.2020020 0.7979980 0.8651932 0.8477791 0.3966633 0.0773890 \n",
      "\n",
      "[Resample] iter 48:   0.2060739 0.7939261 0.8604956 0.8448169 0.4030873 0.0799394 \n",
      "\n",
      "Warning message:\n",
      "\"glm.fit: fitted probabilities numerically 0 or 1 occurred\"\n",
      "[Resample] iter 49:   0.2035570 0.7964430 0.8632614 0.8471112 0.4042580 0.0750777 \n",
      "\n",
      "Warning message:\n",
      "\"glm.fit: fitted probabilities numerically 0 or 1 occurred\"\n",
      "[Resample] iter 50:   0.2011371 0.7988629 0.8646092 0.8476573 0.3869522 0.0821776 \n",
      "\n",
      "\n",
      "\n",
      "\n",
      "Aggregated Result: mmce.test.mean=0.2019155,acc.test.mean=0.7980845,auc.test.mean=0.8650943,f1.test.mean=0.8477911,fpr.test.mean=0.3959687,fnr.test.mean=0.0776848\n",
      "\n",
      "\n",
      "\n",
      "\n"
     ]
    },
    {
     "name": "stdout",
     "output_type": "stream",
     "text": [
      "[1] \"Result of 5-folds CV for 50 times\"\n"
     ]
    },
    {
     "data": {
      "text/html": [
       "<style>\n",
       ".dl-inline {width: auto; margin:0; padding: 0}\n",
       ".dl-inline>dt, .dl-inline>dd {float: none; width: auto; display: inline-block}\n",
       ".dl-inline>dt::after {content: \":\\0020\"; padding-right: .5ex}\n",
       ".dl-inline>dt:not(:first-of-type) {padding-left: .5ex}\n",
       "</style><dl class=dl-inline><dt>mmce.test.mean</dt><dd>0.201915540734024</dd><dt>acc.test.mean</dt><dd>0.798084459265976</dd><dt>auc.test.mean</dt><dd>0.865094323568953</dd><dt>f1.test.mean</dt><dd>0.847791054267181</dd><dt>fpr.test.mean</dt><dd>0.395968655565712</dd><dt>fnr.test.mean</dt><dd>0.0776848109612559</dd></dl>\n"
      ],
      "text/latex": [
       "\\begin{description*}\n",
       "\\item[mmce.test.mean] 0.201915540734024\n",
       "\\item[acc.test.mean] 0.798084459265976\n",
       "\\item[auc.test.mean] 0.865094323568953\n",
       "\\item[f1.test.mean] 0.847791054267181\n",
       "\\item[fpr.test.mean] 0.395968655565712\n",
       "\\item[fnr.test.mean] 0.0776848109612559\n",
       "\\end{description*}\n"
      ],
      "text/markdown": [
       "mmce.test.mean\n",
       ":   0.201915540734024acc.test.mean\n",
       ":   0.798084459265976auc.test.mean\n",
       ":   0.865094323568953f1.test.mean\n",
       ":   0.847791054267181fpr.test.mean\n",
       ":   0.395968655565712fnr.test.mean\n",
       ":   0.0776848109612559\n",
       "\n"
      ],
      "text/plain": [
       "mmce.test.mean  acc.test.mean  auc.test.mean   f1.test.mean  fpr.test.mean \n",
       "    0.20191554     0.79808446     0.86509432     0.84779105     0.39596866 \n",
       " fnr.test.mean \n",
       "    0.07768481 "
      ]
     },
     "metadata": {},
     "output_type": "display_data"
    }
   ],
   "source": [
    "#1 Define two classification tasks just for camparasion of results \n",
    "\n",
    "## One task used with  hold-out CV\n",
    " \n",
    "data_modeltrs$is_canceled <- as.factor(data_modeltrs$is_canceled)\n",
    "\n",
    "train.task <- makeClassifTask(data = train,\n",
    "                              target = 'is_canceled')\n",
    "\n",
    "## Another task used with 5 folds CV. \n",
    "### why 5 folds CV→ Return more stable results and prevent overfitting.\n",
    "task_10fold <- makeClassifTask(data = data_modeltrs,\n",
    "                               target = 'is_canceled')\n",
    "#2 Define a logistic regression learner\n",
    "logReg <- makeLearner('classif.logreg',predict.type = \"prob\")\n",
    "\n",
    "#3 Train our model\n",
    "logRegModel <- train(logReg,train.task)\n",
    "\n",
    "#4 make predition\n",
    "logpre <- predict(logRegModel, newdata = test)\n",
    "\n",
    "logpre\n",
    "# evaluate performance \n",
    "\n",
    "print('Result of Hold-out CV ')\n",
    "performance(logpre,measures =list(mmce,acc,auc,f1,fpr,fnr))\n",
    "\n",
    "#confusion matrix\n",
    "calculateConfusionMatrix(logpre, relative = TRUE)\n",
    "\n",
    "#5-folds cross validation \n",
    "kFold <- makeResampleDesc(method = 'RepCV', folds =5, stratify = TRUE)\n",
    "kFoldCV <- resample(learner = logReg,\n",
    "                   task = task_10fold,\n",
    "                   resampling = kFold , measures = list(mmce,acc,auc,f1,fpr,fnr))\n",
    "print('Result of 5-folds CV for 50 times')\n",
    "kFoldCV$aggr\n"
   ]
  },
  {
   "cell_type": "markdown",
   "metadata": {},
   "source": [
    "### 2、这里我们尝试只使用仅涵盖前十个重要特征的数据集来训练测试模型，以此来对比结果\n",
    "可发现，使用全部特征训练模型测试出来的结果更优，因此我们采纳由全部特征跑出来的模型结果"
   ]
  },
  {
   "cell_type": "code",
   "execution_count": 639,
   "metadata": {},
   "outputs": [
    {
     "data": {
      "text/plain": [
       "Prediction: 30869 observations\n",
       "predict.type: prob\n",
       "threshold: 0=0.50,1=0.50\n",
       "time: 0.45\n",
       "   truth    prob.0       prob.1 response\n",
       "6      0 0.8331322 1.668678e-01        0\n",
       "12     0 0.8559015 1.440985e-01        0\n",
       "14     0 1.0000000 1.202209e-08        0\n",
       "15     1 0.4534259 5.465741e-01        1\n",
       "16     0 1.0000000 1.242653e-08        0\n",
       "17     1 0.4578148 5.421852e-01        1\n",
       "... (#rows: 30869, #cols: 4)"
      ]
     },
     "metadata": {},
     "output_type": "display_data"
    },
    {
     "name": "stdout",
     "output_type": "stream",
     "text": [
      "[1] \"Result of Hold-out CV \"\n"
     ]
    },
    {
     "data": {
      "text/html": [
       "<style>\n",
       ".dl-inline {width: auto; margin:0; padding: 0}\n",
       ".dl-inline>dt, .dl-inline>dd {float: none; width: auto; display: inline-block}\n",
       ".dl-inline>dt::after {content: \":\\0020\"; padding-right: .5ex}\n",
       ".dl-inline>dt:not(:first-of-type) {padding-left: .5ex}\n",
       "</style><dl class=dl-inline><dt>mmce</dt><dd>0.232595808092261</dd><dt>acc</dt><dd>0.767404191907739</dd><dt>auc</dt><dd>0.816094850716303</dd><dt>f1</dt><dd>0.819143576826196</dd><dt>fpr</dt><dd>0.37905382815112</dd><dt>fnr</dt><dd>0.139910076699286</dd></dl>\n"
      ],
      "text/latex": [
       "\\begin{description*}\n",
       "\\item[mmce] 0.232595808092261\n",
       "\\item[acc] 0.767404191907739\n",
       "\\item[auc] 0.816094850716303\n",
       "\\item[f1] 0.819143576826196\n",
       "\\item[fpr] 0.37905382815112\n",
       "\\item[fnr] 0.139910076699286\n",
       "\\end{description*}\n"
      ],
      "text/markdown": [
       "mmce\n",
       ":   0.232595808092261acc\n",
       ":   0.767404191907739auc\n",
       ":   0.816094850716303f1\n",
       ":   0.819143576826196fpr\n",
       ":   0.37905382815112fnr\n",
       ":   0.139910076699286\n",
       "\n"
      ],
      "text/plain": [
       "     mmce       acc       auc        f1       fpr       fnr \n",
       "0.2325958 0.7674042 0.8160949 0.8191436 0.3790538 0.1399101 "
      ]
     },
     "metadata": {},
     "output_type": "display_data"
    },
    {
     "data": {
      "text/plain": [
       "Relative confusion matrix (normalized by row/column):\n",
       "        predicted\n",
       "true     0         1         -err.-   \n",
       "  0      0.86/0.78 0.14/0.26 0.14     \n",
       "  1      0.38/0.22 0.62/0.74 0.38     \n",
       "  -err.-      0.22      0.26 0.23     \n",
       "\n",
       "\n",
       "Absolute confusion matrix:\n",
       "        predicted\n",
       "true         0    1 -err.-\n",
       "  0      16260 2645   2645\n",
       "  1       4535 7429   4535\n",
       "  -err.-  4535 2645   7180"
      ]
     },
     "metadata": {},
     "output_type": "display_data"
    },
    {
     "name": "stderr",
     "output_type": "stream",
     "text": [
      "Resampling: repeated cross-validation\n",
      "\n",
      "Measures:             mmce      acc       auc       f1        fpr       fnr       \n",
      "\n",
      "[Resample] iter 1:    0.2366490 0.7633510 0.8148835 0.8154184 0.3834661 0.1426636 \n",
      "\n",
      "[Resample] iter 2:    0.2346939 0.7653061 0.8137089 0.8166705 0.3785634 0.1425839 \n",
      "\n",
      "[Resample] iter 3:    0.2287394 0.7712606 0.8219664 0.8211830 0.3696464 0.1385302 \n",
      "\n",
      "[Resample] iter 4:    0.2339764 0.7660236 0.8110905 0.8176067 0.3809761 0.1398741 \n",
      "\n",
      "[Resample] iter 5:    0.2326757 0.7673243 0.8163605 0.8190476 0.3832171 0.1362984 \n",
      "\n",
      "[Resample] iter 6:    0.2385441 0.7614559 0.8155006 0.8130403 0.3779880 0.1492787 \n",
      "\n",
      "[Resample] iter 7:    0.2321411 0.7678589 0.8145626 0.8184548 0.3733815 0.1417185 \n",
      "\n",
      "[Resample] iter 8:    0.2295544 0.7704456 0.8197292 0.8212367 0.3769920 0.1351718 \n",
      "\n",
      "[Resample] iter 9:    0.2324214 0.7675786 0.8154978 0.8189561 0.3803062 0.1377331 \n",
      "\n",
      "[Resample] iter 10:   0.2340736 0.7659264 0.8118853 0.8182058 0.3872012 0.1360485 \n",
      "\n",
      "[Resample] iter 11:   0.2366119 0.7633881 0.8133002 0.8154493 0.3834661 0.1425952 \n",
      "\n",
      "[Resample] iter 12:   0.2313038 0.7686962 0.8166435 0.8197243 0.3778635 0.1374831 \n",
      "\n",
      "[Resample] iter 13:   0.2327243 0.7672757 0.8147871 0.8183163 0.3769920 0.1403635 \n",
      "\n",
      "[Resample] iter 14:   0.2328587 0.7671413 0.8161903 0.8184848 0.3796066 0.1389177 \n",
      "\n",
      "[Resample] iter 15:   0.2332362 0.7667638 0.8167419 0.8179474 0.3779410 0.1405914 \n",
      "\n",
      "[Resample] iter 16:   0.2320214 0.7679786 0.8161836 0.8191219 0.3784389 0.1382801 \n",
      "\n",
      "[Resample] iter 17:   0.2309748 0.7690252 0.8161553 0.8195178 0.3732570 0.1398852 \n",
      "\n",
      "[Resample] iter 18:   0.2354342 0.7645658 0.8122803 0.8167203 0.3850847 0.1396350 \n",
      "\n",
      "[Resample] iter 19:   0.2324813 0.7675187 0.8173029 0.8180435 0.3725100 0.1428344 \n",
      "\n",
      "[Resample] iter 20:   0.2358229 0.7641771 0.8153129 0.8165287 0.3865787 0.1393162 \n",
      "\n",
      "[Resample] iter 21:   0.2340250 0.7659750 0.8156923 0.8168821 0.3748755 0.1438591 \n",
      "\n",
      "[Resample] iter 22:   0.2352884 0.7647116 0.8152606 0.8164936 0.3818476 0.1414681 \n",
      "\n",
      "[Resample] iter 23:   0.2289824 0.7710176 0.8201973 0.8216098 0.3756225 0.1351028 \n",
      "\n",
      "[Resample] iter 24:   0.2317298 0.7682702 0.8148936 0.8191437 0.3761982 0.1392365 \n",
      "\n",
      "[Resample] iter 25:   0.2367091 0.7632909 0.8117410 0.8157925 0.3873257 0.1402838 \n",
      "\n",
      "[Resample] iter 26:   0.2331989 0.7668011 0.8152192 0.8184466 0.3820966 0.1378816 \n",
      "\n",
      "[Resample] iter 27:   0.2367347 0.7632653 0.8154474 0.8149920 0.3804307 0.1447358 \n",
      "\n",
      "[Resample] iter 28:   0.2312664 0.7687336 0.8185616 0.8197007 0.3773655 0.1377331 \n",
      "\n",
      "[Resample] iter 29:   0.2342307 0.7657693 0.8133234 0.8173412 0.3807271 0.1404432 \n",
      "\n",
      "[Resample] iter 30:   0.2313038 0.7686962 0.8159445 0.8194371 0.3752490 0.1391568 \n",
      "\n",
      "[Resample] iter 31:   0.2335763 0.7664237 0.8131802 0.8184325 0.3851612 0.1365267 \n",
      "\n",
      "[Resample] iter 32:   0.2360659 0.7639341 0.8132060 0.8156077 0.3803536 0.1436997 \n",
      "\n",
      "[Resample] iter 33:   0.2280480 0.7719520 0.8212011 0.8218232 0.3696464 0.1374034 \n",
      "\n",
      "[Resample] iter 34:   0.2384585 0.7615415 0.8145922 0.8141499 0.3870767 0.1433126 \n",
      "\n",
      "[Resample] iter 35:   0.2305861 0.7694139 0.8161544 0.8199173 0.3736305 0.1390084 \n",
      "\n",
      "[Resample] iter 36:   0.2341222 0.7658778 0.8131355 0.8177347 0.3833416 0.1385989 \n",
      "\n",
      "[Resample] iter 37:   0.2303917 0.7696083 0.8185571 0.8205594 0.3778635 0.1359796 \n",
      "\n",
      "[Resample] iter 38:   0.2323355 0.7676645 0.8152628 0.8182889 0.3735060 0.1419576 \n",
      "\n",
      "[Resample] iter 39:   0.2365403 0.7634597 0.8141860 0.8153683 0.3821735 0.1433012 \n",
      "\n",
      "[Resample] iter 40:   0.2333447 0.7666553 0.8166508 0.8179682 0.3789841 0.1401132 \n",
      "\n",
      "[Resample] iter 41:   0.2300889 0.7699111 0.8217493 0.8195297 0.3659114 0.1431418 \n",
      "\n",
      "[Resample] iter 42:   0.2339650 0.7660350 0.8123377 0.8183636 0.3877754 0.1354906 \n",
      "\n",
      "[Resample] iter 43:   0.2331017 0.7668983 0.8155159 0.8179852 0.3771165 0.1409102 \n",
      "\n",
      "[Resample] iter 44:   0.2363203 0.7636797 0.8139118 0.8159419 0.3854582 0.1408417 \n",
      "\n",
      "[Resample] iter 45:   0.2332588 0.7667412 0.8139410 0.8181129 0.3796066 0.1395664 \n",
      "\n",
      "[Resample] iter 46:   0.2313038 0.7686962 0.8170487 0.8193137 0.3741285 0.1398741 \n",
      "\n",
      "[Resample] iter 47:   0.2343765 0.7656235 0.8152748 0.8177593 0.3857072 0.1374940 \n",
      "\n",
      "[Resample] iter 48:   0.2323129 0.7676871 0.8163744 0.8185923 0.3760737 0.1402726 \n",
      "\n",
      "[Resample] iter 49:   0.2345709 0.7654291 0.8133641 0.8171660 0.3819721 0.1402040 \n",
      "\n",
      "[Resample] iter 50:   0.2341708 0.7658292 0.8160304 0.8170949 0.3779880 0.1421057 \n",
      "\n",
      "\n",
      "\n",
      "\n",
      "Aggregated Result: mmce.test.mean=0.2333469,acc.test.mean=0.7666531,auc.test.mean=0.8155608,f1.test.mean=0.8179845,fpr.test.mean=0.3791738,fnr.test.mean=0.1399901\n",
      "\n",
      "\n",
      "\n",
      "\n"
     ]
    },
    {
     "name": "stdout",
     "output_type": "stream",
     "text": [
      "[1] \"Result of 5-folds CV for 50 times\"\n"
     ]
    },
    {
     "data": {
      "text/html": [
       "<style>\n",
       ".dl-inline {width: auto; margin:0; padding: 0}\n",
       ".dl-inline>dt, .dl-inline>dd {float: none; width: auto; display: inline-block}\n",
       ".dl-inline>dt::after {content: \":\\0020\"; padding-right: .5ex}\n",
       ".dl-inline>dt:not(:first-of-type) {padding-left: .5ex}\n",
       "</style><dl class=dl-inline><dt>mmce.test.mean</dt><dd>0.233346929418394</dd><dt>acc.test.mean</dt><dd>0.766653070581606</dd><dt>auc.test.mean</dt><dd>0.815560767118805</dd><dt>f1.test.mean</dt><dd>0.817984458206574</dd><dt>fpr.test.mean</dt><dd>0.379173797155459</dd><dt>fnr.test.mean</dt><dd>0.139990104225488</dd></dl>\n"
      ],
      "text/latex": [
       "\\begin{description*}\n",
       "\\item[mmce.test.mean] 0.233346929418394\n",
       "\\item[acc.test.mean] 0.766653070581606\n",
       "\\item[auc.test.mean] 0.815560767118805\n",
       "\\item[f1.test.mean] 0.817984458206574\n",
       "\\item[fpr.test.mean] 0.379173797155459\n",
       "\\item[fnr.test.mean] 0.139990104225488\n",
       "\\end{description*}\n"
      ],
      "text/markdown": [
       "mmce.test.mean\n",
       ":   0.233346929418394acc.test.mean\n",
       ":   0.766653070581606auc.test.mean\n",
       ":   0.815560767118805f1.test.mean\n",
       ":   0.817984458206574fpr.test.mean\n",
       ":   0.379173797155459fnr.test.mean\n",
       ":   0.139990104225488\n",
       "\n"
      ],
      "text/plain": [
       "mmce.test.mean  acc.test.mean  auc.test.mean   f1.test.mean  fpr.test.mean \n",
       "     0.2333469      0.7666531      0.8155608      0.8179845      0.3791738 \n",
       " fnr.test.mean \n",
       "     0.1399901 "
      ]
     },
     "metadata": {},
     "output_type": "display_data"
    }
   ],
   "source": [
    "#1 Define two classification tasks just for camparasion of results \n",
    "\n",
    "## One task used with  hold-out CV\n",
    " \n",
    "data_modeltrs$is_canceled <- as.factor(data_modeltrs$is_canceled)\n",
    "\n",
    "train.task <- makeClassifTask(data = train[top_10],\n",
    "                              target = 'is_canceled')\n",
    "\n",
    "## Another task used with 5 folds CV. \n",
    "### why 5 folds CV→ Return more stable results and prevent overfitting.\n",
    "task_10fold <- makeClassifTask(data = data_modeltrs[top_10],\n",
    "                               target = 'is_canceled')\n",
    "#2 Define a logistic regression learner\n",
    "logReg <- makeLearner('classif.logreg',predict.type = \"prob\")\n",
    "\n",
    "#3 Train our model\n",
    "logRegModel <- train(logReg,train.task)\n",
    "#4 make predition\n",
    "logpre <- predict(logRegModel, newdata = test)\n",
    "\n",
    "logpre\n",
    "# evaluate performance \n",
    "\n",
    "print('Result of Hold-out CV ')\n",
    "performance(logpre,measures =list(mmce,acc,auc,f1,fpr,fnr))\n",
    "\n",
    "#confusion matrix\n",
    "calculateConfusionMatrix(logpre, relative = TRUE)\n",
    "\n",
    "#5-folds cross validation \n",
    "kFold <- makeResampleDesc(method = 'RepCV', folds =5, stratify = TRUE)\n",
    "kFoldCV <- resample(learner = logReg,\n",
    "                   task = task_10fold,\n",
    "                   resampling = kFold , measures = list(mmce,acc,auc,f1,fpr,fnr))\n",
    "print('Result of 5-folds CV for 50 times')\n",
    "kFoldCV$aggr\n"
   ]
  },
  {
   "cell_type": "markdown",
   "metadata": {},
   "source": [
    "### 结果:\n",
    "* 结果表明交叉验证返回的结果跟hold-out验证返回的结果相似\n",
    "* 对于50次5折交叉验证，准确率为79.81%，对于Hold-out CV ,准确率为79.92%\n",
    "\n",
    "* 二类错误大概为7.7%，一类错误为39.5%左右，本项目中我们更注重二类错误，因为对于酒店经营来说，犯二类错误成本更高，也即酒店可能会损失潜在利润，因为酒店会错误地将“不好的用户”误认为“好的用户”，所以酒店在整个预定到确认入住的期间会一直为这些“不好的用户”保留客房，然而这些用户到时候并不会来入住而是会取消订单，这对那些真正有入住需求的用户无法入住。\n",
    "\n",
    "\n",
    "\n",
    "[1] \"Result of Hold-out CV\"         \n",
    "mmce  0.2008                \n",
    "acc  0.7992         \n",
    "auc  0.8661       \n",
    "f1  0.8491            \n",
    "fpr 0.3956            \n",
    "fnr 0.0774           \n",
    "             \n",
    "[2] \"Result of 10-folds CV for 50 times\"             \n",
    "mmce.test.mean 0.2019              \n",
    "acc.test.mean  0.7981              \n",
    "auc.test.mean  0.8651               \n",
    "f1.test.mean   0.8478               \n",
    "fpr.test.mean  0.3960             \n",
    "fnr.test.mean  0.0777         "
   ]
  },
  {
   "cell_type": "markdown",
   "metadata": {},
   "source": [
    "# 九、总结\n",
    "   到此为止，我们整个项目就结束了，整个过程我们做了数据清洗，特征工程，数据探索性分析，建模分析，ABtest，以及模型评估等步骤。对于数据清洗，我们对缺失值、异常值做了一系列处理；特征工程则包含了特征筛选，特征构建，特征筛选是通过随机森林特征重要性实现并从中选出前十个较为重要的，其中最重要的特征是用户之前有没有取消过订单，紧接着我们根据前十个较为重要的特征结合目标变量做了数据探索性分析，对每个特征的取值分布与订单取消率进行一个初步探索。之后我们利用逻辑回归模型对这前十个重要特征进行建模分析，并借助似然比检验检测了其中`required_car_parking_spaces1`的重要性，似然比检验给我们证明了尽管wald test 返回结果不显著，但这不一定正确，接着我们讨论了这前十个重要特征的边际效应，其中对于最重要的特征`previous_cancellations1.or.more`来说，在其他自变量不变情况下，每增加一单位previous_cancellations1.or.more，用户取消预定酒店订单的概率便增加65%。我们还进行了AB TEST，目的是为了检测特征`total_of_special_requests`的不同取值分别为1，以及\"2 or more\"时，返回的相似的取消率是否有差异，也就是不同取值是否一定会满足统计上的显著性差异，结合功效检验我们发现的确不存在差异，最后我们把覆盖所有特征的数据集重新建立逻辑回归模型并进行预测评估，得到的模型准确率接近80%，AUC值为86.5%，F1为84.8%，虽然一类错误为39.6%，但二类错误为7.77%，这个结果还可以接受，因为这对于二类错误成本比较大的酒店经营行业来说，这个结果不会带来太大的损失。                 \n",
    "   对于用户画像，我们要总结出了哪些用户倾向于取消预定订单，其具有的特征如下所示：以下的特征是利用随机森林根据特征重要性挑选出来的重要特征，括号里的百分比指的是结合`is_canceled`可视化统计出来的预订取消率。【注意：取消率百分比大小跟特征重要性排名之间不存在相关关系】          \n",
    "①之前取消过预定酒店的订单（97%取消率）                    \n",
    "②预定酒店没有提出特殊要求（51%）         \n",
    "③预定不退还押金的酒店类型（几乎100%）  \n",
    "④没有提出停车位的需求（39%）              \n",
    "⑤当选择到达酒店入住的日期距离预定酒店订单的日期时间差超过五个半月（57%）             \n",
    "⑥用户预定酒店订单后没有做出任何修改（40%）             \n",
    "⑦通过ID为0-9的代理机构预定酒店（43.75%）                        "
   ]
  },
  {
   "cell_type": "markdown",
   "metadata": {},
   "source": [
    "# 十、参考资料\n",
    "* https://rpubs.com/JanpuHou/280223\n",
    "* https://www.statmethods.net/stats/power.html\n",
    "* https://mlr.mlr-org.com/articles/tutorial/filter_methods.html\n",
    "* https://www.kaggle.com/jessemostipak/hotel-booking-demand"
   ]
  },
  {
   "cell_type": "code",
   "execution_count": null,
   "metadata": {},
   "outputs": [],
   "source": []
  }
 ],
 "metadata": {
  "kernelspec": {
   "display_name": "R",
   "language": "R",
   "name": "ir"
  },
  "language_info": {
   "codemirror_mode": "r",
   "file_extension": ".r",
   "mimetype": "text/x-r-source",
   "name": "R",
   "pygments_lexer": "r",
   "version": "4.0.0"
  }
 },
 "nbformat": 4,
 "nbformat_minor": 4
}
